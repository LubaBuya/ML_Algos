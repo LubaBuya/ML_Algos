{
 "cells": [
  {
   "cell_type": "code",
   "execution_count": 1,
   "metadata": {
    "collapsed": false
   },
   "outputs": [],
   "source": [
    "import random \n",
    "import numpy as np\n",
    "import scipy.io as spy\n",
    "from __future__ import division\n",
    "\n",
    "data_path=\"/Users/Luba/Desktop/CS189_hw7/data/\"\n",
    "mnist_data_path=data_path+\"mnist_data/\"\n",
    "\n",
    "mnist_data = spy.loadmat(mnist_data_path+\"images.mat\")"
   ]
  },
  {
   "cell_type": "code",
   "execution_count": 2,
   "metadata": {
    "collapsed": false
   },
   "outputs": [
    {
     "name": "stdout",
     "output_type": "stream",
     "text": [
      "Populating the interactive namespace from numpy and matplotlib\n"
     ]
    },
    {
     "name": "stderr",
     "output_type": "stream",
     "text": [
      "WARNING: pylab import has clobbered these variables: ['random', 'spy']\n",
      "`%matplotlib` prevents importing * from pylab and numpy\n"
     ]
    }
   ],
   "source": [
    "import matplotlib.pyplot as plt\n",
    "%pylab inline"
   ]
  },
  {
   "cell_type": "code",
   "execution_count": 4,
   "metadata": {
    "collapsed": true
   },
   "outputs": [],
   "source": [
    "####################    Problem 1    ####################"
   ]
  },
  {
   "cell_type": "code",
   "execution_count": 5,
   "metadata": {
    "collapsed": true
   },
   "outputs": [],
   "source": [
    "####################    Problem 1.1    ####################"
   ]
  },
  {
   "cell_type": "code",
   "execution_count": 3,
   "metadata": {
    "collapsed": true
   },
   "outputs": [],
   "source": [
    "raw_mnist_images = mnist_data.get('images')"
   ]
  },
  {
   "cell_type": "code",
   "execution_count": 4,
   "metadata": {
    "collapsed": false
   },
   "outputs": [
    {
     "data": {
      "text/plain": [
       "60000"
      ]
     },
     "execution_count": 4,
     "metadata": {},
     "output_type": "execute_result"
    }
   ],
   "source": [
    "len(raw_mnist_images[0][0])"
   ]
  },
  {
   "cell_type": "code",
   "execution_count": 5,
   "metadata": {
    "collapsed": false
   },
   "outputs": [],
   "source": [
    "mnist_images=[]\n",
    "for k in range(len((raw_mnist_images[0][0]))):\n",
    "    element=[]\n",
    "    for i in range(28):\n",
    "        for j in range(28):\n",
    "            element.append(raw_mnist_images[i][j][k])\n",
    "    mnist_images.append(element)"
   ]
  },
  {
   "cell_type": "code",
   "execution_count": 6,
   "metadata": {
    "collapsed": false
   },
   "outputs": [
    {
     "name": "stdout",
     "output_type": "stream",
     "text": [
      "60000\n",
      "784\n"
     ]
    }
   ],
   "source": [
    "print(len(mnist_images))\n",
    "print(len(mnist_images[0]))"
   ]
  },
  {
   "cell_type": "code",
   "execution_count": 7,
   "metadata": {
    "collapsed": true
   },
   "outputs": [],
   "source": [
    "def plot_digit(X):\n",
    "    X=np.array(X)\n",
    "    img = X.reshape(28,28)\n",
    "    plt.imshow(img, cmap='Greys',  interpolation='nearest')\n",
    "    plt.show()"
   ]
  },
  {
   "cell_type": "code",
   "execution_count": 8,
   "metadata": {
    "collapsed": true
   },
   "outputs": [],
   "source": [
    "mnist_index=range(60000)"
   ]
  },
  {
   "cell_type": "code",
   "execution_count": 9,
   "metadata": {
    "collapsed": false
   },
   "outputs": [],
   "source": [
    "random.shuffle(mnist_index)"
   ]
  },
  {
   "cell_type": "code",
   "execution_count": 10,
   "metadata": {
    "collapsed": true
   },
   "outputs": [],
   "source": [
    "#calculates square of norm of 2 vectors\n",
    "def dist_sq_calc(x,u):\n",
    "    return np.square(np.linalg.norm(x-u))"
   ]
  },
  {
   "cell_type": "code",
   "execution_count": 11,
   "metadata": {
    "collapsed": true
   },
   "outputs": [],
   "source": [
    "#calculates norm of 2 vectors\n",
    "def dist_calc(x,y):\n",
    "    return np.linalg.norm(x-y)"
   ]
  },
  {
   "cell_type": "code",
   "execution_count": 13,
   "metadata": {
    "collapsed": true
   },
   "outputs": [],
   "source": [
    "na_images=np.array(mnist_images)\n",
    "np.random.shuffle(na_images)"
   ]
  },
  {
   "cell_type": "code",
   "execution_count": 14,
   "metadata": {
    "collapsed": true
   },
   "outputs": [],
   "source": [
    "#############   when there are k=5 mean ###########"
   ]
  },
  {
   "cell_type": "code",
   "execution_count": 460,
   "metadata": {
    "collapsed": false
   },
   "outputs": [
    {
     "name": "stdout",
     "output_type": "stream",
     "text": [
      "epoch#: 20\n",
      "epoch#: 40\n",
      "epoch#: 60\n",
      "epoch#: 80\n",
      "epoch#: 100\n",
      "Total Loss when k=5: 5.6352647579e+16\n"
     ]
    }
   ],
   "source": [
    "import random \n",
    "k_means5=5\n",
    "centers_5=random.sample(mnist_index, k_means5)\n",
    "centers_5\n",
    "\n",
    "center_values_5=[]\n",
    "for z in centers_5:\n",
    "    center_values_5.append(na_images[z])\n",
    "\n",
    "list_of_lists = [[] for x in xrange(k_means5)]\n",
    "total_error=0\n",
    "for epoch in range(100):\n",
    "    if((epoch+1)%20==0 and epoch>0):\n",
    "        print(\"epoch#: \"+str(epoch+1))\n",
    "    list_of_lists = [[] for x in range(k_means5)]\n",
    "    for k in range(60000):\n",
    "        min_ind=0\n",
    "        min_dis=inf\n",
    "        for i in range(len(centers_5)):\n",
    "            dis=dist_sq_calc(center_values_5[i], na_images[k])\n",
    "            if(dis<min_dis):\n",
    "                min_dis=dis\n",
    "                min_ind=i\n",
    "        list_of_lists[min_ind].append(k)\n",
    "    center_values_5=[]\n",
    "    for li in list_of_lists:\n",
    "        center_values_5.append(np.mean(na_images[li], axis=0))\n",
    "    total_error=0\n",
    "    for i in range(5):\n",
    "        for y in list_of_lists[i]:\n",
    "            total_error+=dist_sq_calc(center_values_5[i], y)    \n",
    "    if(epoch==99):\n",
    "        print(\"Total Loss when k=5: \"+str(total_error))"
   ]
  },
  {
   "cell_type": "code",
   "execution_count": 464,
   "metadata": {
    "collapsed": true
   },
   "outputs": [],
   "source": [
    "#############   when there are k=10 mean ###########"
   ]
  },
  {
   "cell_type": "code",
   "execution_count": 465,
   "metadata": {
    "collapsed": false
   },
   "outputs": [
    {
     "name": "stdout",
     "output_type": "stream",
     "text": [
      "epoch#: 20\n",
      "epoch#: 40\n",
      "epoch#: 60\n",
      "epoch#: 80\n",
      "epoch#: 100\n",
      "Total Loss when k=10: 5.63526425485e+16\n"
     ]
    }
   ],
   "source": [
    "import random \n",
    "k_means10=10\n",
    "centers_10=random.sample(mnist_index, k_means10)\n",
    "centers_10\n",
    "\n",
    "center_values_10=[]\n",
    "for z in centers_10:\n",
    "    center_values_10.append(na_images[z])\n",
    "\n",
    "list_of_lists = [[] for x in xrange(k_means10)]\n",
    "total_error=0\n",
    "for epoch in range(100):\n",
    "    if((epoch+1)%20==0 and epoch>0):\n",
    "        print(\"epoch#: \"+str(epoch+1))\n",
    "    list_of_lists = [[] for x in range(k_means10)]\n",
    "    for k in range(60000):\n",
    "        min_ind=0\n",
    "        min_dis=inf\n",
    "        for i in range(len(centers_10)):\n",
    "            dis=dist_sq_calc(center_values_10[i], na_images[k])\n",
    "            if(dis<min_dis):\n",
    "                min_dis=dis\n",
    "                min_ind=i\n",
    "        list_of_lists[min_ind].append(k)\n",
    "  \n",
    "    center_values_10=[]\n",
    "    for li in list_of_lists:\n",
    "        center_values_10.append(np.mean(na_images[li], axis=0))\n",
    "    \n",
    "    total_error=0\n",
    "    for i in range(10):\n",
    "        for y in list_of_lists[i]:\n",
    "            total_error+=dist_sq_calc(center_values_10[i], y) \n",
    "    if(epoch==99):\n",
    "        print(\"Total Loss when k=10: \"+str(total_error))"
   ]
  },
  {
   "cell_type": "code",
   "execution_count": 470,
   "metadata": {
    "collapsed": true
   },
   "outputs": [],
   "source": [
    "############   when there are k=20 mean ###########"
   ]
  },
  {
   "cell_type": "code",
   "execution_count": 471,
   "metadata": {
    "collapsed": false
   },
   "outputs": [
    {
     "name": "stdout",
     "output_type": "stream",
     "text": [
      "epoch#: 20\n",
      "epoch#: 40\n",
      "epoch#: 60\n",
      "epoch#: 80\n",
      "epoch#: 100\n",
      "Total Loss when k=20: 5.63526721733e+16\n"
     ]
    }
   ],
   "source": [
    "import random \n",
    "k_means20=20\n",
    "centers_20=random.sample(mnist_index, k_means20)\n",
    "centers_20\n",
    "\n",
    "center_values_20=[]\n",
    "for z in centers_20:\n",
    "    center_values_20.append(na_images[z])\n",
    "\n",
    "list_of_lists = [[] for x in range(k_means20)]\n",
    "for epoch in range(100):\n",
    "    if((epoch+1)%20==0 and epoch>0):\n",
    "        print(\"epoch#: \"+str(epoch+1))\n",
    "    list_of_lists = [[] for x in range(k_means20)]\n",
    "    for k in range(60000):\n",
    "        min_ind=0\n",
    "        min_dis=inf\n",
    "        for i in range(len(centers_20)):\n",
    "            dis=dist_sq_calc(center_values_20[i], na_images[k])\n",
    "            if(dis<min_dis):\n",
    "                min_dis=dis\n",
    "                min_ind=i\n",
    "        list_of_lists[min_ind].append(k)\n",
    "    center_values_20=[]\n",
    "    for li in list_of_lists:\n",
    "        center_values_20.append(np.mean(na_images[li], axis=0))\n",
    "    \n",
    "    total_error=0\n",
    "    for i in range(20):\n",
    "        for y in list_of_lists[i]:\n",
    "            total_error+=dist_sq_calc(center_values_20[i], y)\n",
    "    if(epoch==99):\n",
    "        print(\"Total Loss when k=20: \"+str(total_error))"
   ]
  },
  {
   "cell_type": "code",
   "execution_count": 474,
   "metadata": {
    "collapsed": true
   },
   "outputs": [],
   "source": [
    "####################    Problem 1.2    ####################"
   ]
  },
  {
   "cell_type": "code",
   "execution_count": 475,
   "metadata": {
    "collapsed": true
   },
   "outputs": [],
   "source": [
    "############   when there are k=5 mean ###########"
   ]
  },
  {
   "cell_type": "code",
   "execution_count": 476,
   "metadata": {
    "collapsed": false
   },
   "outputs": [
    {
     "data": {
      "image/png": "[encoded data removed]",
      "text/plain": [
       "<matplotlib.figure.Figure at 0x193c89b90>"
      ]
     },
     "metadata": {},
     "output_type": "display_data"
    }
   ],
   "source": [
    "plot_digit(list(center_values_5[0]))"
   ]
  },
  {
   "cell_type": "code",
   "execution_count": 477,
   "metadata": {
    "collapsed": false
   },
   "outputs": [
    {
     "data": {
      "image/png": "[encoded data removed]",
      "text/plain": [
       "<matplotlib.figure.Figure at 0x1964d6490>"
      ]
     },
     "metadata": {},
     "output_type": "display_data"
    }
   ],
   "source": [
    "plot_digit(list(center_values_5[1]))"
   ]
  },
  {
   "cell_type": "code",
   "execution_count": 478,
   "metadata": {
    "collapsed": false
   },
   "outputs": [
    {
     "data": {
      "image/png": "[encoded data removed]",
      "text/plain": [
       "<matplotlib.figure.Figure at 0x1966d2c50>"
      ]
     },
     "metadata": {},
     "output_type": "display_data"
    }
   ],
   "source": [
    "plot_digit(list(center_values_5[2]))"
   ]
  },
  {
   "cell_type": "code",
   "execution_count": 479,
   "metadata": {
    "collapsed": false
   },
   "outputs": [
    {
     "data": {
      "image/png": "[encoded data removed]",
      "text/plain": [
       "<matplotlib.figure.Figure at 0x1967c60d0>"
      ]
     },
     "metadata": {},
     "output_type": "display_data"
    }
   ],
   "source": [
    "plot_digit(list(center_values_5[3]))"
   ]
  },
  {
   "cell_type": "code",
   "execution_count": 480,
   "metadata": {
    "collapsed": false
   },
   "outputs": [
    {
     "data": {
      "image/png": "[encoded data removed]",
      "text/plain": [
       "<matplotlib.figure.Figure at 0x1969eb0d0>"
      ]
     },
     "metadata": {},
     "output_type": "display_data"
    }
   ],
   "source": [
    "plot_digit(list(center_values_5[4]))"
   ]
  },
  {
   "cell_type": "code",
   "execution_count": 481,
   "metadata": {
    "collapsed": true
   },
   "outputs": [],
   "source": [
    "############   when there are k=10 mean ###########"
   ]
  },
  {
   "cell_type": "code",
   "execution_count": 482,
   "metadata": {
    "collapsed": false
   },
   "outputs": [
    {
     "data": {
      "image/png": "[encoded data removed]",
      "text/plain": [
       "<matplotlib.figure.Figure at 0x19d079d50>"
      ]
     },
     "metadata": {},
     "output_type": "display_data"
    }
   ],
   "source": [
    "plot_digit(list(center_values_10[0]))"
   ]
  },
  {
   "cell_type": "code",
   "execution_count": 483,
   "metadata": {
    "collapsed": false
   },
   "outputs": [
    {
     "data": {
      "image/png": "[encoded data removed]",
      "text/plain": [
       "<matplotlib.figure.Figure at 0x19d169b10>"
      ]
     },
     "metadata": {},
     "output_type": "display_data"
    }
   ],
   "source": [
    "plot_digit(list(center_values_10[1]))"
   ]
  },
  {
   "cell_type": "code",
   "execution_count": 484,
   "metadata": {
    "collapsed": false
   },
   "outputs": [
    {
     "data": {
      "image/png": "[encoded data removed]",
      "text/plain": [
       "<matplotlib.figure.Figure at 0x193259d50>"
      ]
     },
     "metadata": {},
     "output_type": "display_data"
    }
   ],
   "source": [
    "plot_digit(list(center_values_10[2]))"
   ]
  },
  {
   "cell_type": "code",
   "execution_count": 485,
   "metadata": {
    "collapsed": false
   },
   "outputs": [
    {
     "data": {
      "image/png": "[encoded data removed]",
      "text/plain": [
       "<matplotlib.figure.Figure at 0x19337cc10>"
      ]
     },
     "metadata": {},
     "output_type": "display_data"
    }
   ],
   "source": [
    "plot_digit(list(center_values_10[3]))"
   ]
  },
  {
   "cell_type": "code",
   "execution_count": 486,
   "metadata": {
    "collapsed": false
   },
   "outputs": [
    {
     "data": {
      "image/png": "[encoded data removed]",
      "text/plain": [
       "<matplotlib.figure.Figure at 0x1932187d0>"
      ]
     },
     "metadata": {},
     "output_type": "display_data"
    }
   ],
   "source": [
    "plot_digit(list(center_values_10[4]))"
   ]
  },
  {
   "cell_type": "code",
   "execution_count": 487,
   "metadata": {
    "collapsed": false
   },
   "outputs": [
    {
     "data": {
      "image/png": "[encoded data removed]",
      "text/plain": [
       "<matplotlib.figure.Figure at 0x19d093e50>"
      ]
     },
     "metadata": {},
     "output_type": "display_data"
    }
   ],
   "source": [
    "plot_digit(list(center_values_10[5]))"
   ]
  },
  {
   "cell_type": "code",
   "execution_count": 488,
   "metadata": {
    "collapsed": false
   },
   "outputs": [
    {
     "data": {
      "image/png": "[encoded data removed]",
      "text/plain": [
       "<matplotlib.figure.Figure at 0x1694fddd0>"
      ]
     },
     "metadata": {},
     "output_type": "display_data"
    }
   ],
   "source": [
    "plot_digit(list(center_values_10[6]))"
   ]
  },
  {
   "cell_type": "code",
   "execution_count": 489,
   "metadata": {
    "collapsed": false
   },
   "outputs": [
    {
     "data": {
      "image/png": "[encoded data removed]",
      "text/plain": [
       "<matplotlib.figure.Figure at 0x19d07ea10>"
      ]
     },
     "metadata": {},
     "output_type": "display_data"
    }
   ],
   "source": [
    "plot_digit(list(center_values_10[7]))"
   ]
  },
  {
   "cell_type": "code",
   "execution_count": 490,
   "metadata": {
    "collapsed": false
   },
   "outputs": [
    {
     "data": {
      "image/png": "[encoded data removed]",
      "text/plain": [
       "<matplotlib.figure.Figure at 0x1967c9fd0>"
      ]
     },
     "metadata": {},
     "output_type": "display_data"
    }
   ],
   "source": [
    "plot_digit(list(center_values_10[8]))"
   ]
  },
  {
   "cell_type": "code",
   "execution_count": 491,
   "metadata": {
    "collapsed": false
   },
   "outputs": [
    {
     "data": {
      "image/png": "[encoded data removed]",
      "text/plain": [
       "<matplotlib.figure.Figure at 0x1969c2910>"
      ]
     },
     "metadata": {},
     "output_type": "display_data"
    }
   ],
   "source": [
    "plot_digit(list(center_values_10[9]))"
   ]
  },
  {
   "cell_type": "code",
   "execution_count": 492,
   "metadata": {
    "collapsed": true
   },
   "outputs": [],
   "source": [
    "############   when there are k=20 mean ###########"
   ]
  },
  {
   "cell_type": "code",
   "execution_count": 493,
   "metadata": {
    "collapsed": false
   },
   "outputs": [
    {
     "data": {
      "image/png": "[encoded data removed]",
      "text/plain": [
       "<matplotlib.figure.Figure at 0x19660dc90>"
      ]
     },
     "metadata": {},
     "output_type": "display_data"
    }
   ],
   "source": [
    "plot_digit(list(center_values_20[0]))"
   ]
  },
  {
   "cell_type": "code",
   "execution_count": 494,
   "metadata": {
    "collapsed": false
   },
   "outputs": [
    {
     "data": {
      "image/png": "[encoded data removed]",
      "text/plain": [
       "<matplotlib.figure.Figure at 0x1966d79d0>"
      ]
     },
     "metadata": {},
     "output_type": "display_data"
    }
   ],
   "source": [
    "plot_digit(list(center_values_20[1]))"
   ]
  },
  {
   "cell_type": "code",
   "execution_count": 495,
   "metadata": {
    "collapsed": false,
    "scrolled": true
   },
   "outputs": [
    {
     "data": {
      "image/png": "[encoded data removed]",
      "text/plain": [
       "<matplotlib.figure.Figure at 0x1924e0d10>"
      ]
     },
     "metadata": {},
     "output_type": "display_data"
    }
   ],
   "source": [
    "plot_digit(list(center_values_20[2]))"
   ]
  },
  {
   "cell_type": "code",
   "execution_count": 496,
   "metadata": {
    "collapsed": false
   },
   "outputs": [
    {
     "data": {
      "image/png": "[encoded data removed]",
      "text/plain": [
       "<matplotlib.figure.Figure at 0x19263fad0>"
      ]
     },
     "metadata": {},
     "output_type": "display_data"
    }
   ],
   "source": [
    "plot_digit(list(center_values_20[3]))"
   ]
  },
  {
   "cell_type": "code",
   "execution_count": 497,
   "metadata": {
    "collapsed": false
   },
   "outputs": [
    {
     "data": {
      "image/png": "[encoded data removed]",
      "text/plain": [
       "<matplotlib.figure.Figure at 0x1927a5310>"
      ]
     },
     "metadata": {},
     "output_type": "display_data"
    }
   ],
   "source": [
    "plot_digit(list(center_values_20[4]))"
   ]
  },
  {
   "cell_type": "code",
   "execution_count": 498,
   "metadata": {
    "collapsed": false
   },
   "outputs": [
    {
     "data": {
      "image/png": "[encoded data removed]",
      "text/plain": [
       "<matplotlib.figure.Figure at 0x19288a550>"
      ]
     },
     "metadata": {},
     "output_type": "display_data"
    }
   ],
   "source": [
    "plot_digit(list(center_values_20[5]))"
   ]
  },
  {
   "cell_type": "code",
   "execution_count": 499,
   "metadata": {
    "collapsed": false
   },
   "outputs": [
    {
     "data": {
      "image/png": "[encoded data removed]",
      "text/plain": [
       "<matplotlib.figure.Figure at 0x192a63790>"
      ]
     },
     "metadata": {},
     "output_type": "display_data"
    }
   ],
   "source": [
    "plot_digit(list(center_values_20[6]))"
   ]
  },
  {
   "cell_type": "code",
   "execution_count": 500,
   "metadata": {
    "collapsed": false
   },
   "outputs": [
    {
     "data": {
      "image/png": "[encoded data removed]",
      "text/plain": [
       "<matplotlib.figure.Figure at 0x193544950>"
      ]
     },
     "metadata": {},
     "output_type": "display_data"
    }
   ],
   "source": [
    "plot_digit(list(center_values_20[7]))"
   ]
  },
  {
   "cell_type": "code",
   "execution_count": 501,
   "metadata": {
    "collapsed": false
   },
   "outputs": [
    {
     "data": {
      "image/png": "[encoded data removed]",
      "text/plain": [
       "<matplotlib.figure.Figure at 0x1936a2890>"
      ]
     },
     "metadata": {},
     "output_type": "display_data"
    }
   ],
   "source": [
    "plot_digit(list(center_values_20[8]))"
   ]
  },
  {
   "cell_type": "code",
   "execution_count": 502,
   "metadata": {
    "collapsed": false
   },
   "outputs": [
    {
     "data": {
      "image/png": "[encoded data removed]",
      "text/plain": [
       "<matplotlib.figure.Figure at 0x1937ff150>"
      ]
     },
     "metadata": {},
     "output_type": "display_data"
    }
   ],
   "source": [
    "plot_digit(list(center_values_20[9]))"
   ]
  },
  {
   "cell_type": "code",
   "execution_count": 503,
   "metadata": {
    "collapsed": false
   },
   "outputs": [
    {
     "data": {
      "image/png": "[encoded data removed]",
      "text/plain": [
       "<matplotlib.figure.Figure at 0x1938e3b10>"
      ]
     },
     "metadata": {},
     "output_type": "display_data"
    }
   ],
   "source": [
    "plot_digit(list(center_values_20[10]))"
   ]
  },
  {
   "cell_type": "code",
   "execution_count": 504,
   "metadata": {
    "collapsed": false
   },
   "outputs": [
    {
     "data": {
      "image/png": "[encoded data removed]",
      "text/plain": [
       "<matplotlib.figure.Figure at 0x193abb250>"
      ]
     },
     "metadata": {},
     "output_type": "display_data"
    }
   ],
   "source": [
    "plot_digit(list(center_values_20[11]))"
   ]
  },
  {
   "cell_type": "code",
   "execution_count": 505,
   "metadata": {
    "collapsed": false
   },
   "outputs": [
    {
     "data": {
      "image/png": "[encoded data removed]",
      "text/plain": [
       "<matplotlib.figure.Figure at 0x196335710>"
      ]
     },
     "metadata": {},
     "output_type": "display_data"
    }
   ],
   "source": [
    "plot_digit(list(center_values_20[12]))"
   ]
  },
  {
   "cell_type": "code",
   "execution_count": 506,
   "metadata": {
    "collapsed": false
   },
   "outputs": [
    {
     "data": {
      "image/png": "[encoded data removed]",
      "text/plain": [
       "<matplotlib.figure.Figure at 0x196b91e90>"
      ]
     },
     "metadata": {},
     "output_type": "display_data"
    }
   ],
   "source": [
    "plot_digit(list(center_values_20[13]))"
   ]
  },
  {
   "cell_type": "code",
   "execution_count": 507,
   "metadata": {
    "collapsed": false
   },
   "outputs": [
    {
     "data": {
      "image/png": "[encoded data removed]",
      "text/plain": [
       "<matplotlib.figure.Figure at 0x196cf0990>"
      ]
     },
     "metadata": {},
     "output_type": "display_data"
    }
   ],
   "source": [
    "plot_digit(list(center_values_20[14]))"
   ]
  },
  {
   "cell_type": "code",
   "execution_count": 508,
   "metadata": {
    "collapsed": false
   },
   "outputs": [
    {
     "data": {
      "image/png": "[encoded data removed]",
      "text/plain": [
       "<matplotlib.figure.Figure at 0x196dd4350>"
      ]
     },
     "metadata": {},
     "output_type": "display_data"
    }
   ],
   "source": [
    "plot_digit(list(center_values_20[15]))"
   ]
  },
  {
   "cell_type": "code",
   "execution_count": 509,
   "metadata": {
    "collapsed": false
   },
   "outputs": [
    {
     "data": {
      "image/png": "[encoded data removed]",
      "text/plain": [
       "<matplotlib.figure.Figure at 0x196f8f410>"
      ]
     },
     "metadata": {},
     "output_type": "display_data"
    }
   ],
   "source": [
    "plot_digit(list(center_values_20[16]))"
   ]
  },
  {
   "cell_type": "code",
   "execution_count": 510,
   "metadata": {
    "collapsed": false
   },
   "outputs": [
    {
     "data": {
      "image/png": "[encoded data removed]",
      "text/plain": [
       "<matplotlib.figure.Figure at 0x1970ebf10>"
      ]
     },
     "metadata": {},
     "output_type": "display_data"
    }
   ],
   "source": [
    "plot_digit(list(center_values_20[17]))"
   ]
  },
  {
   "cell_type": "code",
   "execution_count": 511,
   "metadata": {
    "collapsed": false
   },
   "outputs": [
    {
     "data": {
      "image/png": "[encoded data removed]",
      "text/plain": [
       "<matplotlib.figure.Figure at 0x1970a5fd0>"
      ]
     },
     "metadata": {},
     "output_type": "display_data"
    }
   ],
   "source": [
    "plot_digit(list(center_values_20[18]))"
   ]
  },
  {
   "cell_type": "code",
   "execution_count": 512,
   "metadata": {
    "collapsed": false
   },
   "outputs": [
    {
     "data": {
      "image/png": "[encoded data removed]",
      "text/plain": [
       "<matplotlib.figure.Figure at 0x1973c34d0>"
      ]
     },
     "metadata": {},
     "output_type": "display_data"
    }
   ],
   "source": [
    "plot_digit(list(center_values_20[19]))"
   ]
  },
  {
   "cell_type": "code",
   "execution_count": 68,
   "metadata": {
    "collapsed": true
   },
   "outputs": [],
   "source": [
    "####################    Problem 1.3    ####################"
   ]
  },
  {
   "cell_type": "code",
   "execution_count": 453,
   "metadata": {
    "collapsed": false
   },
   "outputs": [],
   "source": [
    "##### 5 different initialization when k=5"
   ]
  },
  {
   "cell_type": "code",
   "execution_count": 459,
   "metadata": {
    "collapsed": false
   },
   "outputs": [
    {
     "name": "stdout",
     "output_type": "stream",
     "text": [
      "K=5 Initialization version# 1 Total loss: 5.63526485199e+16\n",
      "K=5 Initialization version# 2 Total loss: 5.63526467875e+16\n",
      "K=5 Initialization version# 3 Total loss: 5.63526512046e+16\n",
      "K=5 Initialization version# 4 Total loss: 5.63526492797e+16\n",
      "K=5 Initialization version# 5 Total loss: 5.63526472396e+16\n"
     ]
    }
   ],
   "source": [
    "for v in range(5):\n",
    "    import random \n",
    "    k_means5=5\n",
    "    centers_5=random.sample(mnist_index, k_means5)\n",
    "\n",
    "    center_values_5=[]\n",
    "    for z in centers_5:\n",
    "        center_values_5.append(na_images[z])\n",
    "\n",
    "    list_of_lists = [[] for x in range(k_means5)]\n",
    "    for epoch in range(50):\n",
    "        list_of_lists = [[] for x in range(k_means5)]\n",
    "        for k in range(60000):\n",
    "            min_ind=0\n",
    "            min_dis=inf\n",
    "            for i in range(len(centers_5)):\n",
    "                dis=dist_sq_calc(center_values_5[i], na_images[k])\n",
    "                if(dis<min_dis):\n",
    "                    min_dis=dis\n",
    "                    min_ind=i\n",
    "            list_of_lists[min_ind].append(k)\n",
    "        center_values_5=[]\n",
    "        for li in list_of_lists:\n",
    "            center_values_5.append(np.mean(na_images[li], axis=0))\n",
    "        if(epoch==49):\n",
    "            total_error=0\n",
    "            for i in range(5):\n",
    "                for y in list_of_lists[i]:\n",
    "                    total_error+=dist_sq_calc(center_values_5[i], y)\n",
    "            print(\"K=5 Initialization version# \"+str(v+1)+\" Total loss: \"+str(total_error))"
   ]
  },
  {
   "cell_type": "code",
   "execution_count": 454,
   "metadata": {
    "collapsed": true
   },
   "outputs": [],
   "source": [
    "##### 5 different initialization when k=10"
   ]
  },
  {
   "cell_type": "code",
   "execution_count": 458,
   "metadata": {
    "collapsed": false,
    "scrolled": true
   },
   "outputs": [
    {
     "name": "stdout",
     "output_type": "stream",
     "text": [
      "K=10 Initialization version# 1 Total loss: 5.63526448784e+16\n",
      "K=10 Initialization version# 2 Total loss: 5.63526276358e+16\n",
      "K=10 Initialization version# 3 Total loss: 5.6352654662e+16\n",
      "K=10 Initialization version# 4 Total loss: 5.63526597612e+16\n",
      "K=10 Initialization version# 5 Total loss: 5.63526653547e+16\n"
     ]
    }
   ],
   "source": [
    "for v in range(5):\n",
    "    import random \n",
    "    k_means10=10\n",
    "    centers_10=random.sample(mnist_index, k_means10)\n",
    "\n",
    "    center_values_10=[]\n",
    "    for z in centers_10:\n",
    "        center_values_10.append(na_images[z])\n",
    "\n",
    "    list_of_lists = [[] for x in range(k_means10)]\n",
    "    for epoch in range(50):\n",
    "        list_of_lists = [[] for x in range(k_means10)]\n",
    "        for k in range(60000):\n",
    "            min_ind=0\n",
    "            min_dis=inf\n",
    "            for i in range(len(centers_10)):\n",
    "                dis=dist_sq_calc(center_values_10[i], na_images[k])\n",
    "                if(dis<min_dis):\n",
    "                    min_dis=dis\n",
    "                    min_ind=i\n",
    "            list_of_lists[min_ind].append(k)\n",
    "        center_values_10=[]\n",
    "        for li in list_of_lists:\n",
    "            center_values_10.append(np.mean(na_images[li], axis=0))\n",
    "        if(epoch==49):\n",
    "            total_error=0\n",
    "            for i in range(10):\n",
    "                for y in list_of_lists[i]:\n",
    "                    total_error+=dist_sq_calc(center_values_10[i], y)\n",
    "            print(\"K=10 Initialization version# \"+str(v+1)+\" Total loss: \"+str(total_error))"
   ]
  },
  {
   "cell_type": "code",
   "execution_count": 455,
   "metadata": {
    "collapsed": true
   },
   "outputs": [],
   "source": [
    "##### 5 different initialization when k=20"
   ]
  },
  {
   "cell_type": "code",
   "execution_count": 457,
   "metadata": {
    "collapsed": false
   },
   "outputs": [
    {
     "name": "stdout",
     "output_type": "stream",
     "text": [
      "K=20 Initialization version# 1 Total loss: 5.63526610638e+16\n",
      "K=20 Initialization version# 2 Total loss: 5.63526413898e+16\n",
      "K=20 Initialization version# 3 Total loss: 5.63526665059e+16\n",
      "K=20 Initialization version# 4 Total loss: 5.63526467089e+16\n",
      "K=20 Initialization version# 5 Total loss: 5.63526693291e+16\n"
     ]
    }
   ],
   "source": [
    "for v in range(5):\n",
    "    import random \n",
    "    k_means20=20\n",
    "    centers_20=random.sample(mnist_index, k_means20)\n",
    "\n",
    "    center_values_20=[]\n",
    "    for z in centers_20:\n",
    "        center_values_20.append(na_images[z])\n",
    "\n",
    "    list_of_lists = [[] for x in range(k_means20)]\n",
    "    for epoch in range(50):\n",
    "        list_of_lists = [[] for x in range(k_means20)]\n",
    "        for k in range(60000):\n",
    "            min_ind=0\n",
    "            min_dis=inf\n",
    "            for i in range(len(centers_20)):\n",
    "                dis=dist_sq_calc(center_values_20[i], na_images[k])\n",
    "                if(dis<min_dis):\n",
    "                    min_dis=dis\n",
    "                    min_ind=i\n",
    "            list_of_lists[min_ind].append(k)\n",
    "        center_values_20=[]\n",
    "        for li in list_of_lists:\n",
    "            center_values_20.append(np.mean(na_images[li], axis=0))\n",
    "        if(epoch==49):\n",
    "            total_error=0\n",
    "            for i in range(20):\n",
    "                for y in list_of_lists[i]:\n",
    "                    total_error+=dist_sq_calc(center_values_20[i], y)\n",
    "            print(\"K=20 Initialization version# \"+str(v+1)+\" Total loss: \"+str(total_error))"
   ]
  },
  {
   "cell_type": "code",
   "execution_count": 74,
   "metadata": {
    "collapsed": true
   },
   "outputs": [],
   "source": [
    "####################    Problem 2    ####################"
   ]
  },
  {
   "cell_type": "code",
   "execution_count": 75,
   "metadata": {
    "collapsed": true
   },
   "outputs": [],
   "source": [
    "joke_data_path=data_path+\"joke_data/\""
   ]
  },
  {
   "cell_type": "code",
   "execution_count": 78,
   "metadata": {
    "collapsed": false
   },
   "outputs": [],
   "source": [
    "import scipy.io as spy\n",
    "joke_data=spy.loadmat(joke_data_path+\"joke_train.mat\")"
   ]
  },
  {
   "cell_type": "code",
   "execution_count": 79,
   "metadata": {
    "collapsed": true
   },
   "outputs": [],
   "source": [
    "####################    Problem 2.1    ####################"
   ]
  },
  {
   "cell_type": "code",
   "execution_count": 80,
   "metadata": {
    "collapsed": false
   },
   "outputs": [],
   "source": [
    "joke_data_train_raw=joke_data.get('train')"
   ]
  },
  {
   "cell_type": "code",
   "execution_count": 81,
   "metadata": {
    "collapsed": false
   },
   "outputs": [
    {
     "data": {
      "text/plain": [
       "(24983, 100)"
      ]
     },
     "execution_count": 81,
     "metadata": {},
     "output_type": "execute_result"
    }
   ],
   "source": [
    "joke_data_train_raw.shape"
   ]
  },
  {
   "cell_type": "code",
   "execution_count": 82,
   "metadata": {
    "collapsed": true
   },
   "outputs": [],
   "source": [
    "valid_list = []\n",
    "with open(joke_data_path+'validation.txt') as valid_txt:\n",
    "    for line in valid_txt:\n",
    "        line = line.split() \n",
    "        if line:\n",
    "            li = [int(i) for i in line[0].split(',')]\n",
    "            valid_list.append(li)"
   ]
  },
  {
   "cell_type": "code",
   "execution_count": 83,
   "metadata": {
    "collapsed": false
   },
   "outputs": [],
   "source": [
    "query_list = []\n",
    "with open(joke_data_path+'query.txt') as query_txt:\n",
    "    for line in query_txt:\n",
    "        line = line.split() \n",
    "        if line:\n",
    "            li = [int(i) for i in line[0].split(',')]\n",
    "            query_list.append(li)"
   ]
  },
  {
   "cell_type": "code",
   "execution_count": 84,
   "metadata": {
    "collapsed": false
   },
   "outputs": [
    {
     "data": {
      "text/plain": [
       "902409"
      ]
     },
     "execution_count": 84,
     "metadata": {},
     "output_type": "execute_result"
    }
   ],
   "source": [
    "len(query_list)"
   ]
  },
  {
   "cell_type": "code",
   "execution_count": 85,
   "metadata": {
    "collapsed": false
   },
   "outputs": [
    {
     "data": {
      "text/plain": [
       "[1, 8766, 39]"
      ]
     },
     "execution_count": 85,
     "metadata": {},
     "output_type": "execute_result"
    }
   ],
   "source": [
    "query_list[0]"
   ]
  },
  {
   "cell_type": "code",
   "execution_count": 86,
   "metadata": {
    "collapsed": true
   },
   "outputs": [],
   "source": [
    "####################    Problem 2.2  WARM UP  ####################"
   ]
  },
  {
   "cell_type": "code",
   "execution_count": 87,
   "metadata": {
    "collapsed": true
   },
   "outputs": [],
   "source": [
    "####################    Recommend by average rating  ####################"
   ]
  },
  {
   "cell_type": "code",
   "execution_count": 88,
   "metadata": {
    "collapsed": false
   },
   "outputs": [],
   "source": [
    "joke_ave_scores=[]\n",
    "for i in range(100):\n",
    "    joke_ave_scores.append(sum(np.nanmean(joke_data_train_raw[:,i])>0))"
   ]
  },
  {
   "cell_type": "code",
   "execution_count": 90,
   "metadata": {
    "collapsed": true
   },
   "outputs": [],
   "source": [
    "valid_ave_score_sum=0\n",
    "for k in valid_list:\n",
    "    valid_ave_score_sum+=sum(joke_ave_scores[k[1]-1]==k[2])"
   ]
  },
  {
   "cell_type": "code",
   "execution_count": 91,
   "metadata": {
    "collapsed": false
   },
   "outputs": [
    {
     "data": {
      "text/plain": [
       "0.62032520325203255"
      ]
     },
     "execution_count": 91,
     "metadata": {},
     "output_type": "execute_result"
    }
   ],
   "source": [
    "valid_ave_score_sum/len(valid_list)"
   ]
  },
  {
   "cell_type": "code",
   "execution_count": 92,
   "metadata": {
    "collapsed": true
   },
   "outputs": [],
   "source": [
    "#########  Recommend Joke by Nearest Neighbors  ############"
   ]
  },
  {
   "cell_type": "code",
   "execution_count": 93,
   "metadata": {
    "collapsed": true
   },
   "outputs": [],
   "source": [
    "joke_data_train=np.nan_to_num(joke_data_train_raw)"
   ]
  },
  {
   "cell_type": "code",
   "execution_count": 95,
   "metadata": {
    "collapsed": false
   },
   "outputs": [],
   "source": [
    "valid_users_list= [k[0] for k in valid_list]\n",
    "valid_users = list(set(valid_users_list))"
   ]
  },
  {
   "cell_type": "code",
   "execution_count": 96,
   "metadata": {
    "collapsed": false
   },
   "outputs": [],
   "source": [
    "list_of_neighbors=[]\n",
    "for i in valid_users:\n",
    "    neighbors=[]\n",
    "    for j in range(joke_data_train.shape[0]):\n",
    "        if(i-1!=j):\n",
    "            neighbors.append((j, dist_calc(joke_data_train[i-1], joke_data_train[j])))\n",
    "    list_of_neighbors.append(neighbors)"
   ]
  },
  {
   "cell_type": "code",
   "execution_count": 98,
   "metadata": {
    "collapsed": false
   },
   "outputs": [
    {
     "data": {
      "text/plain": [
       "24982"
      ]
     },
     "execution_count": 98,
     "metadata": {},
     "output_type": "execute_result"
    }
   ],
   "source": [
    "len(list_of_neighbors[0])"
   ]
  },
  {
   "cell_type": "code",
   "execution_count": 99,
   "metadata": {
    "collapsed": false
   },
   "outputs": [],
   "source": [
    "sorted_list_of_neighbors=[]\n",
    "for k in list_of_neighbors:\n",
    "    sorted_list_of_neighbors.append(sorted(k, key=lambda x: x[1]))"
   ]
  },
  {
   "cell_type": "code",
   "execution_count": 101,
   "metadata": {
    "collapsed": false
   },
   "outputs": [
    {
     "data": {
      "text/plain": [
       "1188"
      ]
     },
     "execution_count": 101,
     "metadata": {},
     "output_type": "execute_result"
    }
   ],
   "source": [
    "sorted_list_of_neighbors[0][0][0]"
   ]
  },
  {
   "cell_type": "code",
   "execution_count": 102,
   "metadata": {
    "collapsed": true
   },
   "outputs": [],
   "source": [
    "k_10=10\n",
    "k_100=100\n",
    "k_1000=1000"
   ]
  },
  {
   "cell_type": "code",
   "execution_count": 103,
   "metadata": {
    "collapsed": true
   },
   "outputs": [],
   "source": [
    "##########       When k=10"
   ]
  },
  {
   "cell_type": "code",
   "execution_count": 104,
   "metadata": {
    "collapsed": false
   },
   "outputs": [],
   "source": [
    "valid_score_sum_10=0\n",
    "for k in valid_list:\n",
    "    ave_score_sum=0\n",
    "    for i in range(k_10):\n",
    "        ave_score_sum += joke_data_train[sorted_list_of_neighbors[k[0]-1][i][0], (k[1]-1)]\n",
    "    ave_score=ave_score_sum/k_10\n",
    "    valid_score_sum_10 += sum(((ave_score>0)==k[2]))"
   ]
  },
  {
   "cell_type": "code",
   "execution_count": 105,
   "metadata": {
    "collapsed": false
   },
   "outputs": [
    {
     "data": {
      "text/plain": [
       "0.64905149051490518"
      ]
     },
     "execution_count": 105,
     "metadata": {},
     "output_type": "execute_result"
    }
   ],
   "source": [
    "valid_score_sum_10/len(valid_list)"
   ]
  },
  {
   "cell_type": "code",
   "execution_count": 680,
   "metadata": {
    "collapsed": true
   },
   "outputs": [],
   "source": [
    "##########       When k=100"
   ]
  },
  {
   "cell_type": "code",
   "execution_count": 688,
   "metadata": {
    "collapsed": true
   },
   "outputs": [],
   "source": [
    "valid_score_sum_100=0\n",
    "for k in valid_list:\n",
    "    ave_score_sum=0\n",
    "    for i in range(k_100):\n",
    "        ave_score_sum += joke_data_train[sorted_list_of_neighbors[k[0]-1][i][0], (k[1]-1)]\n",
    "    ave_score=ave_score_sum/k_100\n",
    "    valid_score_sum_100 += sum(((ave_score>0)==k[2]))"
   ]
  },
  {
   "cell_type": "code",
   "execution_count": 689,
   "metadata": {
    "collapsed": false
   },
   "outputs": [
    {
     "data": {
      "text/plain": [
       "0.68943089430894311"
      ]
     },
     "execution_count": 689,
     "metadata": {},
     "output_type": "execute_result"
    }
   ],
   "source": [
    "valid_score_sum_100/len(valid_list)"
   ]
  },
  {
   "cell_type": "code",
   "execution_count": 106,
   "metadata": {
    "collapsed": true
   },
   "outputs": [],
   "source": [
    "##########       When k=1000"
   ]
  },
  {
   "cell_type": "code",
   "execution_count": 107,
   "metadata": {
    "collapsed": true
   },
   "outputs": [],
   "source": [
    "valid_score_sum_1000=0\n",
    "for k in valid_list:\n",
    "    ave_score_sum=0\n",
    "    for i in range(k_1000):\n",
    "        ave_score_sum += joke_data_train[sorted_list_of_neighbors[k[0]-1][i][0], (k[1]-1)]\n",
    "    ave_score=ave_score_sum/k_1000\n",
    "    valid_score_sum_1000 += sum(((ave_score>0)==k[2]))"
   ]
  },
  {
   "cell_type": "code",
   "execution_count": 108,
   "metadata": {
    "collapsed": false
   },
   "outputs": [
    {
     "data": {
      "text/plain": [
       "0.69403794037940381"
      ]
     },
     "execution_count": 108,
     "metadata": {},
     "output_type": "execute_result"
    }
   ],
   "source": [
    "valid_score_sum_1000/len(valid_list)"
   ]
  },
  {
   "cell_type": "code",
   "execution_count": 109,
   "metadata": {
    "collapsed": true
   },
   "outputs": [],
   "source": [
    "####################    2.3.1     #################### "
   ]
  },
  {
   "cell_type": "code",
   "execution_count": 110,
   "metadata": {
    "collapsed": true
   },
   "outputs": [],
   "source": [
    "joke_data_train=np.nan_to_num(joke_data_train_raw)"
   ]
  },
  {
   "cell_type": "code",
   "execution_count": 111,
   "metadata": {
    "collapsed": false
   },
   "outputs": [
    {
     "data": {
      "text/plain": [
       "array([[ 0.  ,  0.  ,  0.  , ...,  0.  ,  0.  ,  0.  ],\n",
       "       [-0.15,  1.02,  0.  , ...,  1.84,  0.  ,  0.  ],\n",
       "       [ 0.  ,  0.  ,  0.  , ...,  0.  ,  0.  ,  0.  ],\n",
       "       ..., \n",
       "       [ 3.25, -7.57,  0.  , ...,  2.09,  0.  ,  0.  ],\n",
       "       [ 0.  ,  5.53,  0.  , ...,  7.57,  0.  ,  0.  ],\n",
       "       [ 5.97,  0.63,  3.2 , ...,  0.  ,  0.  ,  0.  ]])"
      ]
     },
     "execution_count": 111,
     "metadata": {},
     "output_type": "execute_result"
    }
   ],
   "source": [
    "joke_data_train"
   ]
  },
  {
   "cell_type": "code",
   "execution_count": 112,
   "metadata": {
    "collapsed": false
   },
   "outputs": [
    {
     "data": {
      "text/plain": [
       "(24983, 100)"
      ]
     },
     "execution_count": 112,
     "metadata": {},
     "output_type": "execute_result"
    }
   ],
   "source": [
    "joke_data_train.shape"
   ]
  },
  {
   "cell_type": "code",
   "execution_count": 115,
   "metadata": {
    "collapsed": true
   },
   "outputs": [],
   "source": [
    "nonnan_indices = np.where(~np.isnan(joke_data_train_raw))"
   ]
  },
  {
   "cell_type": "code",
   "execution_count": 113,
   "metadata": {
    "collapsed": true
   },
   "outputs": [],
   "source": [
    "nonzero_indices=np.nonzero(joke_data_train)"
   ]
  },
  {
   "cell_type": "code",
   "execution_count": 116,
   "metadata": {
    "collapsed": false
   },
   "outputs": [
    {
     "data": {
      "text/plain": [
       "904356"
      ]
     },
     "execution_count": 116,
     "metadata": {},
     "output_type": "execute_result"
    }
   ],
   "source": [
    "len(nonnan_indices[1])"
   ]
  },
  {
   "cell_type": "code",
   "execution_count": 118,
   "metadata": {
    "collapsed": true
   },
   "outputs": [],
   "source": [
    "svd=np.linalg.svd(joke_data_train, full_matrices=False)"
   ]
  },
  {
   "cell_type": "code",
   "execution_count": 119,
   "metadata": {
    "collapsed": true
   },
   "outputs": [],
   "source": [
    "U_mat=svd[0]"
   ]
  },
  {
   "cell_type": "code",
   "execution_count": 525,
   "metadata": {
    "collapsed": false
   },
   "outputs": [
    {
     "data": {
      "text/plain": [
       "(24983, 100)"
      ]
     },
     "execution_count": 525,
     "metadata": {},
     "output_type": "execute_result"
    }
   ],
   "source": [
    "U_mat.shape"
   ]
  },
  {
   "cell_type": "code",
   "execution_count": 124,
   "metadata": {
    "collapsed": false
   },
   "outputs": [],
   "source": [
    "S_mat1=np.sqrt(svd[1])"
   ]
  },
  {
   "cell_type": "code",
   "execution_count": 526,
   "metadata": {
    "collapsed": false
   },
   "outputs": [
    {
     "data": {
      "text/plain": [
       "(100,)"
      ]
     },
     "execution_count": 526,
     "metadata": {},
     "output_type": "execute_result"
    }
   ],
   "source": [
    "S_mat1.shape"
   ]
  },
  {
   "cell_type": "code",
   "execution_count": 125,
   "metadata": {
    "collapsed": true
   },
   "outputs": [],
   "source": [
    "S_mat2=np.sqrt(svd[1])"
   ]
  },
  {
   "cell_type": "code",
   "execution_count": 527,
   "metadata": {
    "collapsed": false
   },
   "outputs": [
    {
     "data": {
      "text/plain": [
       "(100,)"
      ]
     },
     "execution_count": 527,
     "metadata": {},
     "output_type": "execute_result"
    }
   ],
   "source": [
    "S_mat2.shape"
   ]
  },
  {
   "cell_type": "code",
   "execution_count": 126,
   "metadata": {
    "collapsed": true
   },
   "outputs": [],
   "source": [
    "V_mat=svd[2]"
   ]
  },
  {
   "cell_type": "code",
   "execution_count": 528,
   "metadata": {
    "collapsed": false
   },
   "outputs": [
    {
     "data": {
      "text/plain": [
       "(100, 100)"
      ]
     },
     "execution_count": 528,
     "metadata": {},
     "output_type": "execute_result"
    }
   ],
   "source": [
    "V_mat.shape"
   ]
  },
  {
   "cell_type": "code",
   "execution_count": 129,
   "metadata": {
    "collapsed": true
   },
   "outputs": [],
   "source": [
    "####################    2.3.2     #################### "
   ]
  },
  {
   "cell_type": "code",
   "execution_count": 130,
   "metadata": {
    "collapsed": true
   },
   "outputs": [],
   "source": [
    "#### When d = 2  ####"
   ]
  },
  {
   "cell_type": "code",
   "execution_count": 131,
   "metadata": {
    "collapsed": true
   },
   "outputs": [],
   "source": [
    "U_prime_2=U_mat[:,range(2)]"
   ]
  },
  {
   "cell_type": "code",
   "execution_count": 531,
   "metadata": {
    "collapsed": false
   },
   "outputs": [
    {
     "data": {
      "text/plain": [
       "(24983, 2)"
      ]
     },
     "execution_count": 531,
     "metadata": {},
     "output_type": "execute_result"
    }
   ],
   "source": [
    "U_prime_2.shape"
   ]
  },
  {
   "cell_type": "code",
   "execution_count": 132,
   "metadata": {
    "collapsed": true
   },
   "outputs": [],
   "source": [
    "S_prime1_2=np.diag(S_mat1[range(2)])\n",
    "S_prime2_2=np.diag(S_mat2[range(2)])"
   ]
  },
  {
   "cell_type": "code",
   "execution_count": 134,
   "metadata": {
    "collapsed": true
   },
   "outputs": [],
   "source": [
    "V_prime_2=V_mat[range(2)]"
   ]
  },
  {
   "cell_type": "code",
   "execution_count": 530,
   "metadata": {
    "collapsed": false
   },
   "outputs": [
    {
     "data": {
      "text/plain": [
       "(2, 100)"
      ]
     },
     "execution_count": 530,
     "metadata": {},
     "output_type": "execute_result"
    }
   ],
   "source": [
    "V_prime_2.shape"
   ]
  },
  {
   "cell_type": "code",
   "execution_count": 137,
   "metadata": {
    "collapsed": false
   },
   "outputs": [],
   "source": [
    "joke_data_train_prime_2=np.dot(np.dot(U_prime_2, S_prime1_2), np.dot(S_prime2_2,V_prime_2))"
   ]
  },
  {
   "cell_type": "code",
   "execution_count": 529,
   "metadata": {
    "collapsed": false
   },
   "outputs": [
    {
     "data": {
      "text/plain": [
       "(24983, 100)"
      ]
     },
     "execution_count": 529,
     "metadata": {},
     "output_type": "execute_result"
    }
   ],
   "source": [
    "joke_data_train_prime_2.shape"
   ]
  },
  {
   "cell_type": "code",
   "execution_count": 138,
   "metadata": {
    "collapsed": false
   },
   "outputs": [
    {
     "data": {
      "text/plain": [
       "(24983, 100)"
      ]
     },
     "execution_count": 138,
     "metadata": {},
     "output_type": "execute_result"
    }
   ],
   "source": [
    "joke_data_train_prime_2.shape"
   ]
  },
  {
   "cell_type": "code",
   "execution_count": 140,
   "metadata": {
    "collapsed": true
   },
   "outputs": [],
   "source": [
    "MSE_2=0\n",
    "for k in range(len(nonnan_indices[0])):\n",
    "    i=nonnan_indices[0][k]\n",
    "    j=nonnan_indices[1][k]\n",
    "    MSE_2 += np.square(joke_data_train[i,j]-joke_data_train_prime_2[i,j])"
   ]
  },
  {
   "cell_type": "code",
   "execution_count": 141,
   "metadata": {
    "collapsed": false
   },
   "outputs": [
    {
     "data": {
      "text/plain": [
       "18441623.017882071"
      ]
     },
     "execution_count": 141,
     "metadata": {},
     "output_type": "execute_result"
    }
   ],
   "source": [
    "MSE_2"
   ]
  },
  {
   "cell_type": "code",
   "execution_count": 142,
   "metadata": {
    "collapsed": true
   },
   "outputs": [],
   "source": [
    "#### When d = 5  ####"
   ]
  },
  {
   "cell_type": "code",
   "execution_count": 143,
   "metadata": {
    "collapsed": true
   },
   "outputs": [],
   "source": [
    "U_prime_5=U_mat[:,range(5)]"
   ]
  },
  {
   "cell_type": "code",
   "execution_count": 146,
   "metadata": {
    "collapsed": true
   },
   "outputs": [],
   "source": [
    "S_prime1_5=np.diag(S_mat1[range(5)])\n",
    "S_prime2_5=np.diag(S_mat2[range(5)])"
   ]
  },
  {
   "cell_type": "code",
   "execution_count": 147,
   "metadata": {
    "collapsed": true
   },
   "outputs": [],
   "source": [
    "V_prime_5=V_mat[range(5)]"
   ]
  },
  {
   "cell_type": "code",
   "execution_count": 148,
   "metadata": {
    "collapsed": true
   },
   "outputs": [],
   "source": [
    "joke_data_train_prime_5=np.dot(np.dot(U_prime_5, S_prime1_5), np.dot(S_prime2_5,V_prime_5))"
   ]
  },
  {
   "cell_type": "code",
   "execution_count": 150,
   "metadata": {
    "collapsed": true
   },
   "outputs": [],
   "source": [
    "MSE_5=0\n",
    "for k in range(len(nonnan_indices[0])):\n",
    "    i=nonnan_indices[0][k]\n",
    "    j=nonnan_indices[1][k]\n",
    "    MSE_5 += np.square(joke_data_train[i,j]-joke_data_train_prime_5[i,j])"
   ]
  },
  {
   "cell_type": "code",
   "execution_count": 151,
   "metadata": {
    "collapsed": false
   },
   "outputs": [
    {
     "data": {
      "text/plain": [
       "16333384.420196977"
      ]
     },
     "execution_count": 151,
     "metadata": {},
     "output_type": "execute_result"
    }
   ],
   "source": [
    "MSE_5"
   ]
  },
  {
   "cell_type": "code",
   "execution_count": 152,
   "metadata": {
    "collapsed": true
   },
   "outputs": [],
   "source": [
    "#### When d = 10  ####"
   ]
  },
  {
   "cell_type": "code",
   "execution_count": 153,
   "metadata": {
    "collapsed": true
   },
   "outputs": [],
   "source": [
    "U_prime_10=U_mat[:,range(10)]"
   ]
  },
  {
   "cell_type": "code",
   "execution_count": 155,
   "metadata": {
    "collapsed": true
   },
   "outputs": [],
   "source": [
    "S_prime1_10=np.diag(S_mat1[range(10)])\n",
    "S_prime2_10=np.diag(S_mat2[range(10)])"
   ]
  },
  {
   "cell_type": "code",
   "execution_count": 154,
   "metadata": {
    "collapsed": true
   },
   "outputs": [],
   "source": [
    "V_prime_10=V_mat[range(10)]"
   ]
  },
  {
   "cell_type": "code",
   "execution_count": 156,
   "metadata": {
    "collapsed": true
   },
   "outputs": [],
   "source": [
    "joke_data_train_prime_10=np.dot(np.dot(U_prime_10, S_prime1_10), np.dot(S_prime2_10,V_prime_10))"
   ]
  },
  {
   "cell_type": "code",
   "execution_count": 158,
   "metadata": {
    "collapsed": true
   },
   "outputs": [],
   "source": [
    "MSE_10=0\n",
    "for k in range(len(nonnan_indices[0])):\n",
    "    i=nonnan_indices[0][k]\n",
    "    j=nonnan_indices[1][k]\n",
    "    MSE_10 += np.square(joke_data_train[i,j]-joke_data_train_prime_10[i,j])"
   ]
  },
  {
   "cell_type": "code",
   "execution_count": 159,
   "metadata": {
    "collapsed": false
   },
   "outputs": [
    {
     "data": {
      "text/plain": [
       "14165432.758000372"
      ]
     },
     "execution_count": 159,
     "metadata": {},
     "output_type": "execute_result"
    }
   ],
   "source": [
    "MSE_10"
   ]
  },
  {
   "cell_type": "code",
   "execution_count": 160,
   "metadata": {
    "collapsed": true
   },
   "outputs": [],
   "source": [
    "#### When d = 15  ####"
   ]
  },
  {
   "cell_type": "code",
   "execution_count": 161,
   "metadata": {
    "collapsed": true
   },
   "outputs": [],
   "source": [
    "U_prime_15=U_mat[:,range(15)]"
   ]
  },
  {
   "cell_type": "code",
   "execution_count": 162,
   "metadata": {
    "collapsed": true
   },
   "outputs": [],
   "source": [
    "S_prime1_15=np.diag(S_mat1[range(15)])\n",
    "S_prime2_15=np.diag(S_mat2[range(15)])"
   ]
  },
  {
   "cell_type": "code",
   "execution_count": 164,
   "metadata": {
    "collapsed": true
   },
   "outputs": [],
   "source": [
    "V_prime_15=V_mat[range(15)]"
   ]
  },
  {
   "cell_type": "code",
   "execution_count": 166,
   "metadata": {
    "collapsed": true
   },
   "outputs": [],
   "source": [
    "joke_data_train_prime_15=np.dot(np.dot(U_prime_15, S_prime1_15), np.dot(S_prime2_15,V_prime_15))"
   ]
  },
  {
   "cell_type": "code",
   "execution_count": 168,
   "metadata": {
    "collapsed": true
   },
   "outputs": [],
   "source": [
    "MSE_15=0\n",
    "for k in range(len(nonnan_indices[0])):\n",
    "    i=nonnan_indices[0][k]\n",
    "    j=nonnan_indices[1][k]\n",
    "    MSE_15 += np.square(joke_data_train[i,j]-joke_data_train_prime_15[i,j])"
   ]
  },
  {
   "cell_type": "code",
   "execution_count": 169,
   "metadata": {
    "collapsed": false
   },
   "outputs": [
    {
     "data": {
      "text/plain": [
       "12677947.493322195"
      ]
     },
     "execution_count": 169,
     "metadata": {},
     "output_type": "execute_result"
    }
   ],
   "source": [
    "MSE_15"
   ]
  },
  {
   "cell_type": "code",
   "execution_count": 170,
   "metadata": {
    "collapsed": true
   },
   "outputs": [],
   "source": [
    "#### When d = 20  ####"
   ]
  },
  {
   "cell_type": "code",
   "execution_count": 171,
   "metadata": {
    "collapsed": false
   },
   "outputs": [],
   "source": [
    "U_prime_20=U_mat[:,range(20)]"
   ]
  },
  {
   "cell_type": "code",
   "execution_count": 172,
   "metadata": {
    "collapsed": false
   },
   "outputs": [],
   "source": [
    "S_prime1_20=np.diag(S_mat1[range(20)])\n",
    "S_prime2_20=np.diag(S_mat2[range(20)])"
   ]
  },
  {
   "cell_type": "code",
   "execution_count": 173,
   "metadata": {
    "collapsed": true
   },
   "outputs": [],
   "source": [
    "V_prime_20=V_mat[range(20)]"
   ]
  },
  {
   "cell_type": "code",
   "execution_count": 174,
   "metadata": {
    "collapsed": false
   },
   "outputs": [],
   "source": [
    "joke_data_train_prime_20=np.dot(np.dot(U_prime_20, S_prime1_20), np.dot(S_prime2_20, V_prime_20))"
   ]
  },
  {
   "cell_type": "code",
   "execution_count": 176,
   "metadata": {
    "collapsed": false
   },
   "outputs": [],
   "source": [
    "MSE_20=0\n",
    "for k in range(len(nonnan_indices[0])):\n",
    "    i=nonnan_indices[0][k]\n",
    "    j=nonnan_indices[1][k]\n",
    "    MSE_20 += np.square(joke_data_train[i,j]-joke_data_train_prime_20[i,j])"
   ]
  },
  {
   "cell_type": "code",
   "execution_count": 177,
   "metadata": {
    "collapsed": false
   },
   "outputs": [
    {
     "data": {
      "text/plain": [
       "11304007.439729353"
      ]
     },
     "execution_count": 177,
     "metadata": {},
     "output_type": "execute_result"
    }
   ],
   "source": [
    "MSE_20"
   ]
  },
  {
   "cell_type": "code",
   "execution_count": 178,
   "metadata": {
    "collapsed": false
   },
   "outputs": [],
   "source": [
    "valid_list = []\n",
    "with open(joke_data_path+'validation.txt') as valid_txt:\n",
    "    for line in valid_txt:\n",
    "        line = line.split() \n",
    "        if line:\n",
    "            li = [int(i) for i in line[0].split(',')]\n",
    "            valid_list.append(li)"
   ]
  },
  {
   "cell_type": "code",
   "execution_count": 180,
   "metadata": {
    "collapsed": false
   },
   "outputs": [],
   "source": [
    "#validation accuracy when d=20\n",
    "acc_sum_20=0\n",
    "for k in valid_list:\n",
    "    acc_sum_20 += sum(sum(joke_data_train_prime_20[(k[0]-1), (k[1]-1)]>0)==k[2])"
   ]
  },
  {
   "cell_type": "code",
   "execution_count": 181,
   "metadata": {
    "collapsed": false
   },
   "outputs": [
    {
     "name": "stdout",
     "output_type": "stream",
     "text": [
      "Validtion Accuracy when d=20: 68.5907859079\n"
     ]
    }
   ],
   "source": [
    "#Accuracy:\n",
    "print(\"Validtion Accuracy when d=20: \"+str((acc_sum_20/len(valid_list))*100))"
   ]
  },
  {
   "cell_type": "code",
   "execution_count": 182,
   "metadata": {
    "collapsed": true
   },
   "outputs": [],
   "source": [
    "#validation accuracy when d=15\n",
    "acc_sum_15=0\n",
    "for k in valid_list:\n",
    "    acc_sum_15 += sum(sum(joke_data_train_prime_15[(k[0]-1), (k[1]-1)]>0)==k[2])"
   ]
  },
  {
   "cell_type": "code",
   "execution_count": 532,
   "metadata": {
    "collapsed": false
   },
   "outputs": [
    {
     "name": "stdout",
     "output_type": "stream",
     "text": [
      "Validtion Accuracy when d=15: 70.379403794\n"
     ]
    }
   ],
   "source": [
    "print(\"Validtion Accuracy when d=15: \"+str((acc_sum_15/len(valid_list))*100))"
   ]
  },
  {
   "cell_type": "code",
   "execution_count": 447,
   "metadata": {
    "collapsed": true
   },
   "outputs": [],
   "source": [
    "#validation accuracy when d=10\n",
    "acc_sum_10=0\n",
    "for k in valid_list:\n",
    "    acc_sum_10 += sum(sum(joke_data_train_prime_10[(k[0]-1), (k[1]-1)]>0)==k[2])"
   ]
  },
  {
   "cell_type": "code",
   "execution_count": 448,
   "metadata": {
    "collapsed": false
   },
   "outputs": [
    {
     "name": "stdout",
     "output_type": "stream",
     "text": [
      "Validtion Accuracy when d=10: 71.6531165312\n"
     ]
    }
   ],
   "source": [
    "print(\"Validtion Accuracy when d=10: \"+str((acc_sum_10/len(valid_list))*100))"
   ]
  },
  {
   "cell_type": "code",
   "execution_count": 449,
   "metadata": {
    "collapsed": true
   },
   "outputs": [],
   "source": [
    "#validation accuracy when d=5\n",
    "acc_sum_5=0\n",
    "for k in valid_list:\n",
    "    acc_sum_5 += sum(sum(joke_data_train_prime_5[(k[0]-1), (k[1]-1)]>0)==k[2])"
   ]
  },
  {
   "cell_type": "code",
   "execution_count": 450,
   "metadata": {
    "collapsed": false
   },
   "outputs": [
    {
     "name": "stdout",
     "output_type": "stream",
     "text": [
      "Validtion Accuracy when d=5: 71.5447154472\n"
     ]
    }
   ],
   "source": [
    "print(\"Validtion Accuracy when d=5: \"+str((acc_sum_5/len(valid_list))*100))"
   ]
  },
  {
   "cell_type": "code",
   "execution_count": 188,
   "metadata": {
    "collapsed": true
   },
   "outputs": [],
   "source": [
    "#validation accuracy when d=2\n",
    "acc_sum_2=0\n",
    "for k in valid_list:\n",
    "    acc_sum_2 += sum(sum(joke_data_train_prime_2[(k[0]-1), (k[1]-1)]>0)==k[2])"
   ]
  },
  {
   "cell_type": "code",
   "execution_count": 446,
   "metadata": {
    "collapsed": false
   },
   "outputs": [
    {
     "name": "stdout",
     "output_type": "stream",
     "text": [
      "Validtion Accuracy when d=2: 70.5149051491\n"
     ]
    }
   ],
   "source": [
    "print(\"Validtion Accuracy when d=2: \"+str((acc_sum_2/len(valid_list))*100))"
   ]
  },
  {
   "cell_type": "code",
   "execution_count": 699,
   "metadata": {
    "collapsed": true
   },
   "outputs": [],
   "source": [
    "####################    2.3.3     #################### "
   ]
  },
  {
   "cell_type": "code",
   "execution_count": 192,
   "metadata": {
    "collapsed": false
   },
   "outputs": [
    {
     "data": {
      "text/plain": [
       "array([[ 0.  ,  0.  ,  0.  , ...,  0.  ,  0.  ,  0.  ],\n",
       "       [-0.15,  1.02,  0.  , ...,  1.84,  0.  ,  0.  ],\n",
       "       [ 0.  ,  0.  ,  0.  , ...,  0.  ,  0.  ,  0.  ],\n",
       "       ..., \n",
       "       [ 3.25, -7.57,  0.  , ...,  2.09,  0.  ,  0.  ],\n",
       "       [ 0.  ,  5.53,  0.  , ...,  7.57,  0.  ,  0.  ],\n",
       "       [ 5.97,  0.63,  3.2 , ...,  0.  ,  0.  ,  0.  ]])"
      ]
     },
     "execution_count": 192,
     "metadata": {},
     "output_type": "execute_result"
    }
   ],
   "source": [
    "joke_data_train"
   ]
  },
  {
   "cell_type": "code",
   "execution_count": 199,
   "metadata": {
    "collapsed": true
   },
   "outputs": [],
   "source": [
    "error_list=[]"
   ]
  },
  {
   "cell_type": "code",
   "execution_count": 198,
   "metadata": {
    "collapsed": true
   },
   "outputs": [],
   "source": [
    "def MSE_calc(u_weight_matrix, v_weight_matrix, lambda_w):\n",
    "    error=0\n",
    "    for k in range(len(nonnan_indices[0])):\n",
    "        i=nonnan_indices[0][k]\n",
    "        j=nonnan_indices[1][k]\n",
    "        error += (np.square(np.dot(u_weight_matrix[i], v_weight_matrix[j])-joke_data_train_raw[i,j]))\n",
    "    u_sum=0\n",
    "    for k in range(u_weight_matrix.shape[0]):\n",
    "        u_sum += np.square(np.linalg.norm(u_weight_matrix[k]))\n",
    "    v_sum=0\n",
    "    for j in range(v_weight_matrix.shape[0]):\n",
    "        v_sum += np.square(np.linalg.norm(v_weight_matrix[j]))\n",
    "    error = error + lambda_w*u_sum + lambda_w*v_sum\n",
    "    return error"
   ]
  },
  {
   "cell_type": "code",
   "execution_count": 411,
   "metadata": {
    "collapsed": true
   },
   "outputs": [],
   "source": [
    "lambda_w=50\n",
    "epsilon=0.000001\n",
    "num_iter=500"
   ]
  },
  {
   "cell_type": "code",
   "execution_count": 412,
   "metadata": {
    "collapsed": true
   },
   "outputs": [],
   "source": [
    "u_weight_matrix=np.random.rand(joke_data_train.shape[0], 100)\n",
    "v_weight_matrix=np.random.rand(joke_data_train.shape[1], 100)"
   ]
  },
  {
   "cell_type": "code",
   "execution_count": 533,
   "metadata": {
    "collapsed": true
   },
   "outputs": [],
   "source": [
    "#Belos is the alternating minimization scheme \n",
    "\n",
    "delta_L_u = 2*np.dot(np.subtract(np.dot(u_weight_matrix, v_weight_matrix), \\\n",
    "                                        joke_data_train), v_weight_matrix.T)+ 2*lambda_w*u_weight_matrix\n",
    "u_weight_matrix = u_weight_matrix - epsilon*delta_L_u\n",
    "\n",
    "delta_L_v = 2*np.dot(u_weight_matrix.T, np.subtract(np.dot(u_weight_matrix, v_weight_matrix), \\\n",
    "                                        joke_data_train))+ 2*lambda_w*v_weight_matrix\n",
    "v_weight_matrix = v_weight_matrix - epsilon*delta_L_v"
   ]
  },
  {
   "cell_type": "code",
   "execution_count": 416,
   "metadata": {
    "collapsed": true
   },
   "outputs": [],
   "source": [
    "####################    2.3.4     #################### "
   ]
  },
  {
   "cell_type": "code",
   "execution_count": 413,
   "metadata": {
    "collapsed": false
   },
   "outputs": [
    {
     "name": "stdout",
     "output_type": "stream",
     "text": [
      "MSE After iteration 25: 67602937.2065\n",
      "MSE After iteration 50: 67079496.6749\n",
      "MSE After iteration 75: 66647460.503\n",
      "MSE After iteration 100: 66283918.538\n",
      "MSE After iteration 125: 65972140.4942\n",
      "MSE After iteration 150: 65699913.1247\n",
      "MSE After iteration 175: 65458338.3285\n",
      "MSE After iteration 200: 65240961.231\n",
      "MSE After iteration 225: 65043135.8111\n",
      "MSE After iteration 250: 64861562.3583\n",
      "MSE After iteration 275: 64693949.7408\n",
      "MSE After iteration 300: 64538768.6732\n",
      "MSE After iteration 325: 64395071.5697\n",
      "MSE After iteration 350: 64262361.2844\n",
      "MSE After iteration 375: 64140495.8754\n",
      "MSE After iteration 400: 64029620.0138\n",
      "MSE After iteration 425: 63930116.1866\n",
      "MSE After iteration 450: 63842570.6734\n",
      "MSE After iteration 475: 63767750.6172\n",
      "MSE After iteration 500: 63706589.4769\n"
     ]
    }
   ],
   "source": [
    "for i in range(num_iter):\n",
    "    delta_L_u = 2*np.dot(np.subtract(np.dot(u_weight_matrix, v_weight_matrix), \\\n",
    "                                        joke_data_train), v_weight_matrix.T)+ 2*lambda_w*u_weight_matrix\n",
    "    u_weight_matrix = u_weight_matrix - epsilon*delta_L_u\n",
    "\n",
    "    delta_L_v = 2*np.dot(u_weight_matrix.T, np.subtract(np.dot(u_weight_matrix, v_weight_matrix), \\\n",
    "                                        joke_data_train))+ 2*lambda_w*v_weight_matrix\n",
    "    v_weight_matrix = v_weight_matrix - epsilon*delta_L_v\n",
    "    if((i+1)%25==0 and i>0):\n",
    "        print(\"MSE After iteration \"+str(i+1)+\": \"+str(MSE_calc(u_weight_matrix, v_weight_matrix, lambda_w)))"
   ]
  },
  {
   "cell_type": "code",
   "execution_count": 277,
   "metadata": {
    "collapsed": false
   },
   "outputs": [
    {
     "name": "stdout",
     "output_type": "stream",
     "text": [
      "(24983, 100)\n",
      "(100, 100)\n"
     ]
    }
   ],
   "source": [
    "print(u_weight_matrix.shape)\n",
    "print(v_weight_matrix.shape)"
   ]
  },
  {
   "cell_type": "code",
   "execution_count": 701,
   "metadata": {
    "collapsed": true
   },
   "outputs": [],
   "source": [
    "####################    2.4.1     #################### "
   ]
  },
  {
   "cell_type": "code",
   "execution_count": 886,
   "metadata": {
    "collapsed": false
   },
   "outputs": [
    {
     "data": {
      "text/plain": [
       "902409"
      ]
     },
     "execution_count": 886,
     "metadata": {},
     "output_type": "execute_result"
    }
   ],
   "source": [
    "len(query_list)"
   ]
  },
  {
   "cell_type": "code",
   "execution_count": 443,
   "metadata": {
    "collapsed": false
   },
   "outputs": [
    {
     "name": "stdout",
     "output_type": "stream",
     "text": [
      "Validtion Accuracy when d=4: 71.6802168022\n"
     ]
    }
   ],
   "source": [
    "##### when d=4 \n",
    "U_prime_4=U_mat[:,range(4)]\n",
    "S_prime1_4=np.diag(S_mat1[range(4)])\n",
    "S_prime2_4=np.diag(S_mat2[range(4)])\n",
    "V_prime_4=V_mat[range(4)]\n",
    "joke_data_train_prime_4=np.dot(np.dot(U_prime_4, S_prime1_4), np.dot(S_prime2_4,V_prime_4))\n",
    "#validation accuracy when d=4\n",
    "acc_sum_4=0\n",
    "for k in valid_list:\n",
    "    acc_sum_4 += sum(sum(joke_data_train_prime_4[(k[0]-1), (k[1]-1)]>0)==k[2])\n",
    "#Accuracy:\n",
    "print(\"Validtion Accuracy when d=4: \"+str((acc_sum_4/len(valid_list))*100))"
   ]
  },
  {
   "cell_type": "code",
   "execution_count": 430,
   "metadata": {
    "collapsed": true
   },
   "outputs": [],
   "source": [
    "query_ans_list_d4=[]\n",
    "for k in query_list:\n",
    "    query_ans_list_d4.append(sum(joke_data_train_prime_4[(k[1]-1), (k[2]-1)]>0))"
   ]
  },
  {
   "cell_type": "code",
   "execution_count": 439,
   "metadata": {
    "collapsed": false
   },
   "outputs": [
    {
     "name": "stdout",
     "output_type": "stream",
     "text": [
      "Validtion Accuracy when d=6: 71.3550135501\n"
     ]
    }
   ],
   "source": [
    "##### when d=6 \n",
    "U_prime_6=U_mat[:,range(6)]\n",
    "S_prime1_6=np.diag(S_mat1[range(6)])\n",
    "S_prime2_6=np.diag(S_mat2[range(6)])\n",
    "V_prime_6=V_mat[range(6)]\n",
    "joke_data_train_prime_6=np.dot(np.dot(U_prime_6, S_prime1_6), np.dot(S_prime2_6,V_prime_6))\n",
    "#validation accuracy when d=20\n",
    "acc_sum_6=0\n",
    "for k in valid_list:\n",
    "    acc_sum_6 += sum(sum(joke_data_train_prime_6[(k[0]-1), (k[1]-1)]>0)==k[2])\n",
    "#Accuracy:\n",
    "print(\"Validtion Accuracy when d=6: \"+str((acc_sum_6/len(valid_list))*100))"
   ]
  },
  {
   "cell_type": "code",
   "execution_count": 428,
   "metadata": {
    "collapsed": true
   },
   "outputs": [],
   "source": [
    "query_ans_list_d6=[]\n",
    "for k in query_list:\n",
    "    query_ans_list_d6.append(sum(joke_data_train_prime_6[(k[1]-1), (k[2]-1)]>0))"
   ]
  },
  {
   "cell_type": "code",
   "execution_count": 436,
   "metadata": {
    "collapsed": true
   },
   "outputs": [],
   "source": [
    "######### validations with d=7,8,9"
   ]
  },
  {
   "cell_type": "code",
   "execution_count": 438,
   "metadata": {
    "collapsed": false
   },
   "outputs": [
    {
     "name": "stdout",
     "output_type": "stream",
     "text": [
      "Validtion Accuracy when d=7: 71.4363143631\n"
     ]
    }
   ],
   "source": [
    "##### when d=7\n",
    "U_prime_7=U_mat[:,range(7)]\n",
    "S_prime1_7=np.diag(S_mat1[range(7)])\n",
    "S_prime2_7=np.diag(S_mat2[range(7)])\n",
    "V_prime_7=V_mat[range(7)]\n",
    "joke_data_train_prime_7=np.dot(np.dot(U_prime_7, S_prime1_7), np.dot(S_prime2_7,V_prime_7))\n",
    "#validation accuracy when d=20\n",
    "acc_sum_7=0\n",
    "for k in valid_list:\n",
    "    acc_sum_7 += sum(sum(joke_data_train_prime_7[(k[0]-1), (k[1]-1)]>0)==k[2])\n",
    "#Accuracy:\n",
    "print(\"Validtion Accuracy when d=7: \"+str((acc_sum_7/len(valid_list))*100))"
   ]
  },
  {
   "cell_type": "code",
   "execution_count": 440,
   "metadata": {
    "collapsed": false
   },
   "outputs": [
    {
     "name": "stdout",
     "output_type": "stream",
     "text": [
      "Validtion Accuracy when d=8: 71.8157181572\n"
     ]
    }
   ],
   "source": [
    "##### when d=8\n",
    "U_prime_8=U_mat[:,range(8)]\n",
    "S_prime1_8=np.diag(S_mat1[range(8)])\n",
    "S_prime2_8=np.diag(S_mat2[range(8)])\n",
    "V_prime_8=V_mat[range(8)]\n",
    "joke_data_train_prime_8=np.dot(np.dot(U_prime_8, S_prime1_8), np.dot(S_prime2_8,V_prime_8))\n",
    "#validation accuracy when d=20\n",
    "acc_sum_8=0\n",
    "for k in valid_list:\n",
    "    acc_sum_8 += sum(sum(joke_data_train_prime_8[(k[0]-1), (k[1]-1)]>0)==k[2])\n",
    "#Accuracy:\n",
    "print(\"Validtion Accuracy when d=8: \"+str((acc_sum_8/len(valid_list))*100))"
   ]
  },
  {
   "cell_type": "code",
   "execution_count": 441,
   "metadata": {
    "collapsed": false
   },
   "outputs": [
    {
     "name": "stdout",
     "output_type": "stream",
     "text": [
      "Validtion Accuracy when d=9: 72.1409214092\n"
     ]
    }
   ],
   "source": [
    "##### when d=9\n",
    "U_prime_9=U_mat[:,range(9)]\n",
    "S_prime1_9=np.diag(S_mat1[range(9)])\n",
    "S_prime2_9=np.diag(S_mat2[range(9)])\n",
    "V_prime_9=V_mat[range(9)]\n",
    "joke_data_train_prime_9=np.dot(np.dot(U_prime_9, S_prime1_9), np.dot(S_prime2_9,V_prime_9))\n",
    "#validation accuracy when d=20\n",
    "acc_sum_9=0\n",
    "for k in valid_list:\n",
    "    acc_sum_9 += sum(sum(joke_data_train_prime_9[(k[0]-1), (k[1]-1)]>0)==k[2])\n",
    "#Accuracy:\n",
    "print(\"Validtion Accuracy when d=9: \"+str((acc_sum_9/len(valid_list))*100))"
   ]
  },
  {
   "cell_type": "code",
   "execution_count": 442,
   "metadata": {
    "collapsed": false
   },
   "outputs": [
    {
     "name": "stdout",
     "output_type": "stream",
     "text": [
      "Validtion Accuracy when d=3: 70.9485094851\n"
     ]
    }
   ],
   "source": [
    "##### when d=3\n",
    "U_prime_3=U_mat[:,range(3)]\n",
    "S_prime1_3=np.diag(S_mat1[range(3)])\n",
    "S_prime2_3=np.diag(S_mat2[range(3)])\n",
    "V_prime_3=V_mat[range(3)]\n",
    "joke_data_train_prime_3=np.dot(np.dot(U_prime_3, S_prime1_3), np.dot(S_prime2_3,V_prime_3))\n",
    "#validation accuracy when d=20\n",
    "acc_sum_3=0\n",
    "for k in valid_list:\n",
    "    acc_sum_3 += sum(sum(joke_data_train_prime_3[(k[0]-1), (k[1]-1)]>0)==k[2])\n",
    "#Accuracy:\n",
    "print(\"Validtion Accuracy when d=3: \"+str((acc_sum_3/len(valid_list))*100))"
   ]
  },
  {
   "cell_type": "code",
   "execution_count": 451,
   "metadata": {
    "collapsed": true
   },
   "outputs": [],
   "source": [
    "### Results on validation set when\n",
    "#  d=3:  70.948\n",
    "#  d=4:   71.68\n",
    "#  d=5:   71.544\n",
    "#  d=6:    71.355\n",
    "#  d=7:    71.436\n",
    "#  d=8:   71.815\n",
    "#  d=9:   72.14\n",
    "#  d=10:  71.653"
   ]
  },
  {
   "cell_type": "code",
   "execution_count": 513,
   "metadata": {
    "collapsed": true
   },
   "outputs": [],
   "source": [
    "query_ans_list_d3=[]\n",
    "for k in query_list:\n",
    "    query_ans_list_d3.append(sum(joke_data_train_prime_3[(k[1]-1), (k[2]-1)]>0))\n",
    "\n",
    "query_ans_list_d7=[]\n",
    "for k in query_list:\n",
    "    query_ans_list_d7.append(sum(joke_data_train_prime_7[(k[1]-1), (k[2]-1)]>0))\n"
   ]
  },
  {
   "cell_type": "code",
   "execution_count": null,
   "metadata": {
    "collapsed": true
   },
   "outputs": [],
   "source": []
  }
 ],
 "metadata": {
  "kernelspec": {
   "display_name": "Python 2",
   "language": "python",
   "name": "python2"
  },
  "language_info": {
   "codemirror_mode": {
    "name": "ipython",
    "version": 2
   },
   "file_extension": ".py",
   "mimetype": "text/x-python",
   "name": "python",
   "nbconvert_exporter": "python",
   "pygments_lexer": "ipython2",
   "version": "2.7.11"
  }
 },
 "nbformat": 4,
 "nbformat_minor": 0
}
