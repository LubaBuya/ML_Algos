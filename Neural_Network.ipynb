{
 "cells": [
  {
   "cell_type": "code",
   "execution_count": 82,
   "metadata": {
    "collapsed": false
   },
   "outputs": [],
   "source": [
    "import random \n",
    "import numpy as np\n",
    "import scipy.io as spy\n",
    "from __future__ import division\n",
    "import time\n",
    "\n",
    "data_path=\"/Users/Luba/Desktop/hw6/dataset/\"\n",
    "\n",
    "data=spy.loadmat(data_path+\"train.mat\")\n",
    "test_data=spy.loadmat(data_path+\"test.mat\")"
   ]
  },
  {
   "cell_type": "code",
   "execution_count": 4,
   "metadata": {
    "collapsed": false
   },
   "outputs": [
    {
     "name": "stdout",
     "output_type": "stream",
     "text": [
      "Populating the interactive namespace from numpy and matplotlib\n"
     ]
    },
    {
     "name": "stderr",
     "output_type": "stream",
     "text": [
      "WARNING: pylab import has clobbered these variables: ['spy', 'random', 'tanh']\n",
      "`%matplotlib` prevents importing * from pylab and numpy\n"
     ]
    }
   ],
   "source": [
    "import matplotlib.pyplot as plt\n",
    "%pylab inline"
   ]
  },
  {
   "cell_type": "code",
   "execution_count": 5,
   "metadata": {
    "collapsed": true
   },
   "outputs": [],
   "source": [
    "training_images=data.get('train_images')"
   ]
  },
  {
   "cell_type": "code",
   "execution_count": 6,
   "metadata": {
    "collapsed": false
   },
   "outputs": [
    {
     "data": {
      "text/plain": [
       "array([[0, 0, 0, ..., 0, 0, 0],\n",
       "       [0, 0, 0, ..., 0, 0, 0],\n",
       "       [0, 0, 0, ..., 0, 0, 0],\n",
       "       ..., \n",
       "       [0, 0, 0, ..., 0, 0, 0],\n",
       "       [0, 0, 0, ..., 0, 0, 0],\n",
       "       [0, 0, 0, ..., 0, 0, 0]], dtype=uint8)"
      ]
     },
     "execution_count": 6,
     "metadata": {},
     "output_type": "execute_result"
    }
   ],
   "source": [
    "training_images[0]"
   ]
  },
  {
   "cell_type": "code",
   "execution_count": 7,
   "metadata": {
    "collapsed": true
   },
   "outputs": [],
   "source": [
    "training_data_vec=[]\n",
    "for k in range(len((training_images[0][0]))):\n",
    "    element=[]\n",
    "    for i in range(28):\n",
    "        for j in range(28):\n",
    "            element.append(training_images[i][j][k])\n",
    "    training_data_vec.append(element)"
   ]
  },
  {
   "cell_type": "code",
   "execution_count": 8,
   "metadata": {
    "collapsed": true
   },
   "outputs": [],
   "source": [
    "training_labels_vec=data.get('train_labels')"
   ]
  },
  {
   "cell_type": "code",
   "execution_count": 12,
   "metadata": {
    "collapsed": false
   },
   "outputs": [],
   "source": [
    "d_vec=[list(np.true_divide(np.array(k), 255)) for k in training_data_vec]"
   ]
  },
  {
   "cell_type": "code",
   "execution_count": 84,
   "metadata": {
    "collapsed": false
   },
   "outputs": [],
   "source": [
    "test_images=test_data.get('test_images')"
   ]
  },
  {
   "cell_type": "code",
   "execution_count": 106,
   "metadata": {
    "collapsed": false
   },
   "outputs": [],
   "source": [
    "test_data_vec=[]\n",
    "for k in test_images:\n",
    "    k=k.tolist()\n",
    "    element=[]\n",
    "    for i in range(28):\n",
    "        element=element+k[i::28]\n",
    "    test_data_vec.append(element)"
   ]
  },
  {
   "cell_type": "code",
   "execution_count": 107,
   "metadata": {
    "collapsed": false
   },
   "outputs": [
    {
     "data": {
      "text/plain": [
       "10000"
      ]
     },
     "execution_count": 107,
     "metadata": {},
     "output_type": "execute_result"
    }
   ],
   "source": [
    "len(test_data_vec)"
   ]
  },
  {
   "cell_type": "code",
   "execution_count": 118,
   "metadata": {
    "collapsed": true
   },
   "outputs": [],
   "source": [
    "t_vec = [list(np.true_divide(np.array(k), 255)) for k in test_data_vec]"
   ]
  },
  {
   "cell_type": "code",
   "execution_count": 119,
   "metadata": {
    "collapsed": false
   },
   "outputs": [
    {
     "data": {
      "text/plain": [
       "60000"
      ]
     },
     "execution_count": 119,
     "metadata": {},
     "output_type": "execute_result"
    }
   ],
   "source": [
    "len(d_vec)"
   ]
  },
  {
   "cell_type": "code",
   "execution_count": 14,
   "metadata": {
    "collapsed": true
   },
   "outputs": [],
   "source": [
    "training_data=np.array(d_vec)"
   ]
  },
  {
   "cell_type": "code",
   "execution_count": 16,
   "metadata": {
    "collapsed": true
   },
   "outputs": [],
   "source": [
    "training_labels=np.array(training_labels_vec)"
   ]
  },
  {
   "cell_type": "code",
   "execution_count": 19,
   "metadata": {
    "collapsed": false
   },
   "outputs": [
    {
     "data": {
      "text/plain": [
       "(60000, 784)"
      ]
     },
     "execution_count": 19,
     "metadata": {},
     "output_type": "execute_result"
    }
   ],
   "source": [
    "training_data.shape"
   ]
  },
  {
   "cell_type": "code",
   "execution_count": 120,
   "metadata": {
    "collapsed": true
   },
   "outputs": [],
   "source": [
    "test_data_array=np.array(t_vec)"
   ]
  },
  {
   "cell_type": "code",
   "execution_count": 121,
   "metadata": {
    "collapsed": false
   },
   "outputs": [
    {
     "data": {
      "text/plain": [
       "10000"
      ]
     },
     "execution_count": 121,
     "metadata": {},
     "output_type": "execute_result"
    }
   ],
   "source": [
    "len(t_vec)"
   ]
  },
  {
   "cell_type": "code",
   "execution_count": 303,
   "metadata": {
    "collapsed": false
   },
   "outputs": [],
   "source": [
    "from __future__ import division\n",
    "import numpy as np\n",
    "import random \n",
    "\n",
    "class NeuralNetwork(object):\n",
    "\n",
    "    def __init__(self, n_in=784, n_hid=200, n_out=10):\n",
    "\n",
    "        self.biases = [(0.01*np.random.randn(y, 1)) for y in [n_hid, n_out]]\n",
    "        self.weights = [(0.01*np.random.randn(y, x)) for x, y in zip([n_in, n_hid], [n_hid, n_out])]\n",
    "                         \n",
    "        self.total_training_error=[]\n",
    "        self.training_accuracy_iter=[]\n",
    "        self.training_accuracy_epoch=[]\n",
    "        self.valid_accuracy=[]\n",
    "             \n",
    "    def stoch_train(self, training_data, test_data, learning_rate, epoch_num, small_batch_size, cost_func=\"Cross_Entropy\"):\n",
    "        batch_num=0\n",
    "        opech_num=0\n",
    "        train_data_len = len(training_data)\n",
    "        \n",
    "        count=0\n",
    "        while(count<epoch_num):\n",
    "            random.shuffle(training_data)\n",
    "            small_batch_set = [training_data[i:i+small_batch_size] for i in range(0, train_data_len, small_batch_size)]\n",
    "            for small_batch in small_batch_set:\n",
    "                batch_num +=1 \n",
    "                       \n",
    "                weights_update = [np.zeros(weight.shape) for weight in self.weights]\n",
    "                bias_update = [np.zeros(bias.shape) for bias in self.biases]\n",
    "                for a, b in small_batch:\n",
    "                       delta_bias, delta_weight = self.back_propagation(a, b, cost_func)\n",
    "                       bias_update = [bias_upd+dbias for dbias, bias_upd in zip(delta_bias, bias_update)]\n",
    "                       weights_update = [weight_upd+dweight for dweight, weight_upd in zip(delta_weight, weights_update)]\n",
    "                self.weights = [weight-((learning_rate/len(small_batch))*w_delta) for w_delta, weight in zip(weights_update, self.weights)]  \n",
    "                self.biases = [bias-((learning_rate/len(small_batch))*b_delta) for b_delta, bias in zip(bias_update, self.biases)]\n",
    "                \n",
    "                if(batch_num%100==0):\n",
    "                    total_error=0\n",
    "                    for (x_p,y_p) in training_data:\n",
    "                        x1_p = tanh(np.dot(self.weights[0], x_p)+self.biases[0])\n",
    "                        x2_p = Sigmoid(np.dot(self.weights[1], x1_p)+self.biases[1]) \n",
    "                    total_error += self.point_error(x2_p, y_p, cost_func)\n",
    "                    self.total_training_error.append(total_error)\n",
    "                    \n",
    "                    training_set_acc_results_iter = [(self.predict(x), np.argmax(y)) for (x, y) in training_data]\n",
    "                    train_acc_sum_iter=0\n",
    "                    for (a,b) in training_set_acc_results_iter:\n",
    "                        if(a==b):\n",
    "                            train_acc_sum_iter+=1\n",
    "                    t_acc_results_iter = train_acc_sum_iter/len(training_data)\n",
    "                    self.training_accuracy_iter.append(t_acc_results_iter)\n",
    "                    \n",
    "            \n",
    "            opech_num +=1\n",
    "            if(opech_num>=70 and cost_func==\"Cross_Entropy\"):\n",
    "                       learning_rate = 0.005\n",
    "\n",
    "            valid_set_results = [(self.predict(x), y) for (x, y) in test_data]\n",
    "            val_sum=0\n",
    "            for (z,y) in valid_set_results:\n",
    "                if(z==y):\n",
    "                    val_sum+=1  \n",
    "            valid_set_performance = val_sum/len(test_data)\n",
    "            print(\"Opech#: \" + str(opech_num) + \" Validation Set Accuracy: \" + str(valid_set_performance))\n",
    "            self.valid_accuracy.append(valid_set_performance)\n",
    "            \n",
    "            training_set_acc_results = [(self.predict(x), np.argmax(y)) for (x, y) in training_data]\n",
    "            train_acc_sum=0\n",
    "            for (z,y) in training_set_acc_results:\n",
    "                if(z==y):\n",
    "                    train_acc_sum+=1\n",
    "            t_acc_results = train_acc_sum/len(training_data)\n",
    "            self.training_accuracy_epoch.append(t_acc_results)\n",
    "            \n",
    "            count+=1\n",
    "                       \n",
    "\n",
    "    #backpropagation algorithm. helper function for the stoch_train function.\n",
    "    def back_propagation(self, a, b, cost_func):\n",
    "\n",
    "        delta_weights = [np.zeros(weight.shape) for weight in self.weights]\n",
    "        delta_bias = [np.zeros(bias.shape) for bias in self.biases]         \n",
    "        node = a\n",
    "        nodes_activated = [a] \n",
    "        nodes_vec = [] \n",
    "        vec = (np.dot(self.weights[0], node)+1*self.biases[0])\n",
    "        nodes_vec.append(vec)\n",
    "        node = tanh(vec)\n",
    "        nodes_activated.append(node)\n",
    "        vec = (np.dot(self.weights[1], node)+1*self.biases[1])\n",
    "        nodes_vec.append(vec)\n",
    "        node = Sigmoid(vec)\n",
    "        nodes_activated.append(node)\n",
    "    \n",
    "        if(cost_func==\"MSE\"):\n",
    "            dta = MSE_der(nodes_activated[-1], b)*Prime_sigmoid(nodes_vec[-1])\n",
    "        elif(cost_func==\"Cross_Entropy\"):\n",
    "            dta = CEntropy_der(nodes_activated[-1], b)*Prime_sigmoid(nodes_vec[-1])\n",
    "        else:\n",
    "            dta = CEntropy_der(nodes_activated[-1], b)*Prime_sigmoid(nodes_vec[-1])\n",
    "        delta_bias[-1] = dta\n",
    "        delta_weights[-1] = np.dot(dta, nodes_activated[-2].transpose())\n",
    "        vec = nodes_vec[-2]\n",
    "        tanh_actd = Prime_tanh(vec)\n",
    "        dta = np.dot(self.weights[-1].transpose(), dta) * tanh_actd\n",
    "        delta_bias[-2] = dta\n",
    "        delta_weights[-2] = np.dot(dta, nodes_activated[-3].transpose())\n",
    "        \n",
    "        return (delta_bias, delta_weights)\n",
    "\n",
    "                       \n",
    "    def predict(self, x):\n",
    "        x1 = tanh(np.dot(self.weights[0], x)+self.biases[0])\n",
    "        x2 = Sigmoid(np.dot(self.weights[1], x1)+self.biases[1])               \n",
    "        digit_class = np.argmax(x2)\n",
    "        return digit_class\n",
    "    \n",
    "    def point_error(self, z, y, cost_func):\n",
    "        if(cost_func==\"Cross_Entropy\"):\n",
    "            return CEntropy(z,y)\n",
    "        elif(cost_func==\"MSE\"):\n",
    "            return MSE(z,y)\n",
    "        else:\n",
    "            return CEntropy(z,y)\n",
    "        \n",
    "# error/cost functions and other helper functions\n",
    "                       \n",
    "def MSE(z,y):\n",
    "    return (0.5)*np.square(np.linalg.norm(z-y))\n",
    "\n",
    "def CEntropy(z,y):\n",
    "    return np.sum(np.nan_to_num(-y*np.log(z)-(1-y)*np.log(1-z)))\n",
    "                \n",
    "def MSE_der(z,y):\n",
    "    return z-y\n",
    "\n",
    "def CEntropy_der(z,y):\n",
    "    return -((y/z)-(1-y)/(1-z))\n",
    "\n",
    "def tanh(x):\n",
    "    return (np.exp(2*x)-1)/(np.exp(2*x)+1)\n",
    "\n",
    "def Prime_tanh(x):\n",
    "    return 1-tanh(x)**2\n",
    "\n",
    "def Sigmoid(a):\n",
    "    x=np.exp(-a)\n",
    "    return 1.0/(1.0+x)\n",
    "\n",
    "def Prime_sigmoid(x):\n",
    "    return Sigmoid(x)*(1-Sigmoid(x))"
   ]
  },
  {
   "cell_type": "code",
   "execution_count": 206,
   "metadata": {
    "collapsed": true
   },
   "outputs": [],
   "source": [
    "def train_output_format(x):\n",
    "    vec = np.zeros((10, 1))\n",
    "    vec[x] = 1.0\n",
    "    return vec"
   ]
  },
  {
   "cell_type": "code",
   "execution_count": 24,
   "metadata": {
    "collapsed": false
   },
   "outputs": [],
   "source": [
    "y_arr=[train_output_format(y[0]) for y in training_labels]"
   ]
  },
  {
   "cell_type": "code",
   "execution_count": 25,
   "metadata": {
    "collapsed": false
   },
   "outputs": [
    {
     "data": {
      "text/plain": [
       "60000"
      ]
     },
     "execution_count": 25,
     "metadata": {},
     "output_type": "execute_result"
    }
   ],
   "source": [
    "len(training_labels)"
   ]
  },
  {
   "cell_type": "code",
   "execution_count": 28,
   "metadata": {
    "collapsed": false
   },
   "outputs": [],
   "source": [
    "t_arr = [np.reshape(x, (784, 1)) for x in training_data]"
   ]
  },
  {
   "cell_type": "code",
   "execution_count": 95,
   "metadata": {
    "collapsed": false
   },
   "outputs": [
    {
     "data": {
      "text/plain": [
       "60000"
      ]
     },
     "execution_count": 95,
     "metadata": {},
     "output_type": "execute_result"
    }
   ],
   "source": [
    "len(training_data)"
   ]
  },
  {
   "cell_type": "code",
   "execution_count": 122,
   "metadata": {
    "collapsed": true
   },
   "outputs": [],
   "source": [
    "test_arr=[np.reshape(x, (784, 1)) for x in test_data_array]"
   ]
  },
  {
   "cell_type": "code",
   "execution_count": 124,
   "metadata": {
    "collapsed": false
   },
   "outputs": [
    {
     "data": {
      "text/plain": [
       "10000"
      ]
     },
     "execution_count": 124,
     "metadata": {},
     "output_type": "execute_result"
    }
   ],
   "source": [
    "len(test_arr)"
   ]
  },
  {
   "cell_type": "code",
   "execution_count": 125,
   "metadata": {
    "collapsed": false
   },
   "outputs": [
    {
     "data": {
      "text/plain": [
       "60000"
      ]
     },
     "execution_count": 125,
     "metadata": {},
     "output_type": "execute_result"
    }
   ],
   "source": [
    "len(t_arr)"
   ]
  },
  {
   "cell_type": "code",
   "execution_count": 32,
   "metadata": {
    "collapsed": false
   },
   "outputs": [],
   "source": [
    "#randomf shuffling and dividing data set into training and validation\n",
    "import random\n",
    "index=range(60000)\n",
    "index=list(index)\n",
    "random.shuffle(index)\n",
    "\n",
    "\n",
    "test_size=10000\n",
    "\n",
    "test_index=random.sample(index,test_size)\n",
    "train_index=list(set(index)-set(test_index))\n",
    "random.shuffle(train_index)\n"
   ]
  },
  {
   "cell_type": "code",
   "execution_count": 36,
   "metadata": {
    "collapsed": false
   },
   "outputs": [
    {
     "data": {
      "text/plain": [
       "50000"
      ]
     },
     "execution_count": 36,
     "metadata": {},
     "output_type": "execute_result"
    }
   ],
   "source": [
    "len(train_index)"
   ]
  },
  {
   "cell_type": "code",
   "execution_count": 37,
   "metadata": {
    "collapsed": false
   },
   "outputs": [
    {
     "data": {
      "text/plain": [
       "10000"
      ]
     },
     "execution_count": 37,
     "metadata": {},
     "output_type": "execute_result"
    }
   ],
   "source": [
    "len(test_index)"
   ]
  },
  {
   "cell_type": "code",
   "execution_count": 38,
   "metadata": {
    "collapsed": true
   },
   "outputs": [],
   "source": [
    "y_arr_t=[training_labels[k][0] for k in test_index]"
   ]
  },
  {
   "cell_type": "code",
   "execution_count": 39,
   "metadata": {
    "collapsed": true
   },
   "outputs": [],
   "source": [
    "t_arr_t=[t_arr[i] for i in test_index]"
   ]
  },
  {
   "cell_type": "code",
   "execution_count": 40,
   "metadata": {
    "collapsed": true
   },
   "outputs": [],
   "source": [
    "test_zip = zip(t_arr_t, y_arr_t)"
   ]
  },
  {
   "cell_type": "code",
   "execution_count": 41,
   "metadata": {
    "collapsed": true
   },
   "outputs": [],
   "source": [
    "train_d= [t_arr[i] for i in train_index]"
   ]
  },
  {
   "cell_type": "code",
   "execution_count": 42,
   "metadata": {
    "collapsed": true
   },
   "outputs": [],
   "source": [
    "train_lab = [y_arr[i] for i in train_index]"
   ]
  },
  {
   "cell_type": "code",
   "execution_count": 43,
   "metadata": {
    "collapsed": true
   },
   "outputs": [],
   "source": [
    "zip_d=zip(train_d, train_lab)"
   ]
  },
  {
   "cell_type": "code",
   "execution_count": 178,
   "metadata": {
    "collapsed": false
   },
   "outputs": [
    {
     "name": "stdout",
     "output_type": "stream",
     "text": [
      "Opech#: 1 Test accuracy: 0.878\n",
      "Opech#: 2 Test accuracy: 0.9047\n",
      "Opech#: 3 Test accuracy: 0.9197\n",
      "Opech#: 4 Test accuracy: 0.9308\n",
      "Opech#: 5 Test accuracy: 0.9379\n",
      "Opech#: 6 Test accuracy: 0.9427\n",
      "Opech#: 7 Test accuracy: 0.9489\n",
      "Opech#: 8 Test accuracy: 0.9524\n",
      "Opech#: 9 Test accuracy: 0.9549\n",
      "Opech#: 10 Test accuracy: 0.9572\n",
      "Opech#: 11 Test accuracy: 0.9597\n",
      "Opech#: 12 Test accuracy: 0.9628\n",
      "Opech#: 13 Test accuracy: 0.9648\n",
      "Opech#: 14 Test accuracy: 0.964\n",
      "Opech#: 15 Test accuracy: 0.9652\n",
      "Opech#: 16 Test accuracy: 0.9644\n",
      "Opech#: 17 Test accuracy: 0.9664\n",
      "Opech#: 18 Test accuracy: 0.9659\n",
      "Opech#: 19 Test accuracy: 0.9683\n",
      "Opech#: 20 Test accuracy: 0.9676\n",
      "Opech#: 21 Test accuracy: 0.9685\n",
      "Opech#: 22 Test accuracy: 0.9687\n",
      "Opech#: 23 Test accuracy: 0.9695\n",
      "Opech#: 24 Test accuracy: 0.9696\n",
      "Opech#: 25 Test accuracy: 0.9696\n",
      "Opech#: 26 Test accuracy: 0.9696\n",
      "Opech#: 27 Test accuracy: 0.9694\n",
      "Opech#: 28 Test accuracy: 0.9696\n",
      "Opech#: 29 Test accuracy: 0.9704\n",
      "Opech#: 30 Test accuracy: 0.9696\n",
      "Opech#: 31 Test accuracy: 0.9705\n",
      "Opech#: 32 Test accuracy: 0.9713\n",
      "Opech#: 33 Test accuracy: 0.971\n",
      "Opech#: 34 Test accuracy: 0.9698\n",
      "Opech#: 35 Test accuracy: 0.9711\n",
      "Opech#: 36 Test accuracy: 0.9714\n",
      "Opech#: 37 Test accuracy: 0.9709\n",
      "Opech#: 38 Test accuracy: 0.9715\n",
      "Opech#: 39 Test accuracy: 0.9717\n",
      "Opech#: 40 Test accuracy: 0.9713\n",
      "Opech#: 41 Test accuracy: 0.9718\n",
      "Opech#: 42 Test accuracy: 0.9712\n",
      "Opech#: 43 Test accuracy: 0.9718\n",
      "Opech#: 44 Test accuracy: 0.9723\n",
      "Opech#: 45 Test accuracy: 0.9725\n",
      "Opech#: 46 Test accuracy: 0.9721\n",
      "Opech#: 47 Test accuracy: 0.9722\n",
      "Opech#: 48 Test accuracy: 0.9722\n",
      "Opech#: 49 Test accuracy: 0.9721\n",
      "Opech#: 50 Test accuracy: 0.9716\n",
      "Opech#: 51 Test accuracy: 0.9729\n",
      "Opech#: 52 Test accuracy: 0.9725\n",
      "Opech#: 53 Test accuracy: 0.9725\n",
      "Opech#: 54 Test accuracy: 0.9723\n",
      "Opech#: 55 Test accuracy: 0.9727\n",
      "Opech#: 56 Test accuracy: 0.972\n",
      "Opech#: 57 Test accuracy: 0.9726\n",
      "Opech#: 58 Test accuracy: 0.9733\n",
      "Opech#: 59 Test accuracy: 0.9727\n",
      "Opech#: 60 Test accuracy: 0.9733\n",
      "Opech#: 61 Test accuracy: 0.9727\n",
      "Opech#: 62 Test accuracy: 0.9728\n",
      "Opech#: 63 Test accuracy: 0.9728\n",
      "Opech#: 64 Test accuracy: 0.9727\n",
      "Opech#: 65 Test accuracy: 0.9729\n",
      "Opech#: 66 Test accuracy: 0.9727\n",
      "Opech#: 67 Test accuracy: 0.9727\n",
      "Opech#: 68 Test accuracy: 0.9729\n",
      "Opech#: 69 Test accuracy: 0.9729\n",
      "Opech#: 70 Test accuracy: 0.9728\n",
      "Opech#: 71 Test accuracy: 0.9722\n",
      "Opech#: 72 Test accuracy: 0.9717\n",
      "Opech#: 73 Test accuracy: 0.9721\n",
      "Opech#: 74 Test accuracy: 0.973\n",
      "Opech#: 75 Test accuracy: 0.9724\n",
      "Opech#: 76 Test accuracy: 0.9727\n",
      "Opech#: 77 Test accuracy: 0.9728\n",
      "Opech#: 78 Test accuracy: 0.9726\n",
      "Opech#: 79 Test accuracy: 0.9725\n",
      "Opech#: 80 Test accuracy: 0.9722\n",
      "Opech#: 81 Test accuracy: 0.9727\n",
      "Opech#: 82 Test accuracy: 0.9722\n",
      "Opech#: 83 Test accuracy: 0.9725\n",
      "Opech#: 84 Test accuracy: 0.973\n",
      "Opech#: 85 Test accuracy: 0.9723\n",
      "Opech#: 86 Test accuracy: 0.9724\n",
      "Opech#: 87 Test accuracy: 0.9718\n",
      "Opech#: 88 Test accuracy: 0.9725\n",
      "Opech#: 89 Test accuracy: 0.9724\n",
      "Opech#: 90 Test accuracy: 0.9719\n",
      "Opech#: 91 Test accuracy: 0.9724\n",
      "Opech#: 92 Test accuracy: 0.9724\n",
      "Opech#: 93 Test accuracy: 0.9722\n",
      "Opech#: 94 Test accuracy: 0.9719\n",
      "Opech#: 95 Test accuracy: 0.9724\n",
      "Opech#: 96 Test accuracy: 0.972\n",
      "Opech#: 97 Test accuracy: 0.9723\n",
      "Opech#: 98 Test accuracy: 0.9724\n",
      "Opech#: 99 Test accuracy: 0.9723\n",
      "Opech#: 100 Test accuracy: 0.9725\n"
     ]
    }
   ],
   "source": [
    "#For Kaggle\n",
    "NN_CEntropy = NeuralNetwork(n_in=784, n_hid=200, n_out=10)\n",
    "NN_CEntropy.stoch_train(zip_d, test_data=test_zip, learning_rate=0.01, epoch_num=20, small_batch_size=10, cost_func=\"Cross_Entropy\")        "
   ]
  },
  {
   "cell_type": "code",
   "execution_count": 179,
   "metadata": {
    "collapsed": true
   },
   "outputs": [],
   "source": [
    "CE_test_result=[]\n",
    "for k in range(len(test_arr)):\n",
    "    CE_test_result.append(NN_CEntropy.predict(test_arr[k]))"
   ]
  },
  {
   "cell_type": "code",
   "execution_count": 180,
   "metadata": {
    "collapsed": false
   },
   "outputs": [
    {
     "data": {
      "text/plain": [
       "10000"
      ]
     },
     "execution_count": 180,
     "metadata": {},
     "output_type": "execute_result"
    }
   ],
   "source": [
    "len(CE_test_result)"
   ]
  },
  {
   "cell_type": "code",
   "execution_count": 182,
   "metadata": {
    "collapsed": true
   },
   "outputs": [],
   "source": [
    "import csv\n",
    "writer=csv.writer(open(\"CE_test_result.csv\", 'wb'))\n",
    "for elem in CE_test_result:\n",
    "    l=[elem]\n",
    "    writer.writerow(l) "
   ]
  },
  {
   "cell_type": "code",
   "execution_count": 373,
   "metadata": {
    "collapsed": true
   },
   "outputs": [],
   "source": [
    "############### Cross-Entropy error model training starts here ###################"
   ]
  },
  {
   "cell_type": "code",
   "execution_count": 304,
   "metadata": {
    "collapsed": false
   },
   "outputs": [
    {
     "name": "stdout",
     "output_type": "stream",
     "text": [
      "Opech#: 1 Validation Set Accuracy: 0.865\n",
      "Opech#: 2 Validation Set Accuracy: 0.8865\n",
      "Opech#: 3 Validation Set Accuracy: 0.905\n",
      "Opech#: 4 Validation Set Accuracy: 0.9169\n",
      "Opech#: 5 Validation Set Accuracy: 0.927\n",
      "Opech#: 6 Validation Set Accuracy: 0.9366\n",
      "Opech#: 7 Validation Set Accuracy: 0.9415\n",
      "Opech#: 8 Validation Set Accuracy: 0.9463\n",
      "Opech#: 9 Validation Set Accuracy: 0.948\n",
      "Opech#: 10 Validation Set Accuracy: 0.9525\n",
      "Opech#: 11 Validation Set Accuracy: 0.9562\n",
      "Opech#: 12 Validation Set Accuracy: 0.9574\n",
      "Opech#: 13 Validation Set Accuracy: 0.959\n",
      "Opech#: 14 Validation Set Accuracy: 0.9604\n",
      "Opech#: 15 Validation Set Accuracy: 0.9618\n",
      "Opech#: 16 Validation Set Accuracy: 0.9641\n",
      "Opech#: 17 Validation Set Accuracy: 0.9633\n",
      "Opech#: 18 Validation Set Accuracy: 0.9647\n",
      "Opech#: 19 Validation Set Accuracy: 0.9658\n",
      "Opech#: 20 Validation Set Accuracy: 0.9664\n"
     ]
    }
   ],
   "source": [
    "start_time_2_CEntropy= time.time()\n",
    "NN_2_CEntropy = NeuralNetwork(n_in=784, n_hid=200, n_out=10)\n",
    "NN_2_CEntropy.stoch_train(zip_d, test_data=test_zip, learning_rate=0.01, epoch_num=20, small_batch_size=10, cost_func=\"Cross_Entropy\")\n",
    "elapsed_time_2_CEntropy= time.time() - start_time_2_CEntropy"
   ]
  },
  {
   "cell_type": "code",
   "execution_count": 305,
   "metadata": {
    "collapsed": false
   },
   "outputs": [
    {
     "name": "stdout",
     "output_type": "stream",
     "text": [
      "1000\n",
      "1000\n",
      "20\n",
      "20\n"
     ]
    }
   ],
   "source": [
    "print(len(NN_2_CEntropy.total_training_error))\n",
    "print(len(NN_2_CEntropy.training_accuracy_iter))\n",
    "print(len(NN_2_CEntropy.training_accuracy_epoch))\n",
    "print(len(NN_2_CEntropy.valid_accuracy))"
   ]
  },
  {
   "cell_type": "code",
   "execution_count": 401,
   "metadata": {
    "collapsed": false
   },
   "outputs": [
    {
     "data": {
      "text/plain": [
       "<matplotlib.text.Text at 0x1fbfa8a10>"
      ]
     },
     "execution_count": 401,
     "metadata": {},
     "output_type": "execute_result"
    },
    {
     "data": {
      "image/png": "[encoded data removed]",
      "text/plain": [
       "<matplotlib.figure.Figure at 0x1fb9d8a10>"
      ]
     },
     "metadata": {},
     "output_type": "display_data"
    }
   ],
   "source": [
    "plt.figure(figsize=(10,8))\n",
    "x_val=range(0,1001)\n",
    "#y_range=range(0,101)\n",
    "plt.plot(NN_2_CEntropy.total_training_error)\n",
    "plt.xticks(np.arange(min(x_val), max(x_val)+1, 50.0))\n",
    "plt.yticks(np.arange(0, 3.5+0.1, 0.1))\n",
    "plt.title('Cross-Entropy Error: Total training error on training set')\n",
    "plt.xlabel('Each update is evaluated after training on 1000 more data points. Total trained points = 1000*1000=1 million')\n",
    "plt.ylabel('Total Error')\n",
    "#plt.show()"
   ]
  },
  {
   "cell_type": "code",
   "execution_count": 402,
   "metadata": {
    "collapsed": false
   },
   "outputs": [
    {
     "data": {
      "image/png": "[encoded data removed]",
      "text/plain": [
       "<matplotlib.figure.Figure at 0x1fb26b850>"
      ]
     },
     "metadata": {},
     "output_type": "display_data"
    }
   ],
   "source": [
    "perc_NN_2_CEntropy=[100*x for x in NN_2_CEntropy.training_accuracy_iter]\n",
    "plt.figure(figsize=(10,8))\n",
    "x_val=range(0,1001)\n",
    "y_range=range(0,101)\n",
    "plt.plot(perc_NN_2_CEntropy)\n",
    "plt.xticks(np.arange(min(x_val), max(x_val)+1, 50.0))\n",
    "plt.yticks(np.arange(min(y_range), max(y_range)+1, 4.0))\n",
    "plt.title('Cross-Entropy Error: Classification accuracy on training set')\n",
    "plt.xlabel('Each update is evaluated after training on 1000 more data points. Total trained points = 1000*1000=1 million')\n",
    "plt.ylabel('Accuracy (percentage)')\n",
    "plt.show()"
   ]
  },
  {
   "cell_type": "code",
   "execution_count": 341,
   "metadata": {
    "collapsed": false
   },
   "outputs": [
    {
     "data": {
      "text/plain": [
       "133.3484337011973"
      ]
     },
     "execution_count": 341,
     "metadata": {},
     "output_type": "execute_result"
    }
   ],
   "source": [
    "elapsed_time_2_CEntropy/60 #min"
   ]
  },
  {
   "cell_type": "code",
   "execution_count": 346,
   "metadata": {
    "collapsed": false
   },
   "outputs": [
    {
     "data": {
      "text/plain": [
       "[0.86622,\n",
       " 0.8887,\n",
       " 0.91234,\n",
       " 0.92672,\n",
       " 0.93636,\n",
       " 0.94382,\n",
       " 0.94958,\n",
       " 0.95482,\n",
       " 0.95828,\n",
       " 0.96366,\n",
       " 0.96716,\n",
       " 0.96966,\n",
       " 0.97184,\n",
       " 0.97396,\n",
       " 0.9761,\n",
       " 0.97816,\n",
       " 0.9802,\n",
       " 0.9811,\n",
       " 0.98246,\n",
       " 0.98286]"
      ]
     },
     "execution_count": 346,
     "metadata": {},
     "output_type": "execute_result"
    }
   ],
   "source": [
    "NN_2_CEntropy.training_accuracy_epoch"
   ]
  },
  {
   "cell_type": "code",
   "execution_count": 395,
   "metadata": {
    "collapsed": true
   },
   "outputs": [],
   "source": [
    "perc_NN_2_CEntropy_train=[x*100 for x in NN_2_CEntropy.training_accuracy_epoch]"
   ]
  },
  {
   "cell_type": "code",
   "execution_count": 358,
   "metadata": {
    "collapsed": false
   },
   "outputs": [
    {
     "data": {
      "image/png": "[encoded data removed]",
      "text/plain": [
       "<matplotlib.figure.Figure at 0x1fd621e90>"
      ]
     },
     "metadata": {},
     "output_type": "display_data"
    }
   ],
   "source": [
    "plt.figure(figsize=(8,6))\n",
    "x_values=range(1,21)\n",
    "x_val=range(1,21)\n",
    "y_range=range(80,101)\n",
    "plt.plot(y_values, perc_NN_2_CEntropy_train)\n",
    "plt.xticks(np.arange(min(x_val), max(x_val)+1, 1))\n",
    "plt.yticks(np.arange(min(y_range), max(y_range)+1, 1))\n",
    "plt.title('Cross-Entropy Error: Training accuracy on training set')\n",
    "plt.xlabel('Number of Epochs')\n",
    "plt.ylabel('Training Accuracy (percentage)')\n",
    "plt.show()"
   ]
  },
  {
   "cell_type": "code",
   "execution_count": 361,
   "metadata": {
    "collapsed": false
   },
   "outputs": [],
   "source": [
    "NN_2_CEntropy.valid_accuracy\n",
    "perc_NN_2_CEntropy_valid=[x*100 for x in NN_2_CEntropy.valid_accuracy]"
   ]
  },
  {
   "cell_type": "code",
   "execution_count": 362,
   "metadata": {
    "collapsed": false
   },
   "outputs": [
    {
     "data": {
      "text/plain": [
       "[86.5,\n",
       " 88.64999999999999,\n",
       " 90.5,\n",
       " 91.69,\n",
       " 92.7,\n",
       " 93.66,\n",
       " 94.15,\n",
       " 94.63000000000001,\n",
       " 94.8,\n",
       " 95.25,\n",
       " 95.62,\n",
       " 95.74000000000001,\n",
       " 95.89999999999999,\n",
       " 96.04,\n",
       " 96.17999999999999,\n",
       " 96.41,\n",
       " 96.33,\n",
       " 96.47,\n",
       " 96.58,\n",
       " 96.64]"
      ]
     },
     "execution_count": 362,
     "metadata": {},
     "output_type": "execute_result"
    }
   ],
   "source": [
    "perc_NN_2_CEntropy_valid"
   ]
  },
  {
   "cell_type": "code",
   "execution_count": 363,
   "metadata": {
    "collapsed": false
   },
   "outputs": [
    {
     "data": {
      "image/png": "[encoded data removed]",
      "text/plain": [
       "<matplotlib.figure.Figure at 0x1fd811750>"
      ]
     },
     "metadata": {},
     "output_type": "display_data"
    }
   ],
   "source": [
    "plt.figure(figsize=(8,6))\n",
    "x_values=range(1,21)\n",
    "x_val=range(1,21)\n",
    "y_range=range(80,101)\n",
    "plt.plot(y_values, perc_NN_2_CEntropy_valid)\n",
    "plt.xticks(np.arange(min(x_val), max(x_val)+1, 1))\n",
    "plt.yticks(np.arange(min(y_range), max(y_range)+1, 1))\n",
    "plt.title('Cross-Entropy Error: Validation accuracy on training set')\n",
    "plt.xlabel('Number of Epochs')\n",
    "plt.ylabel('Validation Accuracy (percentage)')\n",
    "plt.show()"
   ]
  },
  {
   "cell_type": "code",
   "execution_count": 396,
   "metadata": {
    "collapsed": false
   },
   "outputs": [
    {
     "name": "stdout",
     "output_type": "stream",
     "text": [
      "(98.286, 96.64)\n"
     ]
    }
   ],
   "source": [
    "# training accuracy and validation accuracy after 20 epochs\n",
    "print(perc_NN_2_CEntropy_train[19],perc_NN_2_CEntropy_valid[19])"
   ]
  },
  {
   "cell_type": "code",
   "execution_count": 399,
   "metadata": {
    "collapsed": false
   },
   "outputs": [
    {
     "name": "stdout",
     "output_type": "stream",
     "text": [
      "133.348433701\n"
     ]
    }
   ],
   "source": [
    "# Total elapsed minutes for Cross-Entropy error model\n",
    "#(it is slow because it is saving and printing a lot of things along the way)\n",
    "print(elapsed_time_2_CEntropy/60) #min"
   ]
  },
  {
   "cell_type": "code",
   "execution_count": null,
   "metadata": {
    "collapsed": true
   },
   "outputs": [],
   "source": []
  },
  {
   "cell_type": "code",
   "execution_count": 374,
   "metadata": {
    "collapsed": true
   },
   "outputs": [],
   "source": [
    "############### Mean squared error model training starts here ###################"
   ]
  },
  {
   "cell_type": "code",
   "execution_count": 306,
   "metadata": {
    "collapsed": false
   },
   "outputs": [
    {
     "name": "stdout",
     "output_type": "stream",
     "text": [
      "Opech#: 1 Validation Set Accuracy: 0.464\n",
      "Opech#: 2 Validation Set Accuracy: 0.7426\n",
      "Opech#: 3 Validation Set Accuracy: 0.8198\n",
      "Opech#: 4 Validation Set Accuracy: 0.8416\n",
      "Opech#: 5 Validation Set Accuracy: 0.8542\n",
      "Opech#: 6 Validation Set Accuracy: 0.8625\n",
      "Opech#: 7 Validation Set Accuracy: 0.8693\n",
      "Opech#: 8 Validation Set Accuracy: 0.874\n",
      "Opech#: 9 Validation Set Accuracy: 0.8771\n",
      "Opech#: 10 Validation Set Accuracy: 0.8825\n",
      "Opech#: 11 Validation Set Accuracy: 0.8845\n",
      "Opech#: 12 Validation Set Accuracy: 0.8886\n",
      "Opech#: 13 Validation Set Accuracy: 0.893\n",
      "Opech#: 14 Validation Set Accuracy: 0.8941\n",
      "Opech#: 15 Validation Set Accuracy: 0.8986\n",
      "Opech#: 16 Validation Set Accuracy: 0.9009\n",
      "Opech#: 17 Validation Set Accuracy: 0.9024\n",
      "Opech#: 18 Validation Set Accuracy: 0.9047\n",
      "Opech#: 19 Validation Set Accuracy: 0.9075\n",
      "Opech#: 20 Validation Set Accuracy: 0.9096\n"
     ]
    }
   ],
   "source": [
    "start_time_1_MSE= time.time()\n",
    "NN_1_MSE = NeuralNetwork(n_in=784, n_hid=200, n_out=10)\n",
    "NN_1_MSE.stoch_train(zip_d, test_data=test_zip, learning_rate=0.01, epoch_num=20, small_batch_size=10, cost_func=\"MSE\")\n",
    "elapsed_time_1_MSE= time.time() - start_time_1_MSE"
   ]
  },
  {
   "cell_type": "code",
   "execution_count": 308,
   "metadata": {
    "collapsed": false
   },
   "outputs": [
    {
     "name": "stdout",
     "output_type": "stream",
     "text": [
      "1000\n",
      "1000\n",
      "20\n",
      "20\n"
     ]
    }
   ],
   "source": [
    "print(len(NN_1_MSE.total_training_error))\n",
    "print(len(NN_1_MSE.training_accuracy_iter))\n",
    "print(len(NN_1_MSE.training_accuracy_epoch))\n",
    "print(len(NN_1_MSE.valid_accuracy))"
   ]
  },
  {
   "cell_type": "code",
   "execution_count": 403,
   "metadata": {
    "collapsed": false
   },
   "outputs": [
    {
     "data": {
      "text/plain": [
       "<matplotlib.text.Text at 0x20196c050>"
      ]
     },
     "execution_count": 403,
     "metadata": {},
     "output_type": "execute_result"
    },
    {
     "data": {
      "image/png": "[encoded data removed]",
      "text/plain": [
       "<matplotlib.figure.Figure at 0x1fb257cd0>"
      ]
     },
     "metadata": {},
     "output_type": "display_data"
    }
   ],
   "source": [
    "plt.figure(figsize=(10,8))\n",
    "\n",
    "x_values=range(1,1001)\n",
    "#y_range=range(0,101)\n",
    "plt.plot(x_values, NN_1_MSE.total_training_error)\n",
    "plt.xticks(np.arange(min(x_values)-1, max(x_val)+1, 50.0))\n",
    "plt.yticks(np.arange(0, 1.2+0.05, 0.05))\n",
    "plt.title('Mean-Squared Error: Total training error on training set')\n",
    "plt.xlabel('Each update is evaluated after training on 1000 more data points. Total trained points = 1000*1000=1 million')\n",
    "plt.ylabel('Total Error')\n",
    "#plt.show()"
   ]
  },
  {
   "cell_type": "code",
   "execution_count": 404,
   "metadata": {
    "collapsed": false
   },
   "outputs": [
    {
     "data": {
      "image/png": "[encoded data removed]",
      "text/plain": [
       "<matplotlib.figure.Figure at 0x201953710>"
      ]
     },
     "metadata": {},
     "output_type": "display_data"
    }
   ],
   "source": [
    "perc_NN_1_MSE=[100*x for x in NN_1_MSE.training_accuracy_iter]\n",
    "plt.figure(figsize=(10,8))\n",
    "x_val=range(1,1001)\n",
    "y_range=range(0,101)\n",
    "plt.plot(perc_NN_1_MSE)\n",
    "plt.xticks(np.arange(min(x_val)-1, max(x_val)+1, 50.0))\n",
    "plt.yticks(np.arange(min(y_range), max(y_range)+1, 4.0))\n",
    "plt.title('Mean-Squared Error: Classification accuracy on training set')\n",
    "plt.xlabel('Each update is evaluated after training on 1000 more data points. Total trained points = 1000*1000=1 million')\n",
    "plt.ylabel('Accuracy (percentage)')\n",
    "plt.show()"
   ]
  },
  {
   "cell_type": "code",
   "execution_count": 378,
   "metadata": {
    "collapsed": false
   },
   "outputs": [
    {
     "name": "stdout",
     "output_type": "stream",
     "text": [
      "20\n"
     ]
    }
   ],
   "source": [
    "print(len(NN_1_MSE.training_accuracy_epoch))"
   ]
  },
  {
   "cell_type": "code",
   "execution_count": 379,
   "metadata": {
    "collapsed": true
   },
   "outputs": [],
   "source": [
    "perc_NN_1_MSE_train=[x*100 for x in NN_1_MSE.training_accuracy_epoch]"
   ]
  },
  {
   "cell_type": "code",
   "execution_count": 385,
   "metadata": {
    "collapsed": false
   },
   "outputs": [
    {
     "data": {
      "image/png": "[encoded data removed]",
      "text/plain": [
       "<matplotlib.figure.Figure at 0x1fd90a790>"
      ]
     },
     "metadata": {},
     "output_type": "display_data"
    }
   ],
   "source": [
    "plt.figure(figsize=(8,6))\n",
    "x_val=range(1,21)\n",
    "y_range=range(40,101)\n",
    "plt.plot(y_values, perc_NN_1_MSE_train)\n",
    "plt.xticks(np.arange(min(x_val), max(x_val)+1, 1))\n",
    "plt.yticks(np.arange(min(y_range), max(y_range)+1, 2))\n",
    "plt.title('Mean-Squared Error: Training accuracy on training set')\n",
    "plt.xlabel('Number of Epochs')\n",
    "plt.ylabel('Training Accuracy (percentage)')\n",
    "plt.show()"
   ]
  },
  {
   "cell_type": "code",
   "execution_count": 387,
   "metadata": {
    "collapsed": false
   },
   "outputs": [
    {
     "name": "stdout",
     "output_type": "stream",
     "text": [
      "20\n"
     ]
    }
   ],
   "source": [
    "print(len(NN_1_MSE.valid_accuracy))"
   ]
  },
  {
   "cell_type": "code",
   "execution_count": 388,
   "metadata": {
    "collapsed": true
   },
   "outputs": [],
   "source": [
    "perc_NN_1_MSE_valid=[x*100 for x in NN_1_MSE.valid_accuracy]"
   ]
  },
  {
   "cell_type": "code",
   "execution_count": 391,
   "metadata": {
    "collapsed": false
   },
   "outputs": [
    {
     "data": {
      "image/png": "[encoded data removed]",
      "text/plain": [
       "<matplotlib.figure.Figure at 0x1fc5aefd0>"
      ]
     },
     "metadata": {},
     "output_type": "display_data"
    }
   ],
   "source": [
    "plt.figure(figsize=(8,6))\n",
    "x_values=range(1,21)\n",
    "x_val=range(1,21)\n",
    "y_range=range(40,101)\n",
    "plt.plot(y_values, perc_NN_1_MSE_valid)\n",
    "plt.xticks(np.arange(min(x_val), max(x_val)+1, 1))\n",
    "plt.yticks(np.arange(min(y_range), max(y_range)+1, 2))\n",
    "plt.title('Mean-Squared Error: Validation accuracy on training set')\n",
    "plt.xlabel('Number of Epochs')\n",
    "plt.ylabel('Validation Accuracy (percentage)')\n",
    "plt.show()"
   ]
  },
  {
   "cell_type": "code",
   "execution_count": 397,
   "metadata": {
    "collapsed": false
   },
   "outputs": [
    {
     "name": "stdout",
     "output_type": "stream",
     "text": [
      "(91.434, 90.96)\n"
     ]
    }
   ],
   "source": [
    "# training accuracy and validation accuracy after 20 epochs\n",
    "print(perc_NN_1_MSE_train[19],perc_NN_1_MSE_valid[19])"
   ]
  },
  {
   "cell_type": "code",
   "execution_count": 400,
   "metadata": {
    "collapsed": false
   },
   "outputs": [
    {
     "name": "stdout",
     "output_type": "stream",
     "text": [
      "142.415567382\n"
     ]
    }
   ],
   "source": [
    "# Total elapsed minutes for MSE model\n",
    "#(it is slow because it is saving and printing a lot of things along the way)\n",
    "print(elapsed_time_1_MSE/60)  #min"
   ]
  },
  {
   "cell_type": "code",
   "execution_count": null,
   "metadata": {
    "collapsed": true
   },
   "outputs": [],
   "source": []
  },
  {
   "cell_type": "code",
   "execution_count": null,
   "metadata": {
    "collapsed": true
   },
   "outputs": [],
   "source": []
  }
 ],
 "metadata": {
  "kernelspec": {
   "display_name": "Python 2",
   "language": "python",
   "name": "python2"
  },
  "language_info": {
   "codemirror_mode": {
    "name": "ipython",
    "version": 2
   },
   "file_extension": ".py",
   "mimetype": "text/x-python",
   "name": "python",
   "nbconvert_exporter": "python",
   "pygments_lexer": "ipython2",
   "version": "2.7.11"
  }
 },
 "nbformat": 4,
 "nbformat_minor": 0
}
