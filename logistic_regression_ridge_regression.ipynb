{
 "cells": [
  {
   "cell_type": "code",
   "execution_count": 1,
   "metadata": {
    "collapsed": true
   },
   "outputs": [],
   "source": [
    "####################################################################\n",
    "#############                CS189 Homework 4             ##########\n",
    "####################################################################"
   ]
  },
  {
   "cell_type": "code",
   "execution_count": 2,
   "metadata": {
    "collapsed": true
   },
   "outputs": [],
   "source": [
    "####################################################################\n",
    "########################    Problem 1    ###########################\n",
    "####################################################################"
   ]
  },
  {
   "cell_type": "code",
   "execution_count": 26,
   "metadata": {
    "collapsed": true
   },
   "outputs": [],
   "source": [
    "import numpy as np\n",
    "import matplotlib.pyplot as plt\n",
    "import scipy.io as spy\n",
    "import math\n",
    "from __future__ import division\n",
    "%matplotlib inline\n",
    "\n",
    "data_path=\"/Users/Luba/Desktop/CS189_hw4\""
   ]
  },
  {
   "cell_type": "code",
   "execution_count": 31,
   "metadata": {
    "collapsed": true
   },
   "outputs": [],
   "source": [
    "from math import exp\n",
    "from math import log as ln"
   ]
  },
  {
   "cell_type": "code",
   "execution_count": 217,
   "metadata": {
    "collapsed": true
   },
   "outputs": [],
   "source": [
    "housing_data=spy.loadmat(data_path+\"/housing_dataset/housing_data.mat\")"
   ]
  },
  {
   "cell_type": "code",
   "execution_count": 53,
   "metadata": {
    "collapsed": true
   },
   "outputs": [],
   "source": [
    "rang=range(len(housing_data['Xtrain']))\n",
    "np.random.shuffle(rang)\n",
    "random_list=rang\n",
    "random_list=np.array(random_list)\n",
    "sets=np.split(random_list,10)\n",
    "sets_list=random_list.tolist()"
   ]
  },
  {
   "cell_type": "code",
   "execution_count": 6,
   "metadata": {
    "collapsed": true
   },
   "outputs": [],
   "source": [
    "Ytrain=housing_data['Ytrain']\n",
    "Ytrain_doublelist=Ytrain.tolist()"
   ]
  },
  {
   "cell_type": "code",
   "execution_count": 8,
   "metadata": {
    "collapsed": true
   },
   "outputs": [],
   "source": [
    "lambda_list=[0.0000000000001, 0.00000000001,0.000000001,0.0000001,0.00001, \n",
    "             0.001, 0.01, 0, 1, 10, 100, 10000, 10000000000]"
   ]
  },
  {
   "cell_type": "code",
   "execution_count": 60,
   "metadata": {
    "collapsed": false
   },
   "outputs": [],
   "source": [
    "perf_list=[]\n",
    "for labda in lambda_list:\n",
    "    sum_RSS=[]\n",
    "    for i in range(10):\n",
    "        index=sets[i].tolist()\n",
    "        index_rest=list(set(sets_list)-set(index))\n",
    "        \n",
    "        Ytrain=[]\n",
    "        for i in index_rest:\n",
    "            n=Ytrain_doublelist[i]\n",
    "            Ytrain.append(n)\n",
    "        \n",
    "        Xtrain=[]\n",
    "        for i in index_rest:\n",
    "            l=[1]+housing_data['Xtrain'][i].tolist()\n",
    "            Xtrain.append(l)\n",
    "        \n",
    "        Xmatrix=np.matrix(Xtrain)\n",
    "        Xmatrix_tpose=np.matrix.transpose(Xmatrix)\n",
    "        XXt=np.dot(Xmatrix_tpose, Xmatrix)\n",
    "        iden=np.identity(9)\n",
    "        lambda_iden=np.multiply(iden, labda)\n",
    "        added_mat=np.add(XXt,lambda_iden)\n",
    "        added_mat_inverse=np.linalg.inv(added_mat)\n",
    "        added_mat_inverse_Xt=np.dot(added_mat_inverse, Xmatrix_tpose)\n",
    "        Ytrain=np.matrix(Ytrain)\n",
    "        Wt_tpose=np.dot(added_mat_inverse_Xt, Ytrain)\n",
    "        \n",
    "        CV_Ytrain=[]\n",
    "        for i in index:\n",
    "            n=Ytrain_doublelist[i]\n",
    "            CV_Ytrain.append(n)\n",
    "        \n",
    "        CV_Xtrain=[]\n",
    "        for i in index:\n",
    "            l=[1]+housing_data['Xtrain'][i].tolist()\n",
    "            CV_Xtrain.append(l)\n",
    "        \n",
    "        CV_Xtrain_matrix=np.matrix(CV_Xtrain)\n",
    "        Pred_CV_Ytrain=np.dot(CV_Xtrain_matrix, Wt_tpose)\n",
    "        \n",
    "        CV_Ytrain_matrix=np.matrix(CV_Ytrain)\n",
    "        \n",
    "        Residuals_CV=Pred_CV_Ytrain-CV_Ytrain_matrix\n",
    "        Res_dlist=Residuals_CV.tolist()\n",
    "        Res_list=[]\n",
    "        for i in Res_dlist:\n",
    "            Res_list.append(i[0])\n",
    "        Residual_squared_list=[i**2 for i in Res_list]\n",
    "        RSS=sum(Residual_squared_list)\n",
    "        sum_RSS.append(RSS)\n",
    "    #print(len(sum_RSS))\n",
    "    perf_list.append(sum(sum_RSS)/len(sum_RSS))"
   ]
  },
  {
   "cell_type": "code",
   "execution_count": 10,
   "metadata": {
    "collapsed": false
   },
   "outputs": [
    {
     "name": "stdout",
     "output_type": "stream",
     "text": [
      "13\n",
      "[9425932192568.965, 9425932192570.625, 9425932192564.664, 9425932192130.264, 9425932148779.55, 9425929158508.094, 9426021825605.748, 9425932192568.965, 9778117572765.014, 10637064485023.191, 10873576099529.188, 11268941002194.191, 52727234240929.43]\n",
      "5\n"
     ]
    }
   ],
   "source": [
    "print(len(perf_list))\n",
    "print(perf_list)\n",
    "print(perf_list.index(min(perf_list)))"
   ]
  },
  {
   "cell_type": "code",
   "execution_count": 11,
   "metadata": {
    "collapsed": false
   },
   "outputs": [
    {
     "name": "stdout",
     "output_type": "stream",
     "text": [
      "0.001\n"
     ]
    }
   ],
   "source": [
    "labda=lambda_list[perf_list.index(min(perf_list))]\n",
    "print(labda)"
   ]
  },
  {
   "cell_type": "code",
   "execution_count": 12,
   "metadata": {
    "collapsed": false
   },
   "outputs": [
    {
     "data": {
      "text/plain": [
       "19440"
      ]
     },
     "execution_count": 12,
     "metadata": {},
     "output_type": "execute_result"
    }
   ],
   "source": [
    "len(sets_list)"
   ]
  },
  {
   "cell_type": "code",
   "execution_count": 13,
   "metadata": {
    "collapsed": true
   },
   "outputs": [],
   "source": [
    "labda=0.001\n",
    "Ytrain=[]\n",
    "for i in sets_list:\n",
    "    n=Ytrain_doublelist[i]\n",
    "    Ytrain.append(n)\n",
    "Xtrain=[]\n",
    "for i in sets_list:\n",
    "    l=[1]+housing_data['Xtrain'][i].tolist()\n",
    "    Xtrain.append(l)\n",
    "\n",
    "Xmatrix=np.matrix(Xtrain)\n",
    "Xmatrix_tpose=np.matrix.transpose(Xmatrix)\n",
    "XXt=np.dot(Xmatrix_tpose, Xmatrix)\n",
    "iden=np.identity(9)\n",
    "lambda_iden=np.multiply(iden, labda)\n",
    "added_mat=np.add(XXt,lambda_iden)\n",
    "added_mat_inverse=np.linalg.inv(added_mat)\n",
    "added_mat_inverse_Xt=np.dot(added_mat_inverse, Xmatrix_tpose)\n",
    "Ytrain=np.matrix(Ytrain)\n",
    "Wt_tpose=np.dot(added_mat_inverse_Xt, Ytrain)"
   ]
  },
  {
   "cell_type": "code",
   "execution_count": 14,
   "metadata": {
    "collapsed": false
   },
   "outputs": [
    {
     "data": {
      "text/plain": [
       "matrix([[ -3.56379711e+06],\n",
       "        [  4.05925065e+04],\n",
       "        [  1.19614698e+03],\n",
       "        [ -8.50733992e+00],\n",
       "        [  1.18322945e+02],\n",
       "        [ -3.77917554e+01],\n",
       "        [  4.31292784e+01],\n",
       "        [ -4.21502624e+04],\n",
       "        [ -4.24227138e+04]])"
      ]
     },
     "execution_count": 14,
     "metadata": {},
     "output_type": "execute_result"
    }
   ],
   "source": [
    "Wt_tpose"
   ]
  },
  {
   "cell_type": "code",
   "execution_count": 15,
   "metadata": {
    "collapsed": true
   },
   "outputs": [],
   "source": [
    "Yvalid=housing_data['Yvalidate']\n",
    "Yvalid=Yvalid.tolist()"
   ]
  },
  {
   "cell_type": "code",
   "execution_count": 16,
   "metadata": {
    "collapsed": false
   },
   "outputs": [
    {
     "data": {
      "text/plain": [
       "1200"
      ]
     },
     "execution_count": 16,
     "metadata": {},
     "output_type": "execute_result"
    }
   ],
   "source": [
    "len(Yvalid)"
   ]
  },
  {
   "cell_type": "code",
   "execution_count": 17,
   "metadata": {
    "collapsed": true
   },
   "outputs": [],
   "source": [
    "Xvalid=[]\n",
    "for i in range(1200):\n",
    "    l=[1]+housing_data['Xvalidate'][i].tolist()\n",
    "    Xvalid.append(l)"
   ]
  },
  {
   "cell_type": "code",
   "execution_count": 18,
   "metadata": {
    "collapsed": true
   },
   "outputs": [],
   "source": [
    "Xvalid_matrix=np.matrix(Xvalid)"
   ]
  },
  {
   "cell_type": "code",
   "execution_count": 19,
   "metadata": {
    "collapsed": false
   },
   "outputs": [
    {
     "data": {
      "text/plain": [
       "(9, 1)"
      ]
     },
     "execution_count": 19,
     "metadata": {},
     "output_type": "execute_result"
    }
   ],
   "source": [
    "Xvalid_matrix\n",
    "Wt_tpose.shape"
   ]
  },
  {
   "cell_type": "code",
   "execution_count": 43,
   "metadata": {
    "collapsed": false
   },
   "outputs": [
    {
     "data": {
      "text/plain": [
       "matrix([[ -3.56379711e+06],\n",
       "        [  4.05925065e+04],\n",
       "        [  1.19614698e+03],\n",
       "        [ -8.50733992e+00],\n",
       "        [  1.18322945e+02],\n",
       "        [ -3.77917554e+01],\n",
       "        [  4.31292784e+01],\n",
       "        [ -4.21502624e+04],\n",
       "        [ -4.24227138e+04]])"
      ]
     },
     "execution_count": 43,
     "metadata": {},
     "output_type": "execute_result"
    }
   ],
   "source": [
    "Wt_tpose"
   ]
  },
  {
   "cell_type": "code",
   "execution_count": 20,
   "metadata": {
    "collapsed": true
   },
   "outputs": [],
   "source": [
    "Pred_Yvalid=np.dot(Xvalid_matrix, Wt_tpose)"
   ]
  },
  {
   "cell_type": "code",
   "execution_count": 21,
   "metadata": {
    "collapsed": true
   },
   "outputs": [],
   "source": [
    "Yvalid_matrix=np.matrix(Yvalid)"
   ]
  },
  {
   "cell_type": "code",
   "execution_count": 22,
   "metadata": {
    "collapsed": true
   },
   "outputs": [],
   "source": [
    "Residuals_valid=Pred_Yvalid-Yvalid_matrix"
   ]
  },
  {
   "cell_type": "code",
   "execution_count": 23,
   "metadata": {
    "collapsed": true
   },
   "outputs": [],
   "source": [
    "Res_dlist=Residuals_valid.tolist()"
   ]
  },
  {
   "cell_type": "code",
   "execution_count": 24,
   "metadata": {
    "collapsed": true
   },
   "outputs": [],
   "source": [
    "Res_list=[]\n",
    "for i in Res_dlist:\n",
    "    Res_list.append(i[0])"
   ]
  },
  {
   "cell_type": "code",
   "execution_count": 25,
   "metadata": {
    "collapsed": true
   },
   "outputs": [],
   "source": [
    "Residual_squared_list=[i**2 for i in Res_list]"
   ]
  },
  {
   "cell_type": "code",
   "execution_count": 26,
   "metadata": {
    "collapsed": true
   },
   "outputs": [],
   "source": [
    "RSS=sum(Residual_squared_list)"
   ]
  },
  {
   "cell_type": "code",
   "execution_count": 32,
   "metadata": {
    "collapsed": false
   },
   "outputs": [
    {
     "data": {
      "text/plain": [
       "5795160837838.72"
      ]
     },
     "execution_count": 32,
     "metadata": {},
     "output_type": "execute_result"
    }
   ],
   "source": [
    "RSS"
   ]
  },
  {
   "cell_type": "code",
   "execution_count": 37,
   "metadata": {
    "collapsed": true
   },
   "outputs": [],
   "source": [
    "W_9list=[i[0] for i in Wt_tpose.tolist()]\n",
    "W_list=W_9list[1:]"
   ]
  },
  {
   "cell_type": "markdown",
   "metadata": {},
   "source": [
    "#### index=[1,2,3,4,5,6,7,8]"
   ]
  },
  {
   "cell_type": "code",
   "execution_count": 40,
   "metadata": {
    "collapsed": false
   },
   "outputs": [
    {
     "data": {
      "text/plain": [
       "[<matplotlib.lines.Line2D at 0x10865f850>]"
      ]
     },
     "execution_count": 40,
     "metadata": {},
     "output_type": "execute_result"
    },
    {
     "data": {
      "image/png": "[encoded data removed]",
      "text/plain": [
       "<matplotlib.figure.Figure at 0x107f76ad0>"
      ]
     },
     "metadata": {},
     "output_type": "display_data"
    }
   ],
   "source": [
    "plt.figure()\n",
    "plt.plot(index, W_list)"
   ]
  },
  {
   "cell_type": "code",
   "execution_count": 177,
   "metadata": {
    "collapsed": true
   },
   "outputs": [],
   "source": [
    "####################################################################\n",
    "########################    Problem 2    ###########################\n",
    "####################################################################"
   ]
  },
  {
   "cell_type": "code",
   "execution_count": 178,
   "metadata": {
    "collapsed": true
   },
   "outputs": [],
   "source": [
    "##########  Part 2.1. (a). ##########"
   ]
  },
  {
   "cell_type": "code",
   "execution_count": 24,
   "metadata": {
    "collapsed": false
   },
   "outputs": [],
   "source": [
    "import numpy as np\n",
    "from math import exp\n",
    "from math import log as ln\n",
    "def logistic_function(x):\n",
    "    return 1/(1+exp(-x))"
   ]
  },
  {
   "cell_type": "code",
   "execution_count": 180,
   "metadata": {
    "collapsed": false
   },
   "outputs": [],
   "source": [
    "Part_a_answer=-1*(ln(logistic_function(3))\n",
    "                  +ln(logistic_function(1))\n",
    "                  +ln(1-logistic_function(1))\n",
    "                  +ln(1-logistic_function(-1)))"
   ]
  },
  {
   "cell_type": "code",
   "execution_count": 181,
   "metadata": {
    "collapsed": false
   },
   "outputs": [],
   "source": [
    "R_w0=Part_a_answer"
   ]
  },
  {
   "cell_type": "code",
   "execution_count": 183,
   "metadata": {
    "collapsed": false
   },
   "outputs": [
    {
     "data": {
      "text/plain": [
       "1.9883724141284103"
      ]
     },
     "execution_count": 183,
     "metadata": {},
     "output_type": "execute_result"
    }
   ],
   "source": [
    "Part_a_answer"
   ]
  },
  {
   "cell_type": "code",
   "execution_count": 184,
   "metadata": {
    "collapsed": true
   },
   "outputs": [],
   "source": [
    "##########  Part 2.1. (b). ##########"
   ]
  },
  {
   "cell_type": "code",
   "execution_count": 185,
   "metadata": {
    "collapsed": true
   },
   "outputs": [],
   "source": [
    "Part_b_answer = [logistic_function(3), \n",
    "                 logistic_function(1), \n",
    "                 logistic_function(1), \n",
    "                 logistic_function(-1)]"
   ]
  },
  {
   "cell_type": "code",
   "execution_count": 186,
   "metadata": {
    "collapsed": true
   },
   "outputs": [],
   "source": [
    "u0=Part_b_answer"
   ]
  },
  {
   "cell_type": "code",
   "execution_count": 187,
   "metadata": {
    "collapsed": false
   },
   "outputs": [
    {
     "data": {
      "text/plain": [
       "[0.9525741268224334,\n",
       " 0.7310585786300049,\n",
       " 0.7310585786300049,\n",
       " 0.2689414213699951]"
      ]
     },
     "execution_count": 187,
     "metadata": {},
     "output_type": "execute_result"
    }
   ],
   "source": [
    "Part_b_answer"
   ]
  },
  {
   "cell_type": "code",
   "execution_count": 188,
   "metadata": {
    "collapsed": true
   },
   "outputs": [],
   "source": [
    "##########  Part 2.1. (c). ##########"
   ]
  },
  {
   "cell_type": "code",
   "execution_count": 189,
   "metadata": {
    "collapsed": false
   },
   "outputs": [],
   "source": [
    "w0=np.array([-2, 1, 0])"
   ]
  },
  {
   "cell_type": "code",
   "execution_count": 190,
   "metadata": {
    "collapsed": true
   },
   "outputs": [],
   "source": [
    "ans_c = np.add(w0, np.multiply((1-logistic_function(3)) ,[0,3,1]))"
   ]
  },
  {
   "cell_type": "code",
   "execution_count": 191,
   "metadata": {
    "collapsed": true
   },
   "outputs": [],
   "source": [
    "ans_c = np.add(ans_c, np.multiply((1-logistic_function(1)) ,[1,3,1]))"
   ]
  },
  {
   "cell_type": "code",
   "execution_count": 192,
   "metadata": {
    "collapsed": true
   },
   "outputs": [],
   "source": [
    "ans_c = np.add(ans_c, np.multiply((-logistic_function(1)) ,[0,1,1]))"
   ]
  },
  {
   "cell_type": "code",
   "execution_count": 193,
   "metadata": {
    "collapsed": true
   },
   "outputs": [],
   "source": [
    "Part_c_answer = np.add(ans_c, np.multiply((-logistic_function(-1)) ,[1,1,1]))"
   ]
  },
  {
   "cell_type": "code",
   "execution_count": 194,
   "metadata": {
    "collapsed": true
   },
   "outputs": [],
   "source": [
    "w1=Part_c_answer"
   ]
  },
  {
   "cell_type": "code",
   "execution_count": 195,
   "metadata": {
    "collapsed": false
   },
   "outputs": [
    {
     "data": {
      "text/plain": [
       "array([-2.        ,  0.94910188, -0.68363271])"
      ]
     },
     "execution_count": 195,
     "metadata": {},
     "output_type": "execute_result"
    }
   ],
   "source": [
    "Part_c_answer"
   ]
  },
  {
   "cell_type": "code",
   "execution_count": 196,
   "metadata": {
    "collapsed": true
   },
   "outputs": [],
   "source": [
    "##########  Part 2.1. (d). ##########"
   ]
  },
  {
   "cell_type": "code",
   "execution_count": 197,
   "metadata": {
    "collapsed": true
   },
   "outputs": [],
   "source": [
    "Part_d_answer=-1*(ln(logistic_function(np.dot(w1, np.array([0,3,1]))))\n",
    "                  +ln(logistic_function(np.dot(w1, np.array([1,3,1]))))\n",
    "                  +ln(1-logistic_function(np.dot(w1, np.array([0,1,1]))))\n",
    "                  +ln(1-logistic_function(np.dot(w1, np.array([1,1,1])))))"
   ]
  },
  {
   "cell_type": "code",
   "execution_count": 198,
   "metadata": {
    "collapsed": true
   },
   "outputs": [],
   "source": [
    "R_w1=Part_d_answer"
   ]
  },
  {
   "cell_type": "code",
   "execution_count": 199,
   "metadata": {
    "collapsed": false
   },
   "outputs": [
    {
     "data": {
      "text/plain": [
       "1.7206170956213047"
      ]
     },
     "execution_count": 199,
     "metadata": {},
     "output_type": "execute_result"
    }
   ],
   "source": [
    "Part_d_answer"
   ]
  },
  {
   "cell_type": "code",
   "execution_count": 200,
   "metadata": {
    "collapsed": true
   },
   "outputs": [],
   "source": [
    "##########  Part 2.1. (e). ##########"
   ]
  },
  {
   "cell_type": "code",
   "execution_count": 201,
   "metadata": {
    "collapsed": true
   },
   "outputs": [],
   "source": [
    "Part_e_answer = [logistic_function(np.dot(w1, np.array([0,3,1]))), \n",
    "                 logistic_function(np.dot(w1, np.array([1,3,1]))), \n",
    "                 logistic_function(np.dot(w1, np.array([0,1,1]))), \n",
    "                 logistic_function(np.dot(w1, np.array([1,1,1])))]"
   ]
  },
  {
   "cell_type": "code",
   "execution_count": 202,
   "metadata": {
    "collapsed": true
   },
   "outputs": [],
   "source": [
    "u1=Part_e_answer"
   ]
  },
  {
   "cell_type": "code",
   "execution_count": 203,
   "metadata": {
    "collapsed": false
   },
   "outputs": [
    {
     "data": {
      "text/plain": [
       "[0.8969395672187137,\n",
       " 0.5408271344289196,\n",
       " 0.5659802584910808,\n",
       " 0.15000895500136596]"
      ]
     },
     "execution_count": 203,
     "metadata": {},
     "output_type": "execute_result"
    }
   ],
   "source": [
    "Part_e_answer"
   ]
  },
  {
   "cell_type": "code",
   "execution_count": 204,
   "metadata": {
    "collapsed": true
   },
   "outputs": [],
   "source": [
    "##########  Part 2.1. (f). ##########"
   ]
  },
  {
   "cell_type": "code",
   "execution_count": 205,
   "metadata": {
    "collapsed": true
   },
   "outputs": [],
   "source": [
    "ans_f = np.add(w1, \n",
    "       np.multiply((1-logistic_function(np.dot(w1, np.array([0,3,1])))) ,[0,3,1]))"
   ]
  },
  {
   "cell_type": "code",
   "execution_count": 206,
   "metadata": {
    "collapsed": true
   },
   "outputs": [],
   "source": [
    "ans_f = np.add(ans_f, \n",
    "       np.multiply((1-logistic_function(np.dot(w1, np.array([1,3,1])))) ,[1,3,1]))"
   ]
  },
  {
   "cell_type": "code",
   "execution_count": 207,
   "metadata": {
    "collapsed": true
   },
   "outputs": [],
   "source": [
    "ans_f = np.add(ans_f, \n",
    "       np.multiply((-logistic_function(np.dot(w1, np.array([0,1,1])))) ,[0,1,1]))"
   ]
  },
  {
   "cell_type": "code",
   "execution_count": 208,
   "metadata": {
    "collapsed": true
   },
   "outputs": [],
   "source": [
    "ans_f = np.add(ans_f, \n",
    "       np.multiply((-logistic_function(np.dot(w1, np.array([1,1,1])))) ,[1,1,1]))"
   ]
  },
  {
   "cell_type": "code",
   "execution_count": 209,
   "metadata": {
    "collapsed": true
   },
   "outputs": [],
   "source": [
    "w2=ans_f"
   ]
  },
  {
   "cell_type": "code",
   "execution_count": 210,
   "metadata": {
    "collapsed": false
   },
   "outputs": [
    {
     "data": {
      "text/plain": [
       "array([-1.69083609,  1.91981257, -0.83738862])"
      ]
     },
     "execution_count": 210,
     "metadata": {},
     "output_type": "execute_result"
    }
   ],
   "source": [
    "ans_f"
   ]
  },
  {
   "cell_type": "code",
   "execution_count": 211,
   "metadata": {
    "collapsed": true
   },
   "outputs": [],
   "source": [
    "##########  Part 2.1. (g). ##########"
   ]
  },
  {
   "cell_type": "code",
   "execution_count": 212,
   "metadata": {
    "collapsed": true
   },
   "outputs": [],
   "source": [
    "Part_g_answer=-1*(ln(logistic_function(np.dot(w2, np.array([0,3,1]))))\n",
    "                  +ln(logistic_function(np.dot(w2, np.array([1,3,1]))))\n",
    "                  +ln(1-logistic_function(np.dot(w2, np.array([0,1,1]))))\n",
    "                  +ln(1-logistic_function(np.dot(w2, np.array([1,1,1])))))"
   ]
  },
  {
   "cell_type": "code",
   "execution_count": 213,
   "metadata": {
    "collapsed": true
   },
   "outputs": [],
   "source": [
    "R_w2=Part_g_answer"
   ]
  },
  {
   "cell_type": "code",
   "execution_count": 214,
   "metadata": {
    "collapsed": false
   },
   "outputs": [
    {
     "data": {
      "text/plain": [
       "1.854699784792251"
      ]
     },
     "execution_count": 214,
     "metadata": {},
     "output_type": "execute_result"
    }
   ],
   "source": [
    "Part_g_answer"
   ]
  },
  {
   "cell_type": "code",
   "execution_count": 5,
   "metadata": {
    "collapsed": true
   },
   "outputs": [],
   "source": [
    "########################################################\n",
    "#################  PROBLEM 3 ###########################\n",
    "########################################################"
   ]
  },
  {
   "cell_type": "code",
   "execution_count": 6,
   "metadata": {
    "collapsed": false
   },
   "outputs": [],
   "source": [
    "spam_data=spy.loadmat(data_path+\"/spam_dataset/spam_data.mat\")"
   ]
  },
  {
   "cell_type": "code",
   "execution_count": 7,
   "metadata": {
    "collapsed": false
   },
   "outputs": [],
   "source": [
    "spam_xtrain=spam_data[\"training_data\"]"
   ]
  },
  {
   "cell_type": "code",
   "execution_count": 8,
   "metadata": {
    "collapsed": true
   },
   "outputs": [],
   "source": [
    "spam_ytrain=spam_data[\"training_labels\"]"
   ]
  },
  {
   "cell_type": "code",
   "execution_count": 9,
   "metadata": {
    "collapsed": true
   },
   "outputs": [],
   "source": [
    "big_X=np.matrix(spam_xtrain)"
   ]
  },
  {
   "cell_type": "code",
   "execution_count": 10,
   "metadata": {
    "collapsed": true
   },
   "outputs": [],
   "source": [
    "########################################################\n",
    "# Preprocessing in 3 different ways starts below\n",
    "########################################################"
   ]
  },
  {
   "cell_type": "code",
   "execution_count": 12,
   "metadata": {
    "collapsed": false
   },
   "outputs": [
    {
     "name": "stderr",
     "output_type": "stream",
     "text": [
      "/Users/Luba/anaconda/lib/python2.7/site-packages/sklearn/utils/extmath.py:71: DeprecationWarning: Implicitly casting between incompatible kinds. In a future numpy release, this will raise an error. Use casting=\"unsafe\" if this is intentional.\n",
      "  np.sqrt(norms, norms)\n"
     ]
    }
   ],
   "source": [
    "from sklearn.preprocessing import normalize as normal\n",
    "# 1st type normalization data\n",
    "normal_1=normal(big_X)"
   ]
  },
  {
   "cell_type": "code",
   "execution_count": 13,
   "metadata": {
    "collapsed": true
   },
   "outputs": [],
   "source": [
    "def log_nor(x):\n",
    "    return math.log(x+0.1)"
   ]
  },
  {
   "cell_type": "code",
   "execution_count": 14,
   "metadata": {
    "collapsed": true
   },
   "outputs": [],
   "source": [
    "def indic(x):\n",
    "    if x>0:\n",
    "        return 1\n",
    "    else:\n",
    "        return 0"
   ]
  },
  {
   "cell_type": "code",
   "execution_count": 15,
   "metadata": {
    "collapsed": true
   },
   "outputs": [],
   "source": [
    "vec1=np.vectorize(log_nor)"
   ]
  },
  {
   "cell_type": "code",
   "execution_count": 279,
   "metadata": {
    "collapsed": true
   },
   "outputs": [],
   "source": [
    "# 2nd type normalization data\n",
    "normal_2=vec1(big_X)"
   ]
  },
  {
   "cell_type": "code",
   "execution_count": 283,
   "metadata": {
    "collapsed": true
   },
   "outputs": [],
   "source": [
    "vec2=np.vectorize(indic)"
   ]
  },
  {
   "cell_type": "code",
   "execution_count": 284,
   "metadata": {
    "collapsed": true
   },
   "outputs": [],
   "source": [
    "# 3rd type normalization data\n",
    "normal_3=vec2(big_X)"
   ]
  },
  {
   "cell_type": "code",
   "execution_count": 302,
   "metadata": {
    "collapsed": false,
    "scrolled": true
   },
   "outputs": [
    {
     "name": "stdout",
     "output_type": "stream",
     "text": [
      "5172\n",
      "32\n"
     ]
    }
   ],
   "source": [
    "print(normal_3.shape[0])\n",
    "print(normal_3.shape[1])"
   ]
  },
  {
   "cell_type": "code",
   "execution_count": 1061,
   "metadata": {
    "collapsed": true
   },
   "outputs": [],
   "source": [
    "########################################################\n",
    "#################  PROBLEM 3 - Part 1 ##################\n",
    "########################################################"
   ]
  },
  {
   "cell_type": "code",
   "execution_count": 1062,
   "metadata": {
    "collapsed": true
   },
   "outputs": [],
   "source": [
    "def logistic_function(x):\n",
    "    if(x<-709):\n",
    "        x=-709\n",
    "    return 1/(1+exp(-x))"
   ]
  },
  {
   "cell_type": "code",
   "execution_count": 1063,
   "metadata": {
    "collapsed": false
   },
   "outputs": [],
   "source": [
    "feature_weights=np.zeros(normal_3.shape[1])"
   ]
  },
  {
   "cell_type": "code",
   "execution_count": 1064,
   "metadata": {
    "collapsed": false
   },
   "outputs": [],
   "source": [
    "spam_ytrain_doublelist=(np.array(spam_ytrain)).tolist()\n",
    "spam_ytrain_list=[]\n",
    "for i in range(normal_3.shape[0]):\n",
    "    n=spam_ytrain_doublelist[0][i]\n",
    "    spam_ytrain_list.append(n)\n"
   ]
  },
  {
   "cell_type": "code",
   "execution_count": 29,
   "metadata": {
    "collapsed": false
   },
   "outputs": [],
   "source": [
    "def total_risk(feature_weights, normal):\n",
    "    total_risk=0\n",
    "    for i in range(normal_3.shape[0]):\n",
    "        total_risk=total_risk+(spam_ytrain_list[i]*ln(logistic_function(np.dot(feature_weights,\n",
    "            np.squeeze(np.asarray(normal[i])))))+(1-spam_ytrain_list[i]*math.log(1-logistic_function(np.dot(feature_weights, \n",
    "            np.squeeze(np.asarray(normal[i])))))))\n",
    "    total_risk = (total_risk*(-1))/normal_3.shape[0]\n",
    "    return total_risk"
   ]
  },
  {
   "cell_type": "code",
   "execution_count": 1066,
   "metadata": {
    "collapsed": false
   },
   "outputs": [],
   "source": [
    "feature_weights=np.zeros(normal_3.shape[1])\n",
    "batch_number_of_iter_1=[]\n",
    "batch_risk_1=[]\n",
    "for j in range(1000):\n",
    "    grad_sum = np.zeros(normal_3.shape[1])\n",
    "    for i in range(normal_3.shape[0]):\n",
    "        grad_sum = grad_sum + np.multiply((spam_ytrain_list[i]-logistic_function(np.dot(feature_weights,\n",
    "                    np.squeeze(np.asarray(normal_1[i]))))), np.squeeze(np.asarray(normal_1[i])))\n",
    "    feature_weights=np.add(feature_weights, np.multiply(0.0001, grad_sum))\n",
    "                                    \n",
    "    batch_number_of_iter_1.append(j+1)\n",
    "    batch_risk_1.append(total_risk(feature_weights, normal_1))"
   ]
  },
  {
   "cell_type": "code",
   "execution_count": 1067,
   "metadata": {
    "collapsed": false
   },
   "outputs": [
    {
     "data": {
      "text/plain": [
       "[<matplotlib.lines.Line2D at 0x150b66a10>]"
      ]
     },
     "execution_count": 1067,
     "metadata": {},
     "output_type": "execute_result"
    },
    {
     "data": {
      "image/png": "[encoded data removed]",
      "text/plain": [
       "<matplotlib.figure.Figure at 0x150a6f450>"
      ]
     },
     "metadata": {},
     "output_type": "display_data"
    }
   ],
   "source": [
    "#The cross-entropy risk of the training set vs the number of iterations.\n",
    "plt.plot(batch_number_of_iter_1, batch_risk_1)"
   ]
  },
  {
   "cell_type": "code",
   "execution_count": 1068,
   "metadata": {
    "collapsed": false
   },
   "outputs": [],
   "source": [
    "feature_weights=np.zeros(normal_3.shape[1])\n",
    "batch_number_of_iter_2=[]\n",
    "batch_risk_2=[]\n",
    "for j in range(1000):\n",
    "    grad_sum = np.zeros(normal_3.shape[1])\n",
    "    for i in range(normal_3.shape[0]):\n",
    "        grad_sum = grad_sum + np.multiply((spam_ytrain_list[i]-logistic_function(np.dot(feature_weights,\n",
    "                    np.squeeze(np.asarray(normal_2[i]))))), np.squeeze(np.asarray(normal_2[i])))\n",
    "    feature_weights=np.add(feature_weights, np.multiply(0.000007, grad_sum))\n",
    "                                    \n",
    "    batch_number_of_iter_2.append(j+1)\n",
    "    batch_risk_2.append(total_risk(feature_weights, normal_2))"
   ]
  },
  {
   "cell_type": "code",
   "execution_count": 1069,
   "metadata": {
    "collapsed": false
   },
   "outputs": [
    {
     "data": {
      "text/plain": [
       "[<matplotlib.lines.Line2D at 0x150cac950>]"
      ]
     },
     "execution_count": 1069,
     "metadata": {},
     "output_type": "execute_result"
    },
    {
     "data": {
      "image/png": "[encoded data removed]",
      "text/plain": [
       "<matplotlib.figure.Figure at 0x150767910>"
      ]
     },
     "metadata": {},
     "output_type": "display_data"
    }
   ],
   "source": [
    "#The cross-entropy risk of the training set vs the number of iterations.\n",
    "plt.plot(batch_number_of_iter_2, batch_risk_2)"
   ]
  },
  {
   "cell_type": "code",
   "execution_count": 1070,
   "metadata": {
    "collapsed": true
   },
   "outputs": [],
   "source": [
    "feature_weights=np.zeros(normal_3.shape[1])\n",
    "batch_number_of_iter_3=[]\n",
    "batch_risk_3=[]\n",
    "for j in range(1000):\n",
    "    grad_sum = np.zeros(normal_3.shape[1])\n",
    "    for i in range(normal_3.shape[0]):\n",
    "        grad_sum = grad_sum + np.multiply((spam_ytrain_list[i]-logistic_function(np.dot(feature_weights,\n",
    "                    np.squeeze(np.asarray(normal_3[i]))))), np.squeeze(np.asarray(normal_3[i])))\n",
    "    feature_weights=np.add(feature_weights, np.multiply(0.0002, grad_sum))\n",
    "                                    \n",
    "    batch_number_of_iter_3.append(j+1)\n",
    "    batch_risk_3.append(total_risk(feature_weights, normal_3))"
   ]
  },
  {
   "cell_type": "code",
   "execution_count": 1071,
   "metadata": {
    "collapsed": false
   },
   "outputs": [
    {
     "data": {
      "text/plain": [
       "[<matplotlib.lines.Line2D at 0x150fd75d0>]"
      ]
     },
     "execution_count": 1071,
     "metadata": {},
     "output_type": "execute_result"
    },
    {
     "data": {
      "image/png": "[encoded data removed]",
      "text/plain": [
       "<matplotlib.figure.Figure at 0x150d5b610>"
      ]
     },
     "metadata": {},
     "output_type": "display_data"
    }
   ],
   "source": [
    "#The cross-entropy risk of the training set vs the number of iterations.\n",
    "plt.plot(batch_number_of_iter_3, batch_risk_3)"
   ]
  },
  {
   "cell_type": "code",
   "execution_count": null,
   "metadata": {
    "collapsed": true
   },
   "outputs": [],
   "source": []
  },
  {
   "cell_type": "code",
   "execution_count": 371,
   "metadata": {
    "collapsed": true
   },
   "outputs": [],
   "source": [
    "#############################################\n",
    "###############  PART 2 #####################\n",
    "#############################################"
   ]
  },
  {
   "cell_type": "code",
   "execution_count": 1072,
   "metadata": {
    "collapsed": false
   },
   "outputs": [],
   "source": [
    "feature_weights=np.zeros(normal_3.shape[1])\n",
    "stoch_number_of_iter_1=[]\n",
    "stoch_risk_1=[]\n",
    "random_range=range(normal_3.shape[0])\n",
    "random.shuffle(random_range)\n",
    "counter=0\n",
    "for i in random_range:\n",
    "    counter+=1\n",
    "    feature_weights=np.add(feature_weights, np.multiply(0.001, np.multiply((spam_ytrain_list[i]-\n",
    "                    logistic_function(np.dot(feature_weights, np.squeeze(np.asarray(normal_1[i]))))), \n",
    "                    np.squeeze(np.asarray(normal_1[i])))))                  \n",
    "    stoch_number_of_iter_1.append(counter)\n",
    "    stoch_risk_1.append(total_risk(feature_weights, normal_1))"
   ]
  },
  {
   "cell_type": "code",
   "execution_count": 1073,
   "metadata": {
    "collapsed": false
   },
   "outputs": [
    {
     "data": {
      "text/plain": [
       "[<matplotlib.lines.Line2D at 0x151175410>]"
      ]
     },
     "execution_count": 1073,
     "metadata": {},
     "output_type": "execute_result"
    },
    {
     "data": {
      "image/png": "[encoded data removed]",
      "text/plain": [
       "<matplotlib.figure.Figure at 0x15100da90>"
      ]
     },
     "metadata": {},
     "output_type": "display_data"
    }
   ],
   "source": [
    "#The cross-entropy risk of the training set vs the number of iterations.\n",
    "plt.plot(stoch_number_of_iter_1, stoch_risk_1)"
   ]
  },
  {
   "cell_type": "code",
   "execution_count": 1129,
   "metadata": {
    "collapsed": false
   },
   "outputs": [],
   "source": [
    "feature_weights=np.zeros(normal_3.shape[1])\n",
    "stoch_number_of_iter_2=[]\n",
    "stoch_risk_2=[]\n",
    "random_range=range(normal_3.shape[0])\n",
    "random.shuffle(random_range)\n",
    "counter=0\n",
    "for i in random_range:\n",
    "    counter+=1\n",
    "    feature_weights=np.add(feature_weights, np.multiply(0.0005, \n",
    "                    np.multiply((spam_ytrain_list[i]-logistic_function(np.dot(feature_weights,\n",
    "                    np.squeeze(np.asarray(normal_2[i]))))), np.squeeze(np.asarray(normal_2[i])))))                  \n",
    "    stoch_number_of_iter_2.append(counter)\n",
    "    stoch_risk_2.append(total_risk(feature_weights, normal_2))"
   ]
  },
  {
   "cell_type": "code",
   "execution_count": 1130,
   "metadata": {
    "collapsed": false
   },
   "outputs": [
    {
     "data": {
      "text/plain": [
       "[<matplotlib.lines.Line2D at 0x1614bdb90>]"
      ]
     },
     "execution_count": 1130,
     "metadata": {},
     "output_type": "execute_result"
    },
    {
     "data": {
      "image/png": "[encoded data removed]",
      "text/plain": [
       "<matplotlib.figure.Figure at 0x161476550>"
      ]
     },
     "metadata": {},
     "output_type": "display_data"
    }
   ],
   "source": [
    "#The cross-entropy risk of the training set vs the number of iterations.\n",
    "plt.plot(stoch_number_of_iter_2, stoch_risk_2)"
   ]
  },
  {
   "cell_type": "code",
   "execution_count": 1085,
   "metadata": {
    "collapsed": true
   },
   "outputs": [],
   "source": [
    "feature_weights=np.zeros(normal_3.shape[1])\n",
    "stoch_number_of_iter_3=[]\n",
    "stoch_risk_3=[]\n",
    "random_range=range(normal_3.shape[0])\n",
    "random.shuffle(random_range)\n",
    "counter=0\n",
    "for i in random_range:\n",
    "    counter+=1\n",
    "    feature_weights=np.add(feature_weights, np.multiply(0.1, \n",
    "                    np.multiply((spam_ytrain_list[i]-logistic_function(np.dot(feature_weights, \n",
    "                    np.squeeze(np.asarray(normal_3[i]))))), np.squeeze(np.asarray(normal_3[i])))))                  \n",
    "    stoch_number_of_iter_3.append(counter)\n",
    "    stoch_risk_3.append(total_risk(feature_weights, normal_3))"
   ]
  },
  {
   "cell_type": "code",
   "execution_count": 1086,
   "metadata": {
    "collapsed": false
   },
   "outputs": [
    {
     "data": {
      "text/plain": [
       "[<matplotlib.lines.Line2D at 0x15d362b10>]"
      ]
     },
     "execution_count": 1086,
     "metadata": {},
     "output_type": "execute_result"
    },
    {
     "data": {
      "image/png": "[encoded data removed]",
      "text/plain": [
       "<matplotlib.figure.Figure at 0x15d1b2ad0>"
      ]
     },
     "metadata": {},
     "output_type": "display_data"
    }
   ],
   "source": [
    "#The cross-entropy risk of the training set vs the number of iterations.\n",
    "plt.plot(stoch_number_of_iter_3, stoch_risk_3)"
   ]
  },
  {
   "cell_type": "code",
   "execution_count": null,
   "metadata": {
    "collapsed": true
   },
   "outputs": [],
   "source": []
  },
  {
   "cell_type": "code",
   "execution_count": 443,
   "metadata": {
    "collapsed": true
   },
   "outputs": [],
   "source": [
    "#############################################\n",
    "###############  PART 3 #####################\n",
    "#############################################"
   ]
  },
  {
   "cell_type": "code",
   "execution_count": 445,
   "metadata": {
    "collapsed": true
   },
   "outputs": [],
   "source": [
    "feature_weights=np.zeros(normal_3.shape[1])\n",
    "stoch2_number_of_iter_1=[]\n",
    "stoch2_risk_1=[]\n",
    "random_range=range(normal_3.shape[0])\n",
    "random.shuffle(random_range)\n",
    "counter=0\n",
    "for i in random_range:\n",
    "    counter+=1\n",
    "    feature_weights=np.add(feature_weights, np.multiply(1/counter, \n",
    "                    np.multiply((spam_ytrain_list[i]- logistic_function(np.dot(feature_weights,\n",
    "                    np.squeeze(np.asarray(normal_1[i]))))), np.squeeze(np.asarray(normal_1[i])))))                  \n",
    "    stoch2_number_of_iter_1.append(counter)\n",
    "    stoch2_risk_1.append(total_risk(feature_weights, normal_1))"
   ]
  },
  {
   "cell_type": "code",
   "execution_count": 446,
   "metadata": {
    "collapsed": false
   },
   "outputs": [
    {
     "data": {
      "text/plain": [
       "[<matplotlib.lines.Line2D at 0x129b139d0>]"
      ]
     },
     "execution_count": 446,
     "metadata": {},
     "output_type": "execute_result"
    },
    {
     "data": {
      "image/png": "[encoded data removed]",
      "text/plain": [
       "<matplotlib.figure.Figure at 0x129b98450>"
      ]
     },
     "metadata": {},
     "output_type": "display_data"
    }
   ],
   "source": [
    "#The cross-entropy risk of the training set vs the number of iterations.\n",
    "plt.plot(stoch2_number_of_iter_1, stoch2_risk_1)"
   ]
  },
  {
   "cell_type": "code",
   "execution_count": null,
   "metadata": {
    "collapsed": true
   },
   "outputs": [],
   "source": []
  },
  {
   "cell_type": "code",
   "execution_count": 447,
   "metadata": {
    "collapsed": true
   },
   "outputs": [],
   "source": [
    "feature_weights=np.zeros(normal_3.shape[1])\n",
    "stoch2_number_of_iter_2=[]\n",
    "stoch2_risk_2=[]\n",
    "random_range=range(normal_3.shape[0])\n",
    "random.shuffle(random_range)\n",
    "counter=0\n",
    "for i in random_range:\n",
    "    counter+=1\n",
    "    feature_weights=np.add(feature_weights, np.multiply(1/counter, \n",
    "                    np.multiply((spam_ytrain_list[i]-logistic_function(np.dot(feature_weights,\n",
    "                    np.squeeze(np.asarray(normal_2[i]))))), np.squeeze(np.asarray(normal_2[i])))))                  \n",
    "    stoch2_number_of_iter_2.append(counter)\n",
    "    stoch2_risk_2.append(total_risk(feature_weights, normal_2))"
   ]
  },
  {
   "cell_type": "code",
   "execution_count": 448,
   "metadata": {
    "collapsed": false
   },
   "outputs": [
    {
     "data": {
      "text/plain": [
       "[<matplotlib.lines.Line2D at 0x129eb3890>]"
      ]
     },
     "execution_count": 448,
     "metadata": {},
     "output_type": "execute_result"
    },
    {
     "data": {
      "image/png": "[encoded data removed]",
      "text/plain": [
       "<matplotlib.figure.Figure at 0x12990e550>"
      ]
     },
     "metadata": {},
     "output_type": "display_data"
    }
   ],
   "source": [
    "#The cross-entropy risk of the training set vs the number of iterations.\n",
    "plt.plot(stoch2_number_of_iter_2, stoch2_risk_2)"
   ]
  },
  {
   "cell_type": "code",
   "execution_count": null,
   "metadata": {
    "collapsed": true
   },
   "outputs": [],
   "source": []
  },
  {
   "cell_type": "code",
   "execution_count": 451,
   "metadata": {
    "collapsed": true
   },
   "outputs": [],
   "source": [
    "feature_weights=np.zeros(normal_3.shape[1])\n",
    "stoch2_number_of_iter_3=[]\n",
    "stoch2_risk_3=[]\n",
    "random_range=range(normal_3.shape[0])\n",
    "random.shuffle(random_range)\n",
    "counter=0\n",
    "for i in random_range:\n",
    "    counter+=1\n",
    "    feature_weights=np.add(feature_weights, np.multiply(1/counter, \n",
    "            np.multiply((spam_ytrain_list[i]-logistic_function(np.dot(feature_weights,\n",
    "                np.squeeze(np.asarray(normal_3[i]))))), np.squeeze(np.asarray(normal_3[i])))))                  \n",
    "    stoch2_number_of_iter_3.append(counter)\n",
    "    stoch2_risk_3.append(total_risk(feature_weights, normal_3))"
   ]
  },
  {
   "cell_type": "code",
   "execution_count": 452,
   "metadata": {
    "collapsed": false
   },
   "outputs": [
    {
     "data": {
      "text/plain": [
       "[<matplotlib.lines.Line2D at 0x12a195a90>]"
      ]
     },
     "execution_count": 452,
     "metadata": {},
     "output_type": "execute_result"
    },
    {
     "data": {
      "image/png": "[encoded data removed]",
      "text/plain": [
       "<matplotlib.figure.Figure at 0x12a1761d0>"
      ]
     },
     "metadata": {},
     "output_type": "display_data"
    }
   ],
   "source": [
    "#The cross-entropy risk of the training set vs the number of iterations.\n",
    "plt.plot(stoch2_number_of_iter_3, stoch2_risk_3)"
   ]
  },
  {
   "cell_type": "code",
   "execution_count": 879,
   "metadata": {
    "collapsed": true
   },
   "outputs": [],
   "source": [
    "#############################################\n",
    "###############  PART 3.4 ###################\n",
    "#############################################"
   ]
  },
  {
   "cell_type": "code",
   "execution_count": 880,
   "metadata": {
    "collapsed": true
   },
   "outputs": [],
   "source": [
    "##########  Part 3.4 (a). ##########"
   ]
  },
  {
   "cell_type": "code",
   "execution_count": 881,
   "metadata": {
    "collapsed": true
   },
   "outputs": [],
   "source": [
    "from random import shuffle"
   ]
  },
  {
   "cell_type": "code",
   "execution_count": 918,
   "metadata": {
    "collapsed": true
   },
   "outputs": [],
   "source": [
    "number_of_emails=normal_3.shape[0]"
   ]
  },
  {
   "cell_type": "code",
   "execution_count": 919,
   "metadata": {
    "collapsed": false
   },
   "outputs": [],
   "source": [
    "random_shuffle=range(number_of_emails)\n",
    "shuffle(random_shuffle)"
   ]
  },
  {
   "cell_type": "code",
   "execution_count": 920,
   "metadata": {
    "collapsed": false
   },
   "outputs": [],
   "source": [
    "training_indices=random_shuffle[0:int(number_of_emails*(2/3))]\n",
    "valid_indices=random_shuffle[int(number_of_emails*(2/3)):]"
   ]
  },
  {
   "cell_type": "code",
   "execution_count": 921,
   "metadata": {
    "collapsed": false
   },
   "outputs": [],
   "source": [
    "kernel_ytrain_list=[spam_ytrain_list[i] for i in training_indices]\n",
    "kernel_yvalid_list=[spam_ytrain_list[i] for i in valid_indices]"
   ]
  },
  {
   "cell_type": "code",
   "execution_count": 1018,
   "metadata": {
    "collapsed": false
   },
   "outputs": [],
   "source": [
    "normal_kernel=vec1(big_X)"
   ]
  },
  {
   "cell_type": "code",
   "execution_count": 1019,
   "metadata": {
    "collapsed": true
   },
   "outputs": [],
   "source": [
    "t_list=[list(normal_kernel[i]) for i in training_indices]"
   ]
  },
  {
   "cell_type": "code",
   "execution_count": 1020,
   "metadata": {
    "collapsed": false
   },
   "outputs": [],
   "source": [
    "t_list_np=np.array(t_list)"
   ]
  },
  {
   "cell_type": "code",
   "execution_count": 1021,
   "metadata": {
    "collapsed": false
   },
   "outputs": [],
   "source": [
    "v_list=[list(normal_kernel[i]) for i in valid_indices]"
   ]
  },
  {
   "cell_type": "code",
   "execution_count": 1022,
   "metadata": {
    "collapsed": true
   },
   "outputs": [],
   "source": [
    "v_list_np=np.array(v_list)"
   ]
  },
  {
   "cell_type": "code",
   "execution_count": 1023,
   "metadata": {
    "collapsed": true
   },
   "outputs": [],
   "source": [
    "kernel_big_X=np.matrix(t_list_np)"
   ]
  },
  {
   "cell_type": "code",
   "execution_count": 1025,
   "metadata": {
    "collapsed": true
   },
   "outputs": [],
   "source": [
    "kernel_v_big_X=np.matrix(v_list_np)"
   ]
  },
  {
   "cell_type": "code",
   "execution_count": 1027,
   "metadata": {
    "collapsed": true
   },
   "outputs": [],
   "source": [
    "r_lambda = 0.001\n",
    "#step_size = 0.001"
   ]
  },
  {
   "cell_type": "code",
   "execution_count": 1028,
   "metadata": {
    "collapsed": false
   },
   "outputs": [],
   "source": [
    "k_matrix=[]\n",
    "for i in range(kernel_big_X.shape[0]):\n",
    "    sub_list=[]\n",
    "    for j in range(kernel_big_X.shape[0]):\n",
    "        sub_list.append(np.square(np.dot(kernel_big_X[i], kernel_big_X[j].T).item()+1))\n",
    "    k_matrix.append(sub_list)    \n",
    "\n",
    "    "
   ]
  },
  {
   "cell_type": "code",
   "execution_count": 1029,
   "metadata": {
    "collapsed": false
   },
   "outputs": [
    {
     "data": {
      "text/plain": [
       "(3448, 32)"
      ]
     },
     "execution_count": 1029,
     "metadata": {},
     "output_type": "execute_result"
    }
   ],
   "source": [
    "kernel_big_X.shape"
   ]
  },
  {
   "cell_type": "code",
   "execution_count": 1030,
   "metadata": {
    "collapsed": false
   },
   "outputs": [],
   "source": [
    "kernel_tmatrix = np.matrix(k_matrix)"
   ]
  },
  {
   "cell_type": "code",
   "execution_count": 1032,
   "metadata": {
    "collapsed": true
   },
   "outputs": [],
   "source": [
    "kv_matrix=[]\n",
    "for i in range(kernel_v_big_X.shape[0]):\n",
    "    sub_list=[]\n",
    "    for j in range(kernel_v_big_X.shape[0]):\n",
    "        sub_list.append(np.square(np.dot(kernel_v_big_X[i], kernel_v_big_X[j].T).item()+1))\n",
    "    kv_matrix.append(sub_list)  "
   ]
  },
  {
   "cell_type": "code",
   "execution_count": 1034,
   "metadata": {
    "collapsed": true
   },
   "outputs": [],
   "source": [
    "kernel_vmatrix = np.matrix(kv_matrix)"
   ]
  },
  {
   "cell_type": "code",
   "execution_count": 1158,
   "metadata": {
    "collapsed": true
   },
   "outputs": [],
   "source": [
    "##### processing data finishes above."
   ]
  },
  {
   "cell_type": "code",
   "execution_count": 1035,
   "metadata": {
    "collapsed": true
   },
   "outputs": [],
   "source": [
    "#First two inputs are numpy arrays with same number of elements \n",
    "def poly_kernal_deg2(x,z, p):\n",
    "    return np.square(np.dot(x.T, z) + p)\n",
    "    "
   ]
  },
  {
   "cell_type": "code",
   "execution_count": 1036,
   "metadata": {
    "collapsed": true
   },
   "outputs": [],
   "source": [
    "# vector \"a\" dot product with kernel values \n",
    "def sum_weighted_kernels(a, data_matrix, x):\n",
    "    row_num=data_matrix.shape[0]\n",
    "    k_list=[]\n",
    "    for i in range(row_num):\n",
    "        k_list.append(poly_kernal_deg2(np.squeeze(np.asarray(data_matrix[i])), x, 1))\n",
    "    np_k_list=np.array(k_list)    \n",
    "    return np.dot(np_k_list, a)"
   ]
  },
  {
   "cell_type": "code",
   "execution_count": 1037,
   "metadata": {
    "collapsed": false
   },
   "outputs": [],
   "source": [
    "def point_risk(a_vector, data_matrix, z, i):\n",
    "    total_risk=0\n",
    "    x=(logistic_function(sum_weighted_kernels(a_vector, \n",
    "                data_matrix, np.squeeze(np.asarray(z)))))\n",
    "    if(x<=0):\n",
    "        x=1E-10\n",
    "    y=(1-logistic_function(sum_weighted_kernels(a_vector, \n",
    "                data_matrix, np.squeeze(np.asarray(z)))))\n",
    "    if(y<=0):\n",
    "        y=1E-10\n",
    "    risk=(kernel_ytrain_list[i]*math.log(x)+\n",
    "                    (1-kernel_ytrain_list[i]*math.log(y)))\n",
    "    risk = (risk*(-1))#/data_matrix.shape[0]\n",
    "    return risk"
   ]
  },
  {
   "cell_type": "code",
   "execution_count": 1039,
   "metadata": {
    "collapsed": false
   },
   "outputs": [
    {
     "name": "stdout",
     "output_type": "stream",
     "text": [
      "3448\n",
      "1724\n"
     ]
    }
   ],
   "source": [
    "print(len(training_indices))\n",
    "print(len(valid_indices))"
   ]
  },
  {
   "cell_type": "code",
   "execution_count": 1078,
   "metadata": {
    "collapsed": false
   },
   "outputs": [],
   "source": [
    "a_vector=np.zeros(kernel_tmatrix.shape[0])\n",
    "counter=0\n",
    "k_total_risk=[]\n",
    "number_iter_kernel=[]\n",
    "total_point_risk=0\n",
    "for i in training_indices:\n",
    "    step_size=1/(counter+1)\n",
    "    #if counter%100==0:\n",
    "    #    print(counter)\n",
    "    Ka_i=np.asarray(np.dot(kernel_tmatrix, a_vector))[0][counter]\n",
    "    #print(Ka_i)\n",
    "    if(Ka_i<-709):\n",
    "        Ka_i=-709\n",
    "    val=a_vector[counter]-r_lambda*step_size*a_vector[counter]+step_size*(kernel_ytrain_list[counter]-logistic_function(Ka_i)) \n",
    "    np.put(a_vector, counter, val)\n",
    "    for j in range(kernel_tmatrix.shape[0]):\n",
    "        if(j!=i):\n",
    "            val_h=a_vector[j] - r_lambda*step_size*a_vector[j]\n",
    "            np.put(a_vector, j, val_h)\n",
    "    total_point_risk=total_point_risk+point_risk(a_vector, \n",
    "                        kernel_tmatrix, kernel_tmatrix[counter], counter)\n",
    "    \n",
    "    counter+=1\n",
    "    k_total_risk.append(total_point_risk/counter)\n",
    "\n",
    "    number_iter_kernel.append(counter)\n",
    "        "
   ]
  },
  {
   "cell_type": "code",
   "execution_count": 1041,
   "metadata": {
    "collapsed": false
   },
   "outputs": [
    {
     "data": {
      "text/plain": [
       "[<matplotlib.lines.Line2D at 0x14f5771d0>]"
      ]
     },
     "execution_count": 1041,
     "metadata": {},
     "output_type": "execute_result"
    },
    {
     "data": {
      "image/png": "[encoded data removed]",
      "text/plain": [
       "<matplotlib.figure.Figure at 0x14f959710>"
      ]
     },
     "metadata": {},
     "output_type": "display_data"
    }
   ],
   "source": [
    "plt.plot(number_iter_kernel, k_total_risk)"
   ]
  },
  {
   "cell_type": "code",
   "execution_count": 1042,
   "metadata": {
    "collapsed": true
   },
   "outputs": [],
   "source": [
    "##########  the validation part starts here ##########"
   ]
  },
  {
   "cell_type": "code",
   "execution_count": 1079,
   "metadata": {
    "collapsed": false
   },
   "outputs": [],
   "source": [
    "counter=0\n",
    "kv_total_risk=[]\n",
    "number_iter_kernel_v=[]\n",
    "total_point_risk=0\n",
    "for i in valid_indices:\n",
    "    step_size=1/(counter+1)\n",
    "    #if counter%100==0:\n",
    "    #    print(counter)\n",
    "    Ka_i=np.asarray(np.dot(kernel_tmatrix, a_vector))[0][counter]\n",
    "    #print(Ka_i)\n",
    "    if(Ka_i<-709):\n",
    "        Ka_i=-709\n",
    "    val=a_vector[counter] - r_lambda*step_size*a_vector[counter]+step_size*(kernel_ytrain_list[counter]-logistic_function(Ka_i)) \n",
    "    np.put(a_vector, counter, val)\n",
    "    for j in range(kernel_tmatrix.shape[0]):\n",
    "        if(j!=i):\n",
    "            val_h=a_vector[j] - r_lambda*step_size*a_vector[j]\n",
    "            np.put(a_vector, j, val_h)\n",
    "    total_point_risk=total_point_risk+point_risk(a_vector, \n",
    "                kernel_big_X, kernel_v_big_X[counter].T, counter)\n",
    "    \n",
    "    counter+=1\n",
    "    kv_total_risk.append(total_point_risk/counter)\n",
    "\n",
    "    number_iter_kernel_v.append(counter)\n"
   ]
  },
  {
   "cell_type": "code",
   "execution_count": 1044,
   "metadata": {
    "collapsed": false
   },
   "outputs": [
    {
     "data": {
      "text/plain": [
       "[<matplotlib.lines.Line2D at 0x1502848d0>]"
      ]
     },
     "execution_count": 1044,
     "metadata": {},
     "output_type": "execute_result"
    },
    {
     "data": {
      "image/png": "[encoded data removed]",
      "text/plain": [
       "<matplotlib.figure.Figure at 0x15b1b0950>"
      ]
     },
     "metadata": {},
     "output_type": "display_data"
    }
   ],
   "source": [
    "plt.plot(number_iter_kernel_v, kv_total_risk)"
   ]
  },
  {
   "cell_type": "code",
   "execution_count": 1045,
   "metadata": {
    "collapsed": true
   },
   "outputs": [],
   "source": [
    "##########  Part 3.4 (b). ##########"
   ]
  },
  {
   "cell_type": "code",
   "execution_count": 1046,
   "metadata": {
    "collapsed": true
   },
   "outputs": [],
   "source": [
    "#First two inputs are numpy arrays with same number of elements \n",
    "def lin_kernel(x,z, p):\n",
    "    return np.dot(x.T, z) + p"
   ]
  },
  {
   "cell_type": "code",
   "execution_count": 1047,
   "metadata": {
    "collapsed": true
   },
   "outputs": [],
   "source": [
    "# vector \"a\" dot product with kernel values \n",
    "def sum_weighted_lin_kernels(a, data_matrix, x):\n",
    "    row_num=data_matrix.shape[0]\n",
    "    k_list=[]\n",
    "    for i in range(row_num):\n",
    "        k_list.append(lin_kernal(np.squeeze(np.asarray(data_matrix[i])), x, 1))\n",
    "    np_k_list=np.array(k_list)    \n",
    "    return np.dot(np_k_list, a)"
   ]
  },
  {
   "cell_type": "code",
   "execution_count": 1048,
   "metadata": {
    "collapsed": true
   },
   "outputs": [],
   "source": [
    "def lin_point_risk(a_vector, data_matrix, z, i):\n",
    "    total_risk=0\n",
    "    \n",
    "    x=(logistic_function(sum_weighted_lin_kernels(a_vector, \n",
    "                data_matrix, np.squeeze(np.asarray(z)))))\n",
    "    if(x<=0):\n",
    "        x=1E-10\n",
    "    y=(1-logistic_function(sum_weighted_lin_kernels(a_vector, \n",
    "                data_matrix, np.squeeze(np.asarray(z)))))\n",
    "    if(y<=0):\n",
    "        y=1E-10\n",
    "        \n",
    "    risk=(kernel_ytrain_list[i]*math.log(x)+\n",
    "                    (1-kernel_ytrain_list[i]*math.log(y)))\n",
    "    risk = (risk*(-1))\n",
    "    return risk"
   ]
  },
  {
   "cell_type": "code",
   "execution_count": 1080,
   "metadata": {
    "collapsed": false
   },
   "outputs": [],
   "source": [
    "a_vector_lin=np.zeros(kernel_tmatrix.shape[0])\n",
    "counter=0\n",
    "lin_k_total_risk=[]\n",
    "number_iter_lin_kernel=[]\n",
    "total_point_risk=0\n",
    "for i in training_indices:\n",
    "    step_size=1/(counter+1)\n",
    "    #if counter%100==0:\n",
    "    #    print(counter)\n",
    "    Ka_i=np.asarray(np.dot(kernel_tmatrix, a_vector_lin))[0][counter]\n",
    "    #print(Ka_i)\n",
    "    if(Ka_i<-709):\n",
    "        Ka_i=-709\n",
    "    val=a_vector_lin[counter] - r_lambda*step_size*a_vector_lin[counter]+ \n",
    "                    step_size*(kernel_ytrain_list[counter] - logistic_function(Ka_i)) \n",
    "    np.put(a_vector_lin, counter, val)\n",
    "    for j in range(kernel_tmatrix.shape[0]):\n",
    "        if(j!=i):\n",
    "            val_h=a_vector_lin[j] - r_lambda*step_size*a_vector_lin[j]\n",
    "            np.put(a_vector_lin, j, val_h)\n",
    "    total_point_risk=total_point_risk+lin_point_risk(a_vector_lin,\n",
    "                        kernel_tmatrix, kernel_tmatrix[counter], counter)\n",
    "    \n",
    "    counter+=1\n",
    "    lin_k_total_risk.append(total_point_risk/counter)\n",
    "\n",
    "    number_iter_lin_kernel.append(counter)"
   ]
  },
  {
   "cell_type": "code",
   "execution_count": 1051,
   "metadata": {
    "collapsed": false
   },
   "outputs": [
    {
     "data": {
      "text/plain": [
       "[<matplotlib.lines.Line2D at 0x150626dd0>]"
      ]
     },
     "execution_count": 1051,
     "metadata": {},
     "output_type": "execute_result"
    },
    {
     "data": {
      "image/png": "[encoded data removed]",
      "text/plain": [
       "<matplotlib.figure.Figure at 0x15068add0>"
      ]
     },
     "metadata": {},
     "output_type": "display_data"
    }
   ],
   "source": [
    "plt.plot(number_iter_lin_kernel, lin_k_total_risk)"
   ]
  },
  {
   "cell_type": "code",
   "execution_count": 1052,
   "metadata": {
    "collapsed": false
   },
   "outputs": [],
   "source": [
    "#a_vector_lin=np.zeros(kernel_tmatrix.shape[0])\n",
    "counter=0\n",
    "lin_kv_total_risk=[]\n",
    "number_iter_lin_kernel_v=[]\n",
    "total_point_risk=0\n",
    "for i in valid_indices:\n",
    "    step_size=1/(counter+1)\n",
    "    #if counter%100==0:\n",
    "    #    print(counter)\n",
    "    Ka_i=np.asarray(np.dot(kernel_tmatrix, a_vector_lin))[0][counter]\n",
    "    #print(Ka_i)\n",
    "    if(Ka_i<-709):\n",
    "        Ka_i=-709\n",
    "    val=a_vector_lin[counter] - r_lambda*step_size*a_vector_lin[counter] + \n",
    "                    step_size*(kernel_ytrain_list[counter]-logistic_function(Ka_i)) \n",
    "    np.put(a_vector_lin, counter, val)\n",
    "    for j in range(kernel_vmatrix.shape[0]):\n",
    "        if(j!=i):\n",
    "            val_h=a_vector_lin[j] - r_lambda*step_size*a_vector_lin[j]\n",
    "            np.put(a_vector_lin, j, val_h)\n",
    "    total_point_risk=total_point_risk+lin_point_risk(a_vector_lin, \n",
    "                            kernel_big_X, kernel_v_big_X[counter].T, counter)\n",
    "    \n",
    "    counter+=1\n",
    "    lin_kv_total_risk.append(total_point_risk/counter)\n",
    "\n",
    "    number_iter_lin_kernel_v.append(counter)"
   ]
  },
  {
   "cell_type": "code",
   "execution_count": 1053,
   "metadata": {
    "collapsed": false
   },
   "outputs": [
    {
     "data": {
      "text/plain": [
       "[<matplotlib.lines.Line2D at 0x150767650>]"
      ]
     },
     "execution_count": 1053,
     "metadata": {},
     "output_type": "execute_result"
    },
    {
     "data": {
      "image/png": "[encoded data removed]",
      "text/plain": [
       "<matplotlib.figure.Figure at 0x15090a550>"
      ]
     },
     "metadata": {},
     "output_type": "display_data"
    }
   ],
   "source": [
    "plt.plot(number_iter_lin_kernel_v, lin_kv_total_risk)"
   ]
  },
  {
   "cell_type": "code",
   "execution_count": 17,
   "metadata": {
    "collapsed": true
   },
   "outputs": [],
   "source": [
    "#############################################\n",
    "###############  PART 5 #####################\n",
    "#############################################"
   ]
  },
  {
   "cell_type": "code",
   "execution_count": 18,
   "metadata": {
    "collapsed": true
   },
   "outputs": [],
   "source": [
    "from __future__ import division"
   ]
  },
  {
   "cell_type": "code",
   "execution_count": 19,
   "metadata": {
    "collapsed": true
   },
   "outputs": [],
   "source": [
    "spam_test_data=spam_data[\"test_data\"]"
   ]
  },
  {
   "cell_type": "code",
   "execution_count": 20,
   "metadata": {
    "collapsed": false
   },
   "outputs": [
    {
     "data": {
      "text/plain": [
       "array([[0, 0, 0, ..., 0, 0, 0],\n",
       "       [0, 0, 0, ..., 1, 0, 0],\n",
       "       [0, 0, 0, ..., 0, 0, 0],\n",
       "       ..., \n",
       "       [0, 0, 0, ..., 1, 0, 0],\n",
       "       [0, 0, 0, ..., 3, 0, 0],\n",
       "       [0, 0, 0, ..., 0, 0, 0]], dtype=uint8)"
      ]
     },
     "execution_count": 20,
     "metadata": {},
     "output_type": "execute_result"
    }
   ],
   "source": [
    "spam_test_data"
   ]
  },
  {
   "cell_type": "code",
   "execution_count": 21,
   "metadata": {
    "collapsed": true
   },
   "outputs": [],
   "source": [
    "test_big_X=np.matrix(spam_test_data)"
   ]
  },
  {
   "cell_type": "code",
   "execution_count": 22,
   "metadata": {
    "collapsed": false
   },
   "outputs": [
    {
     "data": {
      "text/plain": [
       "matrix([[0, 0, 0, ..., 0, 0, 0],\n",
       "        [0, 0, 0, ..., 1, 0, 0],\n",
       "        [0, 0, 0, ..., 0, 0, 0],\n",
       "        ..., \n",
       "        [0, 0, 0, ..., 1, 0, 0],\n",
       "        [0, 0, 0, ..., 3, 0, 0],\n",
       "        [0, 0, 0, ..., 0, 0, 0]], dtype=uint8)"
      ]
     },
     "execution_count": 22,
     "metadata": {},
     "output_type": "execute_result"
    }
   ],
   "source": [
    "test_big_X"
   ]
  },
  {
   "cell_type": "code",
   "execution_count": 27,
   "metadata": {
    "collapsed": false
   },
   "outputs": [],
   "source": [
    "test_normal_2=vec1(test_big_X)"
   ]
  },
  {
   "cell_type": "code",
   "execution_count": 1154,
   "metadata": {
    "collapsed": false
   },
   "outputs": [],
   "source": [
    "test_feature_weights=np.zeros(normal_3.shape[1])\n",
    "test_batch_number_of_iter_2=[]\n",
    "test_batch_risk_2=[]\n",
    "for j in range(3000):\n",
    "    grad_sum = np.zeros(normal_3.shape[1])\n",
    "    for i in range(normal_3.shape[0]):\n",
    "        grad_sum = grad_sum + np.multiply((spam_ytrain_list[i]-logistic_function(np.dot(test_feature_weights,\n",
    "                    np.squeeze(np.asarray(normal_2[i]))))), \n",
    "                    np.squeeze(np.asarray(normal_2[i])))\n",
    "    test_feature_weights=np.add(test_feature_weights, np.multiply(0.000007,\n",
    "                                                                grad_sum))\n",
    "                                    \n",
    "    test_batch_number_of_iter_2.append(j+1)\n",
    "    test_batch_risk_2.append(total_risk(test_feature_weights, normal_2))"
   ]
  },
  {
   "cell_type": "code",
   "execution_count": 1131,
   "metadata": {
    "collapsed": true
   },
   "outputs": [],
   "source": [
    "def pred_func(x):\n",
    "    if x<0.5:\n",
    "        return 0\n",
    "    elif x>0.5:\n",
    "        return 1\n",
    "    elif x==0.5:\n",
    "        return random.randint(0, 1)"
   ]
  },
  {
   "cell_type": "code",
   "execution_count": 1156,
   "metadata": {
    "collapsed": false
   },
   "outputs": [],
   "source": [
    "result=[]\n",
    "for k in range(test_normal_1.shape[0]):\n",
    "    result.append(pred_func(logistic_function(np.dot(\n",
    "      np.squeeze(np.asarray(test_normal_2[1])),test_feature_weights_test))))"
   ]
  },
  {
   "cell_type": "code",
   "execution_count": null,
   "metadata": {
    "collapsed": true
   },
   "outputs": [],
   "source": []
  }
 ],
 "metadata": {
  "kernelspec": {
   "display_name": "Python 2",
   "language": "python",
   "name": "python2"
  },
  "language_info": {
   "codemirror_mode": {
    "name": "ipython",
    "version": 2
   },
   "file_extension": ".py",
   "mimetype": "text/x-python",
   "name": "python",
   "nbconvert_exporter": "python",
   "pygments_lexer": "ipython2",
   "version": "2.7.11"
  }
 },
 "nbformat": 4,
 "nbformat_minor": 0
}
