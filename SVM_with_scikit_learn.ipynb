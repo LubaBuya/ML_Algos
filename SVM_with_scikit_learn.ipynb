{
 "cells": [
  {
   "cell_type": "code",
   "execution_count": 1,
   "metadata": {
    "collapsed": false,
    "scrolled": true
   },
   "outputs": [],
   "source": [
    "#####################################################################################\n",
    "#################################      Problem 1      ###############################\n",
    "#####################################################################################\n",
    "\n",
    "import random \n",
    "from sklearn import svm \n",
    "import scipy.io as spy\n",
    "from __future__ import division\n",
    "\n",
    "data_path=\"/Users/Luba/Desktop/CS189_spring/hw1/data/digit-dataset\"\n",
    "\n",
    "digit_train_data=spy.loadmat(data_path+\"/train.mat\")\n"
   ]
  },
  {
   "cell_type": "code",
   "execution_count": 2,
   "metadata": {
    "collapsed": true
   },
   "outputs": [],
   "source": [
    "x=digit_train_data.get('train_images')\n",
    "vector=[]\n",
    "for k in range(len((x[0][0]))):\n",
    "    element=[]\n",
    "    for i in range(28):\n",
    "        for j in range(28):\n",
    "            element.append(x[i][j][k])\n",
    "    vector.append(element)\n",
    "    \n",
    "y=digit_train_data.get('train_labels')"
   ]
  },
  {
   "cell_type": "code",
   "execution_count": 3,
   "metadata": {
    "collapsed": false
   },
   "outputs": [
    {
     "name": "stdout",
     "output_type": "stream",
     "text": [
      "Populating the interactive namespace from numpy and matplotlib\n"
     ]
    },
    {
     "name": "stderr",
     "output_type": "stream",
     "text": [
      "WARNING: pylab import has clobbered these variables: ['random', 'spy']\n",
      "`%matplotlib` prevents importing * from pylab and numpy\n"
     ]
    }
   ],
   "source": [
    "import numpy as np\n",
    "import matplotlib.pyplot as plt\n",
    "%pylab inline"
   ]
  },
  {
   "cell_type": "code",
   "execution_count": 4,
   "metadata": {
    "collapsed": true
   },
   "outputs": [],
   "source": [
    "from skimage.feature import hog"
   ]
  },
  {
   "cell_type": "code",
   "execution_count": 5,
   "metadata": {
    "collapsed": false
   },
   "outputs": [
    {
     "data": {
      "image/png": "[encoded data removed]",
      "text/plain": [
       "<matplotlib.figure.Figure at 0x169434f10>"
      ]
     },
     "metadata": {},
     "output_type": "display_data"
    }
   ],
   "source": [
    "def plot_digit(X):\n",
    "    X=np.array(X)\n",
    "    img = X.reshape(28,28)\n",
    "    plt.imshow(img, cmap='Greys',  interpolation='nearest')\n",
    "    #plt.title('true label: %d' % y[idx)\n",
    "    plt.show()\n",
    "plot_digit(vector[27558])"
   ]
  },
  {
   "cell_type": "code",
   "execution_count": 6,
   "metadata": {
    "collapsed": false
   },
   "outputs": [],
   "source": [
    "features = np.array(vector)"
   ]
  },
  {
   "cell_type": "code",
   "execution_count": 7,
   "metadata": {
    "collapsed": false
   },
   "outputs": [],
   "source": [
    "#HOG featurization\n",
    "list_hog_fd = []\n",
    "for feature in features:\n",
    "    fd = hog(feature.reshape((28, 28)), orientations=9, pixels_per_cell=(4, 4), cells_per_block=(1, 1), \n",
    "             visualise=False)\n",
    "    list_hog_fd.append(fd)\n",
    "hog_features = np.array(list_hog_fd, 'float64')"
   ]
  },
  {
   "cell_type": "code",
   "execution_count": 8,
   "metadata": {
    "collapsed": false
   },
   "outputs": [],
   "source": [
    "import random \n",
    "index=range(60000)\n",
    "index=list(index)\n",
    "random.shuffle(index)\n",
    "\n",
    "s1=100\n",
    "s2=200\n",
    "s3=500\n",
    "s4=1000\n",
    "s5=2000\n",
    "s6=5000\n",
    "s7=10000\n",
    "valid=10000\n",
    "\n",
    "r1=random.sample(index,s1)\n",
    "rest_r1=list(set(index)-set(r1))\n",
    "r1_valid=random.sample(rest_r1, valid)\n",
    "\n",
    "r2=random.sample(index,s2)\n",
    "rest_r2=list(set(index)-set(r2))\n",
    "r2_valid=random.sample(rest_r2, valid)\n",
    "\n",
    "r3=random.sample(index,s3)\n",
    "rest_r3=list(set(index)-set(r3))\n",
    "r3_valid=random.sample(rest_r3, valid)\n",
    "\n",
    "r4=random.sample(index,s4)\n",
    "rest_r4=list(set(index)-set(r4))\n",
    "r4_valid=random.sample(rest_r4, valid)\n",
    "\n",
    "r5=random.sample(index,s5)\n",
    "rest_r5=list(set(index)-set(r5))\n",
    "r5_valid=random.sample(rest_r5, valid)\n",
    "\n",
    "r6=random.sample(index,s6)\n",
    "rest_r6=list(set(index)-set(r6))\n",
    "r6_valid=random.sample(rest_r6, valid)\n",
    "\n",
    "r7=random.sample(index,s7)\n",
    "rest_r7=list(set(index)-set(r7))\n",
    "r7_valid=random.sample(rest_r7, valid)\n",
    "\n",
    "\n",
    "d1=[hog_features[i] for i in r1]\n",
    "d1_valid=[hog_features[i] for i in r1_valid]\n",
    "\n",
    "d2=[hog_features[i] for i in r2]\n",
    "d2_valid=[hog_features[i] for i in r2_valid]\n",
    "\n",
    "d3=[hog_features[i] for i in r3]\n",
    "d3_valid=[hog_features[i] for i in r3_valid]\n",
    "\n",
    "d4=[hog_features[i] for i in r4]\n",
    "d4_valid=[hog_features[i] for i in r4_valid]\n",
    "\n",
    "d5=[hog_features[i] for i in r5]\n",
    "d5_valid=[hog_features[i] for i in r5_valid]\n",
    "\n",
    "d6=[hog_features[i] for i in r6]\n",
    "d6_valid=[hog_features[i] for i in r6_valid]\n",
    "\n",
    "d7=[hog_features[i] for i in r7]\n",
    "d7_valid=[hog_features[i] for i in r7_valid]\n",
    "\n",
    "all_data=[hog_features[i] for i in index]\n",
    "\n",
    "\n",
    "label1=[y[i][0] for i in r1]\n",
    "label1_valid=[y[i][0] for i in r1_valid]\n",
    "\n",
    "label2=[y[i][0] for i in r2]\n",
    "label2_valid=[y[i][0] for i in r2_valid]\n",
    "\n",
    "label3=[y[i][0] for i in r3]\n",
    "label3_valid=[y[i][0] for i in r3_valid]\n",
    "\n",
    "label4=[y[i][0] for i in r4]\n",
    "label4_valid=[y[i][0] for i in r4_valid]\n",
    "\n",
    "label5=[y[i][0] for i in r5]\n",
    "label5_valid=[y[i][0] for i in r5_valid]\n",
    "\n",
    "label6=[y[i][0] for i in r6]\n",
    "label6_valid=[y[i][0] for i in r6_valid]\n",
    "\n",
    "label7=[y[i][0] for i in r7]\n",
    "label7_valid=[y[i][0] for i in r7_valid]\n",
    "\n",
    "all_label=[y[i][0] for i in index]"
   ]
  },
  {
   "cell_type": "code",
   "execution_count": 9,
   "metadata": {
    "collapsed": false
   },
   "outputs": [
    {
     "name": "stdout",
     "output_type": "stream",
     "text": [
      "74.28\n"
     ]
    }
   ],
   "source": [
    "clf_hog=svm.LinearSVC()\n",
    "clf_hog.fit(d1,label1)\n",
    "pred1=clf_hog.predict(d1_valid)\n",
    "result_100=len([i for i,j in zip(label1_valid,pred1) if i==j])/len(pred1)*100\n",
    "print(result_100)"
   ]
  },
  {
   "cell_type": "code",
   "execution_count": 10,
   "metadata": {
    "collapsed": false
   },
   "outputs": [
    {
     "name": "stdout",
     "output_type": "stream",
     "text": [
      "83.01\n"
     ]
    }
   ],
   "source": [
    "clf_hog=svm.LinearSVC()\n",
    "clf_hog.fit(d2,label2)\n",
    "pred2=clf_hog.predict(d2_valid)\n",
    "result_200=len([i for i,j in zip(label2_valid,pred2) if i==j])/len(pred2)*100\n",
    "print(result_200)"
   ]
  },
  {
   "cell_type": "code",
   "execution_count": 11,
   "metadata": {
    "collapsed": false,
    "scrolled": true
   },
   "outputs": [
    {
     "name": "stdout",
     "output_type": "stream",
     "text": [
      "87.78\n"
     ]
    }
   ],
   "source": [
    "clf_hog=svm.LinearSVC()\n",
    "clf_hog.fit(d3,label3)\n",
    "pred3=clf_hog.predict(d3_valid)\n",
    "result_500=len([i for i,j in zip(label3_valid,pred3) if i==j])/len(pred3)*100\n",
    "print(result_500)"
   ]
  },
  {
   "cell_type": "code",
   "execution_count": 12,
   "metadata": {
    "collapsed": false
   },
   "outputs": [
    {
     "name": "stdout",
     "output_type": "stream",
     "text": [
      "90.29\n"
     ]
    }
   ],
   "source": [
    "clf_hog=svm.LinearSVC()\n",
    "clf_hog.fit(d4,label4)\n",
    "pred4=clf_hog.predict(d4_valid)\n",
    "result_1000=len([i for i,j in zip(label4_valid,pred4) if i==j])/len(pred4)*100\n",
    "print(result_1000)"
   ]
  },
  {
   "cell_type": "code",
   "execution_count": 13,
   "metadata": {
    "collapsed": false
   },
   "outputs": [
    {
     "name": "stdout",
     "output_type": "stream",
     "text": [
      "91.21\n"
     ]
    }
   ],
   "source": [
    "clf_hog=svm.LinearSVC()\n",
    "clf_hog.fit(d5,label5)\n",
    "pred5=clf_hog.predict(d5_valid)\n",
    "result_2000=len([i for i,j in zip(label5_valid,pred5) if i==j])/len(pred5)*100\n",
    "print(result_2000)"
   ]
  },
  {
   "cell_type": "code",
   "execution_count": 14,
   "metadata": {
    "collapsed": false
   },
   "outputs": [
    {
     "name": "stdout",
     "output_type": "stream",
     "text": [
      "93.33\n"
     ]
    }
   ],
   "source": [
    "clf_hog=svm.LinearSVC()\n",
    "clf_hog.fit(d6,label6)\n",
    "pred6=clf_hog.predict(d6_valid)\n",
    "result_5000=len([i for i,j in zip(label6_valid,pred6) if i==j])/len(pred6)*100\n",
    "print(result_5000)"
   ]
  },
  {
   "cell_type": "code",
   "execution_count": 15,
   "metadata": {
    "collapsed": false
   },
   "outputs": [
    {
     "name": "stdout",
     "output_type": "stream",
     "text": [
      "94.59\n"
     ]
    }
   ],
   "source": [
    "clf_hog=svm.LinearSVC()\n",
    "clf_hog.fit(d7,label7)\n",
    "pred7=clf_hog.predict(d7_valid)\n",
    "result_10000=len([i for i,j in zip(label7_valid,pred7) if i==j])/len(pred7)*100\n",
    "print(result_10000)"
   ]
  },
  {
   "cell_type": "code",
   "execution_count": 16,
   "metadata": {
    "collapsed": false
   },
   "outputs": [
    {
     "data": {
      "image/png": "[encoded data removed]",
      "text/plain": [
       "<matplotlib.figure.Figure at 0x169790ad0>"
      ]
     },
     "metadata": {},
     "output_type": "display_data"
    }
   ],
   "source": [
    "import matplotlib.pyplot as plt\n",
    "%matplotlib inline\n",
    "x_axis=[100,200,500,1000,2000,5000,10000]\n",
    "x_ticks=[200, 500,1000,2000,5000,10000]\n",
    "y_axis=[result_100,result_200,result_500,result_1000,result_2000,result_5000,result_10000]\n",
    "plt.figure(figsize=(16,6))\n",
    "plt.xticks(x_ticks)\n",
    "plt.plot(x_axis, y_axis)\n",
    "plt.xlabel(\"Number of training example\")\n",
    "plt.ylabel(\"Accuracy Rate %\")\n",
    "plt.savefig(\"/Users/Luba/Desktop/CS189_spring/hw1/Accuracy_rate.png\")"
   ]
  },
  {
   "cell_type": "code",
   "execution_count": 33,
   "metadata": {
    "collapsed": false
   },
   "outputs": [
    {
     "data": {
      "image/png": "[encoded data removed]",
      "text/plain": [
       "<matplotlib.figure.Figure at 0x19058d9d0>"
      ]
     },
     "metadata": {},
     "output_type": "display_data"
    }
   ],
   "source": [
    "#### #################################      Problem 2      ###############################\n",
    "#####################################################################################\n",
    "\n",
    "\n",
    "from sklearn import metrics as metr\n",
    "plt.matshow(metr.confusion_matrix(label1_valid, pred1))\n",
    "plt.title('Confusion matrix')\n",
    "plt.colorbar()\n",
    "plt.ylabel('Predicted label')\n",
    "plt.xlabel('True label')\n",
    "plt.show()"
   ]
  },
  {
   "cell_type": "code",
   "execution_count": 18,
   "metadata": {
    "collapsed": false,
    "scrolled": true
   },
   "outputs": [
    {
     "data": {
      "image/png": "[encoded data removed]",
      "text/plain": [
       "<matplotlib.figure.Figure at 0x1697a0790>"
      ]
     },
     "metadata": {},
     "output_type": "display_data"
    }
   ],
   "source": [
    "from sklearn import metrics as metr\n",
    "plt.matshow(metr.confusion_matrix(label2_valid, pred2))\n",
    "plt.title('Confusion matrix')\n",
    "plt.colorbar()\n",
    "plt.ylabel('Predicted label')\n",
    "plt.xlabel('True label')\n",
    "plt.show()"
   ]
  },
  {
   "cell_type": "code",
   "execution_count": 19,
   "metadata": {
    "collapsed": false
   },
   "outputs": [
    {
     "data": {
      "image/png": "[encoded data removed]",
      "text/plain": [
       "<matplotlib.figure.Figure at 0x18ffbe4d0>"
      ]
     },
     "metadata": {},
     "output_type": "display_data"
    }
   ],
   "source": [
    "from sklearn import metrics as metr\n",
    "plt.matshow(metr.confusion_matrix(label3_valid, pred3))\n",
    "plt.title('Confusion matrix')\n",
    "plt.colorbar()\n",
    "plt.ylabel('Predicted label')\n",
    "plt.xlabel('True label')\n",
    "plt.show()"
   ]
  },
  {
   "cell_type": "code",
   "execution_count": 20,
   "metadata": {
    "collapsed": false
   },
   "outputs": [
    {
     "data": {
      "image/png": "[encoded data removed]",
      "text/plain": [
       "<matplotlib.figure.Figure at 0x18e64a750>"
      ]
     },
     "metadata": {},
     "output_type": "display_data"
    }
   ],
   "source": [
    "from sklearn import metrics as metr\n",
    "plt.matshow(metr.confusion_matrix(label4_valid, pred4))\n",
    "plt.title('Confusion matrix')\n",
    "plt.colorbar()\n",
    "plt.ylabel('Predicted label')\n",
    "plt.xlabel('True label')\n",
    "plt.show()"
   ]
  },
  {
   "cell_type": "code",
   "execution_count": 21,
   "metadata": {
    "collapsed": false
   },
   "outputs": [
    {
     "data": {
      "image/png": "[encoded data removed]",
      "text/plain": [
       "<matplotlib.figure.Figure at 0x1903a5410>"
      ]
     },
     "metadata": {},
     "output_type": "display_data"
    }
   ],
   "source": [
    "from sklearn import metrics as metr\n",
    "plt.matshow(metr.confusion_matrix(label5_valid, pred5))\n",
    "plt.title('Confusion matrix')\n",
    "plt.colorbar()\n",
    "plt.ylabel('Predicted label')\n",
    "plt.xlabel('True label')\n",
    "plt.show()"
   ]
  },
  {
   "cell_type": "code",
   "execution_count": 22,
   "metadata": {
    "collapsed": false
   },
   "outputs": [
    {
     "data": {
      "image/png": "[encoded data removed]",
      "text/plain": [
       "<matplotlib.figure.Figure at 0x18e66f450>"
      ]
     },
     "metadata": {},
     "output_type": "display_data"
    }
   ],
   "source": [
    "from sklearn import metrics as metr\n",
    "plt.matshow(metr.confusion_matrix(label6_valid, pred6))\n",
    "plt.title('Confusion matrix')\n",
    "plt.colorbar()\n",
    "plt.ylabel('Predicted label')\n",
    "plt.xlabel('True label')\n",
    "plt.show()"
   ]
  },
  {
   "cell_type": "code",
   "execution_count": 23,
   "metadata": {
    "collapsed": false
   },
   "outputs": [
    {
     "data": {
      "image/png": "[encoded data removed]",
      "text/plain": [
       "<matplotlib.figure.Figure at 0x190480e90>"
      ]
     },
     "metadata": {},
     "output_type": "display_data"
    }
   ],
   "source": [
    "from sklearn import metrics as metr\n",
    "plt.matshow(metr.confusion_matrix(label7_valid, pred7))\n",
    "plt.title('Confusion matrix')\n",
    "plt.colorbar()\n",
    "plt.ylabel('Predicted label')\n",
    "plt.xlabel('True label')\n",
    "plt.show()"
   ]
  },
  {
   "cell_type": "code",
   "execution_count": 24,
   "metadata": {
    "collapsed": false
   },
   "outputs": [],
   "source": [
    "#####################################################################################\n",
    "#################################      Problem 3      ###############################\n",
    "#####################################################################################\n",
    "\n",
    "\n",
    "c_values=[0.0001, 0.01, 0.05, 0.1, 0.3, 0.5, 1, 10, 100, 1000]\n",
    "\n",
    "\n",
    "kfold=d7\n",
    "kfold_label=label7\n",
    "\n",
    "average_performance=[]\n",
    "for c_value in c_values:\n",
    "    #print(c_value)\n",
    "    clf_k=svm.LinearSVC(C=c_value)\n",
    "    accuracies=[]\n",
    "    for i in range(10):\n",
    "        index_range1_1=0\n",
    "        index_range1_2=i*1000\n",
    "        index_range2_1=(i+1)*1000\n",
    "        index_range2_2=10000\n",
    "        \n",
    "        ktrain_data=kfold[index_range1_1:index_range1_2]+kfold[index_range2_1:index_range2_2]\n",
    "        klabel_data=kfold_label[index_range1_1:index_range1_2]+kfold_label[index_range2_1:index_range2_2]\n",
    "        \n",
    "        test_range_1=i*1000\n",
    "        test_range_2=(i+1)*1000\n",
    "        ktest_data=kfold[test_range_1:test_range_2]\n",
    "        ktest_lab=kfold_label[test_range_1:test_range_2]\n",
    "        \n",
    "        clf_k.fit(ktrain_data, klabel_data)\n",
    "        pred_label=clf_k.predict(ktest_data)\n",
    "        accuracy=len([i for i,j in zip(ktest_lab,pred_label) if i==j])/len(pred_label)*100\n",
    "        accuracies.append(accuracy)\n",
    "    ave=sum(accuracies)/len(accuracies)\n",
    "    average_performance.append(ave)\n",
    "    #print(average_performance)\n",
    "    "
   ]
  },
  {
   "cell_type": "code",
   "execution_count": 26,
   "metadata": {
    "collapsed": false
   },
   "outputs": [
    {
     "name": "stdout",
     "output_type": "stream",
     "text": [
      "[ 84.86  94.07  94.91  95.07  95.08  94.84  94.52  93.77  93.08  92.88]\n"
     ]
    }
   ],
   "source": [
    "print(np.around(average_performance, 5))"
   ]
  },
  {
   "cell_type": "code",
   "execution_count": 27,
   "metadata": {
    "collapsed": false
   },
   "outputs": [
    {
     "name": "stdout",
     "output_type": "stream",
     "text": [
      "95.05\n"
     ]
    }
   ],
   "source": [
    "clf_hog=svm.LinearSVC(C=0.3)\n",
    "clf_hog.fit(d7,label7)\n",
    "pred7=clf_hog.predict(d7_valid)\n",
    "result_10000=len([i for i,j in zip(label7_valid,pred7) if i==j])/len(pred7)*100\n",
    "print(result_10000)"
   ]
  },
  {
   "cell_type": "code",
   "execution_count": 28,
   "metadata": {
    "collapsed": false
   },
   "outputs": [],
   "source": [
    "import random \n",
    "from sklearn import svm \n",
    "import scipy.io as spy\n",
    "from __future__ import division\n",
    "\n",
    "\n",
    "data_path=\"/Users/Luba/Desktop/CS189_spring/hw1/data/digit-dataset\"\n",
    "\n",
    "digit_test_data=spy.loadmat(data_path+\"/test.mat\")"
   ]
  },
  {
   "cell_type": "code",
   "execution_count": 29,
   "metadata": {
    "collapsed": false
   },
   "outputs": [],
   "source": [
    "digit_test_image=digit_test_data.get('test_images')"
   ]
  },
  {
   "cell_type": "code",
   "execution_count": 30,
   "metadata": {
    "collapsed": false
   },
   "outputs": [],
   "source": [
    "digit_test_vector=[]\n",
    "for k in range(len(digit_test_image)):\n",
    "    element=[]\n",
    "    for i in range(28):\n",
    "        for j in range(28):\n",
    "            element.append(digit_test_image[k][j][i])\n",
    "    digit_test_vector.append(element)\n"
   ]
  },
  {
   "cell_type": "code",
   "execution_count": 31,
   "metadata": {
    "collapsed": true
   },
   "outputs": [],
   "source": [
    "test_features=np.array(digit_test_vector)"
   ]
  },
  {
   "cell_type": "code",
   "execution_count": 32,
   "metadata": {
    "collapsed": true
   },
   "outputs": [],
   "source": [
    "list_hog_fd_test = []\n",
    "for feature in test_features:\n",
    "    fd = hog(feature.reshape((28, 28)), orientations=9, pixels_per_cell=(4, 4), \n",
    "             cells_per_block=(1, 1), visualise=False)\n",
    "    list_hog_fd_test.append(fd)\n",
    "hog_features_test = np.array(list_hog_fd_test, 'float64')"
   ]
  },
  {
   "cell_type": "code",
   "execution_count": 34,
   "metadata": {
    "collapsed": false
   },
   "outputs": [],
   "source": [
    "clf_hog=svm.LinearSVC(C=0.3)\n",
    "clf_hog.fit(d7,label7)\n",
    "\n",
    "digit_pred_test_hog=clf_k.predict(hog_features_test)"
   ]
  },
  {
   "cell_type": "code",
   "execution_count": 36,
   "metadata": {
    "collapsed": false
   },
   "outputs": [
    {
     "data": {
      "image/png": "[encoded data removed]",
      "text/plain": [
       "<matplotlib.figure.Figure at 0x1903c2c10>"
      ]
     },
     "metadata": {},
     "output_type": "display_data"
    }
   ],
   "source": [
    "plot_digit(test_features[4556])"
   ]
  },
  {
   "cell_type": "code",
   "execution_count": 37,
   "metadata": {
    "collapsed": false
   },
   "outputs": [],
   "source": [
    "import csv\n",
    "writer=csv.writer(open(\"/Users/Luba/Desktop/CS189_spring/hw1/digit_test_hog.csv\", 'wb'))\n",
    "for elem in digit_pred_test_hog:\n",
    "    l=[elem]\n",
    "    writer.writerow(l)       "
   ]
  },
  {
   "cell_type": "code",
   "execution_count": 35,
   "metadata": {
    "collapsed": false
   },
   "outputs": [],
   "source": [
    "#####################################################################################\n",
    "#################################      Problem 4      ###############################\n",
    "#####################################################################################\n",
    "\n",
    "spam_data_path=\"/Users/Luba/Desktop/CS189_spring/hw1/data/spam-dataset\"\n",
    "spam_data=spy.loadmat(spam_data_path+\"/spam_data.mat\")"
   ]
  },
  {
   "cell_type": "code",
   "execution_count": 36,
   "metadata": {
    "collapsed": false
   },
   "outputs": [],
   "source": [
    "spam_training_data=spam_data.get('training_data')\n",
    "spam_training_labels=spam_data.get('training_labels')\n",
    "spam_training_labels=spam_training_labels[0]\n",
    "spam_test_data=spam_data.get('test_data')\n",
    "\n",
    "spam_tdata_vector=[]\n",
    "spam_ldata_vector=[]\n",
    "\n",
    "for i in range(len(spam_training_data)):\n",
    "    email=[]\n",
    "    for j in range(len(spam_training_data[0])):\n",
    "        email.append(spam_training_data[i][j])\n",
    "    spam_tdata_vector.append(email)\n",
    "for i in range(len(spam_training_labels)):\n",
    "    spam_ldata_vector.append(spam_training_labels[i])\n",
    "\n",
    "spam_test_data_vector=[]\n",
    "for i in range(len(spam_test_data)):\n",
    "    spam_test_data_vector.append(spam_test_data[i])"
   ]
  },
  {
   "cell_type": "code",
   "execution_count": 37,
   "metadata": {
    "collapsed": false
   },
   "outputs": [
    {
     "name": "stdout",
     "output_type": "stream",
     "text": [
      "36\n"
     ]
    }
   ],
   "source": [
    "#number of features\n",
    "print(len(spam_tdata_vector[0]))"
   ]
  },
  {
   "cell_type": "code",
   "execution_count": 41,
   "metadata": {
    "collapsed": false
   },
   "outputs": [],
   "source": [
    "s_average_performace=[]\n",
    "c_values=[0.0000001, 0.00001, 0.001, 0.1, 1, 10, 100, 1000, 10000]\n",
    "\n",
    "for c_value in c_values:\n",
    "    clf_spam=svm.LinearSVC(C=c_value)\n",
    "    accuracies=[]\n",
    "    for i in range(10):\n",
    "        range11=0\n",
    "        range12=i*517\n",
    "        range21=(i+1)*517\n",
    "        range22=5172\n",
    "        \n",
    "        s_train_data=spam_tdata_vector[range11:range12] + spam_tdata_vector[range21:range22]\n",
    "        s_train_labels=spam_ldata_vector[range11:range12] + spam_ldata_vector[range21:range22]    \n",
    "        \n",
    "        s_test_range1=i*517\n",
    "        s_test_range2=(i+1)*517\n",
    "        \n",
    "        s_test_data=spam_tdata_vector[s_test_range1:s_test_range2]\n",
    "        s_test_labels=spam_ldata_vector[s_test_range1:s_test_range2]\n",
    "        \n",
    "        clf_spam.fit(s_train_data, s_train_labels)\n",
    "        s_pred_labels=clf_spam.predict(s_test_data)\n",
    "        \n",
    "        accuracy=len([i for i,j in zip(s_test_labels, s_pred_labels) if i==j])/len(s_pred_labels)*100\n",
    "        accuracies.append(accuracy)\n",
    "    s_ave=sum(accuracies)/len(accuracies)\n",
    "    s_average_performace.append(s_ave)\n",
    "                                                                                     "
   ]
  },
  {
   "cell_type": "code",
   "execution_count": 42,
   "metadata": {
    "collapsed": false
   },
   "outputs": [
    {
     "name": "stdout",
     "output_type": "stream",
     "text": [
      "[69.168278529980654, 69.92263056092844, 74.796905222437118, 77.911025145067711, 78.104448742746612, 78.665377176015483, 78.355899419729198, 77.311411992263046, 70.58027079303676]\n"
     ]
    }
   ],
   "source": [
    "print(s_average_performace)"
   ]
  },
  {
   "cell_type": "code",
   "execution_count": 43,
   "metadata": {
    "collapsed": false,
    "scrolled": true
   },
   "outputs": [
    {
     "data": {
      "text/plain": [
       "LinearSVC(C=10, class_weight=None, dual=True, fit_intercept=True,\n",
       "     intercept_scaling=1, loss='squared_hinge', max_iter=1000,\n",
       "     multi_class='ovr', penalty='l2', random_state=None, tol=0.0001,\n",
       "     verbose=0)"
      ]
     },
     "execution_count": 43,
     "metadata": {},
     "output_type": "execute_result"
    }
   ],
   "source": [
    "clf_spam=svm.LinearSVC(C=10)\n",
    "clf_spam.fit(spam_tdata_vector, spam_ldata_vector)"
   ]
  },
  {
   "cell_type": "code",
   "execution_count": 44,
   "metadata": {
    "collapsed": true
   },
   "outputs": [],
   "source": [
    "s_pred_test=clf_spam.predict(spam_test_data_vector)"
   ]
  },
  {
   "cell_type": "code",
   "execution_count": 22,
   "metadata": {
    "collapsed": false
   },
   "outputs": [
    {
     "name": "stdout",
     "output_type": "stream",
     "text": [
      "5857\n"
     ]
    }
   ],
   "source": [
    "print(len(s_pred_test))"
   ]
  },
  {
   "cell_type": "code",
   "execution_count": 45,
   "metadata": {
    "collapsed": false
   },
   "outputs": [],
   "source": [
    "import csv\n",
    "writer_spam=csv.writer(open(\"/Users/Luba/Desktop/CS189_spring/hw1/spam_test.csv\", 'wb'))\n",
    "for elem in s_pred_test:\n",
    "    l=[elem]\n",
    "    writer_spam.writerow(l)"
   ]
  }
 ],
 "metadata": {
  "kernelspec": {
   "display_name": "Python 2",
   "language": "python",
   "name": "python2"
  },
  "language_info": {
   "codemirror_mode": {
    "name": "ipython",
    "version": 2
   },
   "file_extension": ".py",
   "mimetype": "text/x-python",
   "name": "python",
   "nbconvert_exporter": "python",
   "pygments_lexer": "ipython2",
   "version": "2.7.11"
  }
 },
 "nbformat": 4,
 "nbformat_minor": 0
}
